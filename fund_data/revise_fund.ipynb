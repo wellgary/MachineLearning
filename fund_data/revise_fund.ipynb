{
 "cells": [
  {
   "cell_type": "code",
   "execution_count": 690,
   "metadata": {},
   "outputs": [],
   "source": [
    "import pandas as pd\n",
    "import numpy as np\n",
    "import time\n",
    "import math\n",
    "import talib\n",
    "from sklearn import preprocessing\n",
    "from keras.models import Sequential\n",
    "from keras.layers.core import Dense, Dropout, Activation\n",
    "from keras.layers.recurrent import LSTM\n",
    "import keras\n",
    "import matplotlib.pyplot as plt\n",
    "%matplotlib inline  "
   ]
  },
  {
   "cell_type": "markdown",
   "metadata": {},
   "source": [
    "# 讀取資料"
   ]
  },
  {
   "cell_type": "code",
   "execution_count": 479,
   "metadata": {},
   "outputs": [],
   "source": [
    "fund_data = pd.read_csv(\"fundNav.csv\", encoding=\"big5\")"
   ]
  },
  {
   "cell_type": "code",
   "execution_count": 480,
   "metadata": {},
   "outputs": [],
   "source": [
    "fund_data.columns = ['code', 'date', 'price', 'currency']"
   ]
  },
  {
   "cell_type": "code",
   "execution_count": 481,
   "metadata": {},
   "outputs": [],
   "source": [
    "unique_code = np.unique(fund_data[\"code\"])"
   ]
  },
  {
   "cell_type": "code",
   "execution_count": 482,
   "metadata": {},
   "outputs": [
    {
     "data": {
      "text/plain": [
       "500"
      ]
     },
     "execution_count": 482,
     "metadata": {},
     "output_type": "execute_result"
    }
   ],
   "source": [
    "len(unique_code)"
   ]
  },
  {
   "cell_type": "code",
   "execution_count": 483,
   "metadata": {},
   "outputs": [
    {
     "data": {
      "text/plain": [
       "'Fund_001'"
      ]
     },
     "execution_count": 483,
     "metadata": {},
     "output_type": "execute_result"
    }
   ],
   "source": [
    "unique_code[0]"
   ]
  },
  {
   "cell_type": "markdown",
   "metadata": {},
   "source": [
    "# 分群"
   ]
  },
  {
   "cell_type": "code",
   "execution_count": 484,
   "metadata": {},
   "outputs": [],
   "source": [
    "group_fund_data = fund_data.groupby(\"code\")"
   ]
  },
  {
   "cell_type": "code",
   "execution_count": 485,
   "metadata": {},
   "outputs": [],
   "source": [
    "test = group_fund_data.get_group(unique_code[0])"
   ]
  },
  {
   "cell_type": "code",
   "execution_count": 486,
   "metadata": {},
   "outputs": [
    {
     "data": {
      "text/html": [
       "<div>\n",
       "<style scoped>\n",
       "    .dataframe tbody tr th:only-of-type {\n",
       "        vertical-align: middle;\n",
       "    }\n",
       "\n",
       "    .dataframe tbody tr th {\n",
       "        vertical-align: top;\n",
       "    }\n",
       "\n",
       "    .dataframe thead th {\n",
       "        text-align: right;\n",
       "    }\n",
       "</style>\n",
       "<table border=\"1\" class=\"dataframe\">\n",
       "  <thead>\n",
       "    <tr style=\"text-align: right;\">\n",
       "      <th></th>\n",
       "      <th>code</th>\n",
       "      <th>date</th>\n",
       "      <th>price</th>\n",
       "      <th>currency</th>\n",
       "    </tr>\n",
       "  </thead>\n",
       "  <tbody>\n",
       "    <tr>\n",
       "      <th>0</th>\n",
       "      <td>Fund_001</td>\n",
       "      <td>20130701</td>\n",
       "      <td>17.50</td>\n",
       "      <td>美元</td>\n",
       "    </tr>\n",
       "    <tr>\n",
       "      <th>1</th>\n",
       "      <td>Fund_001</td>\n",
       "      <td>20130702</td>\n",
       "      <td>17.62</td>\n",
       "      <td>美元</td>\n",
       "    </tr>\n",
       "    <tr>\n",
       "      <th>2</th>\n",
       "      <td>Fund_001</td>\n",
       "      <td>20130703</td>\n",
       "      <td>17.58</td>\n",
       "      <td>美元</td>\n",
       "    </tr>\n",
       "    <tr>\n",
       "      <th>3</th>\n",
       "      <td>Fund_001</td>\n",
       "      <td>20130704</td>\n",
       "      <td>17.60</td>\n",
       "      <td>美元</td>\n",
       "    </tr>\n",
       "    <tr>\n",
       "      <th>4</th>\n",
       "      <td>Fund_001</td>\n",
       "      <td>20130705</td>\n",
       "      <td>17.60</td>\n",
       "      <td>美元</td>\n",
       "    </tr>\n",
       "  </tbody>\n",
       "</table>\n",
       "</div>"
      ],
      "text/plain": [
       "       code      date  price currency\n",
       "0  Fund_001  20130701  17.50       美元\n",
       "1  Fund_001  20130702  17.62       美元\n",
       "2  Fund_001  20130703  17.58       美元\n",
       "3  Fund_001  20130704  17.60       美元\n",
       "4  Fund_001  20130705  17.60       美元"
      ]
     },
     "execution_count": 486,
     "metadata": {},
     "output_type": "execute_result"
    }
   ],
   "source": [
    "test.head()"
   ]
  },
  {
   "cell_type": "markdown",
   "metadata": {},
   "source": [
    "# 將500檔基金的日期合併(以日期最多的基金為基準)"
   ]
  },
  {
   "cell_type": "markdown",
   "metadata": {},
   "source": [
    "### 先找出日期最多的基金"
   ]
  },
  {
   "cell_type": "code",
   "execution_count": 487,
   "metadata": {},
   "outputs": [],
   "source": [
    "max_len = len(group_fund_data.get_group(unique_code[0]))\n",
    "max_len_index = 0\n",
    "for i in range(1,500):\n",
    "    loop_len = len(group_fund_data.get_group(unique_code[i]))\n",
    "    if(loop_len > max_len):\n",
    "        max_len = loop_len\n",
    "        max_len_index = i"
   ]
  },
  {
   "cell_type": "code",
   "execution_count": 488,
   "metadata": {},
   "outputs": [
    {
     "data": {
      "text/plain": [
       "1454"
      ]
     },
     "execution_count": 488,
     "metadata": {},
     "output_type": "execute_result"
    }
   ],
   "source": [
    "max_len"
   ]
  },
  {
   "cell_type": "code",
   "execution_count": 489,
   "metadata": {},
   "outputs": [
    {
     "data": {
      "text/plain": [
       "92"
      ]
     },
     "execution_count": 489,
     "metadata": {},
     "output_type": "execute_result"
    }
   ],
   "source": [
    "max_len_index"
   ]
  },
  {
   "cell_type": "markdown",
   "metadata": {},
   "source": [
    "### 將第93檔基金放到unique_code的第一個，依序將其他放入"
   ]
  },
  {
   "cell_type": "code",
   "execution_count": 490,
   "metadata": {},
   "outputs": [],
   "source": [
    "revise_unique_code = []\n",
    "revise_unique_code.append(unique_code[92])"
   ]
  },
  {
   "cell_type": "code",
   "execution_count": 491,
   "metadata": {},
   "outputs": [],
   "source": [
    "for i in range(0,92):\n",
    "    revise_unique_code.append(unique_code[i])\n",
    "for i in range(93,500):\n",
    "    revise_unique_code.append(unique_code[i])"
   ]
  },
  {
   "cell_type": "code",
   "execution_count": 492,
   "metadata": {},
   "outputs": [
    {
     "data": {
      "text/plain": [
       "['Fund_093', 'Fund_001', 'Fund_002', 'Fund_003', 'Fund_004']"
      ]
     },
     "execution_count": 492,
     "metadata": {},
     "output_type": "execute_result"
    }
   ],
   "source": [
    "revise_unique_code[0:5]"
   ]
  },
  {
   "cell_type": "markdown",
   "metadata": {},
   "source": [
    "### 以第93檔基金的日期做為基準，並合併"
   ]
  },
  {
   "cell_type": "code",
   "execution_count": 493,
   "metadata": {},
   "outputs": [],
   "source": [
    "outside_data = group_fund_data.get_group(revise_unique_code[0])\n",
    "outside_data.index = outside_data.date\n",
    "outside_data = outside_data.iloc[:,2:3]\n",
    "outside_data.columns = [revise_unique_code[0]]"
   ]
  },
  {
   "cell_type": "code",
   "execution_count": 494,
   "metadata": {},
   "outputs": [
    {
     "data": {
      "text/html": [
       "<div>\n",
       "<style scoped>\n",
       "    .dataframe tbody tr th:only-of-type {\n",
       "        vertical-align: middle;\n",
       "    }\n",
       "\n",
       "    .dataframe tbody tr th {\n",
       "        vertical-align: top;\n",
       "    }\n",
       "\n",
       "    .dataframe thead th {\n",
       "        text-align: right;\n",
       "    }\n",
       "</style>\n",
       "<table border=\"1\" class=\"dataframe\">\n",
       "  <thead>\n",
       "    <tr style=\"text-align: right;\">\n",
       "      <th></th>\n",
       "      <th>Fund_093</th>\n",
       "    </tr>\n",
       "    <tr>\n",
       "      <th>date</th>\n",
       "      <th></th>\n",
       "    </tr>\n",
       "  </thead>\n",
       "  <tbody>\n",
       "    <tr>\n",
       "      <th>20130701</th>\n",
       "      <td>1043.0</td>\n",
       "    </tr>\n",
       "    <tr>\n",
       "      <th>20130702</th>\n",
       "      <td>1057.0</td>\n",
       "    </tr>\n",
       "    <tr>\n",
       "      <th>20130703</th>\n",
       "      <td>1058.0</td>\n",
       "    </tr>\n",
       "    <tr>\n",
       "      <th>20130704</th>\n",
       "      <td>1051.0</td>\n",
       "    </tr>\n",
       "    <tr>\n",
       "      <th>20130705</th>\n",
       "      <td>1072.0</td>\n",
       "    </tr>\n",
       "  </tbody>\n",
       "</table>\n",
       "</div>"
      ],
      "text/plain": [
       "          Fund_093\n",
       "date              \n",
       "20130701    1043.0\n",
       "20130702    1057.0\n",
       "20130703    1058.0\n",
       "20130704    1051.0\n",
       "20130705    1072.0"
      ]
     },
     "execution_count": 494,
     "metadata": {},
     "output_type": "execute_result"
    }
   ],
   "source": [
    "outside_data.head()"
   ]
  },
  {
   "cell_type": "code",
   "execution_count": 495,
   "metadata": {},
   "outputs": [],
   "source": [
    "for i in range(1, len(revise_unique_code)):\n",
    "    loop_data = group_fund_data.get_group(revise_unique_code[i])\n",
    "    loop_data.index = loop_data.date\n",
    "    loop_data = loop_data.iloc[:,2:3]\n",
    "    loop_data.columns = [revise_unique_code[i]]\n",
    "    outside_data = pd.concat([outside_data, loop_data], axis=1, join_axes=[outside_data.index])"
   ]
  },
  {
   "cell_type": "code",
   "execution_count": 496,
   "metadata": {},
   "outputs": [],
   "source": [
    "merge_fund_data = outside_data.dropna()"
   ]
  },
  {
   "cell_type": "code",
   "execution_count": 497,
   "metadata": {},
   "outputs": [
    {
     "name": "stderr",
     "output_type": "stream",
     "text": [
      "C:\\Users\\a2224\\Anaconda3\\lib\\site-packages\\ipykernel_launcher.py:1: SettingWithCopyWarning: \n",
      "A value is trying to be set on a copy of a slice from a DataFrame.\n",
      "Try using .loc[row_indexer,col_indexer] = value instead\n",
      "\n",
      "See the caveats in the documentation: http://pandas.pydata.org/pandas-docs/stable/indexing.html#indexing-view-versus-copy\n",
      "  \"\"\"Entry point for launching an IPython kernel.\n"
     ]
    }
   ],
   "source": [
    "merge_fund_data[\"date\"] = merge_fund_data.index"
   ]
  },
  {
   "cell_type": "code",
   "execution_count": 498,
   "metadata": {},
   "outputs": [],
   "source": [
    "merge_fund_data.index = range(0, len(merge_fund_data))"
   ]
  },
  {
   "cell_type": "code",
   "execution_count": 499,
   "metadata": {},
   "outputs": [
    {
     "data": {
      "text/html": [
       "<div>\n",
       "<style scoped>\n",
       "    .dataframe tbody tr th:only-of-type {\n",
       "        vertical-align: middle;\n",
       "    }\n",
       "\n",
       "    .dataframe tbody tr th {\n",
       "        vertical-align: top;\n",
       "    }\n",
       "\n",
       "    .dataframe thead th {\n",
       "        text-align: right;\n",
       "    }\n",
       "</style>\n",
       "<table border=\"1\" class=\"dataframe\">\n",
       "  <thead>\n",
       "    <tr style=\"text-align: right;\">\n",
       "      <th></th>\n",
       "      <th>Fund_093</th>\n",
       "      <th>Fund_001</th>\n",
       "      <th>Fund_002</th>\n",
       "      <th>Fund_003</th>\n",
       "      <th>Fund_004</th>\n",
       "      <th>Fund_005</th>\n",
       "      <th>Fund_006</th>\n",
       "      <th>Fund_007</th>\n",
       "      <th>Fund_008</th>\n",
       "      <th>Fund_009</th>\n",
       "      <th>...</th>\n",
       "      <th>Fund_492</th>\n",
       "      <th>Fund_493</th>\n",
       "      <th>Fund_494</th>\n",
       "      <th>Fund_495</th>\n",
       "      <th>Fund_496</th>\n",
       "      <th>Fund_497</th>\n",
       "      <th>Fund_498</th>\n",
       "      <th>Fund_499</th>\n",
       "      <th>Fund_500</th>\n",
       "      <th>date</th>\n",
       "    </tr>\n",
       "  </thead>\n",
       "  <tbody>\n",
       "    <tr>\n",
       "      <th>0</th>\n",
       "      <td>1057.0</td>\n",
       "      <td>17.82</td>\n",
       "      <td>9.35</td>\n",
       "      <td>10.48</td>\n",
       "      <td>204.1597</td>\n",
       "      <td>14.69</td>\n",
       "      <td>92.28</td>\n",
       "      <td>102.93</td>\n",
       "      <td>68.06</td>\n",
       "      <td>2.5376</td>\n",
       "      <td>...</td>\n",
       "      <td>23.23</td>\n",
       "      <td>11.50</td>\n",
       "      <td>114.91</td>\n",
       "      <td>15.25</td>\n",
       "      <td>6.94</td>\n",
       "      <td>18.64</td>\n",
       "      <td>16.47</td>\n",
       "      <td>10.16</td>\n",
       "      <td>21.59</td>\n",
       "      <td>20130708</td>\n",
       "    </tr>\n",
       "    <tr>\n",
       "      <th>1</th>\n",
       "      <td>1083.0</td>\n",
       "      <td>18.07</td>\n",
       "      <td>9.32</td>\n",
       "      <td>10.51</td>\n",
       "      <td>204.1607</td>\n",
       "      <td>14.69</td>\n",
       "      <td>93.00</td>\n",
       "      <td>104.04</td>\n",
       "      <td>69.30</td>\n",
       "      <td>2.5701</td>\n",
       "      <td>...</td>\n",
       "      <td>23.28</td>\n",
       "      <td>11.54</td>\n",
       "      <td>114.95</td>\n",
       "      <td>15.32</td>\n",
       "      <td>6.98</td>\n",
       "      <td>18.82</td>\n",
       "      <td>16.70</td>\n",
       "      <td>10.22</td>\n",
       "      <td>21.62</td>\n",
       "      <td>20130710</td>\n",
       "    </tr>\n",
       "    <tr>\n",
       "      <th>2</th>\n",
       "      <td>1080.0</td>\n",
       "      <td>18.07</td>\n",
       "      <td>9.36</td>\n",
       "      <td>10.53</td>\n",
       "      <td>204.1613</td>\n",
       "      <td>14.79</td>\n",
       "      <td>94.38</td>\n",
       "      <td>106.58</td>\n",
       "      <td>73.82</td>\n",
       "      <td>2.5690</td>\n",
       "      <td>...</td>\n",
       "      <td>23.35</td>\n",
       "      <td>11.57</td>\n",
       "      <td>115.17</td>\n",
       "      <td>15.13</td>\n",
       "      <td>7.11</td>\n",
       "      <td>19.11</td>\n",
       "      <td>17.08</td>\n",
       "      <td>10.30</td>\n",
       "      <td>21.70</td>\n",
       "      <td>20130711</td>\n",
       "    </tr>\n",
       "    <tr>\n",
       "      <th>3</th>\n",
       "      <td>1096.0</td>\n",
       "      <td>18.36</td>\n",
       "      <td>9.35</td>\n",
       "      <td>10.54</td>\n",
       "      <td>204.1618</td>\n",
       "      <td>14.79</td>\n",
       "      <td>94.45</td>\n",
       "      <td>107.30</td>\n",
       "      <td>72.79</td>\n",
       "      <td>2.5876</td>\n",
       "      <td>...</td>\n",
       "      <td>23.47</td>\n",
       "      <td>11.58</td>\n",
       "      <td>115.26</td>\n",
       "      <td>15.17</td>\n",
       "      <td>7.10</td>\n",
       "      <td>19.15</td>\n",
       "      <td>17.05</td>\n",
       "      <td>10.34</td>\n",
       "      <td>21.72</td>\n",
       "      <td>20130712</td>\n",
       "    </tr>\n",
       "    <tr>\n",
       "      <th>4</th>\n",
       "      <td>1106.0</td>\n",
       "      <td>18.47</td>\n",
       "      <td>9.38</td>\n",
       "      <td>10.57</td>\n",
       "      <td>204.1638</td>\n",
       "      <td>14.88</td>\n",
       "      <td>94.52</td>\n",
       "      <td>108.20</td>\n",
       "      <td>75.36</td>\n",
       "      <td>2.5952</td>\n",
       "      <td>...</td>\n",
       "      <td>23.60</td>\n",
       "      <td>11.61</td>\n",
       "      <td>115.57</td>\n",
       "      <td>15.21</td>\n",
       "      <td>7.15</td>\n",
       "      <td>19.20</td>\n",
       "      <td>17.05</td>\n",
       "      <td>10.40</td>\n",
       "      <td>21.84</td>\n",
       "      <td>20130716</td>\n",
       "    </tr>\n",
       "  </tbody>\n",
       "</table>\n",
       "<p>5 rows × 501 columns</p>\n",
       "</div>"
      ],
      "text/plain": [
       "   Fund_093  Fund_001  Fund_002  Fund_003  Fund_004  Fund_005  Fund_006  \\\n",
       "0    1057.0     17.82      9.35     10.48  204.1597     14.69     92.28   \n",
       "1    1083.0     18.07      9.32     10.51  204.1607     14.69     93.00   \n",
       "2    1080.0     18.07      9.36     10.53  204.1613     14.79     94.38   \n",
       "3    1096.0     18.36      9.35     10.54  204.1618     14.79     94.45   \n",
       "4    1106.0     18.47      9.38     10.57  204.1638     14.88     94.52   \n",
       "\n",
       "   Fund_007  Fund_008  Fund_009    ...     Fund_492  Fund_493  Fund_494  \\\n",
       "0    102.93     68.06    2.5376    ...        23.23     11.50    114.91   \n",
       "1    104.04     69.30    2.5701    ...        23.28     11.54    114.95   \n",
       "2    106.58     73.82    2.5690    ...        23.35     11.57    115.17   \n",
       "3    107.30     72.79    2.5876    ...        23.47     11.58    115.26   \n",
       "4    108.20     75.36    2.5952    ...        23.60     11.61    115.57   \n",
       "\n",
       "   Fund_495  Fund_496  Fund_497  Fund_498  Fund_499  Fund_500      date  \n",
       "0     15.25      6.94     18.64     16.47     10.16     21.59  20130708  \n",
       "1     15.32      6.98     18.82     16.70     10.22     21.62  20130710  \n",
       "2     15.13      7.11     19.11     17.08     10.30     21.70  20130711  \n",
       "3     15.17      7.10     19.15     17.05     10.34     21.72  20130712  \n",
       "4     15.21      7.15     19.20     17.05     10.40     21.84  20130716  \n",
       "\n",
       "[5 rows x 501 columns]"
      ]
     },
     "execution_count": 499,
     "metadata": {},
     "output_type": "execute_result"
    }
   ],
   "source": [
    "merge_fund_data.head()"
   ]
  },
  {
   "cell_type": "markdown",
   "metadata": {},
   "source": [
    "# 讀取總經資料"
   ]
  },
  {
   "cell_type": "markdown",
   "metadata": {},
   "source": [
    "### 原資料"
   ]
  },
  {
   "cell_type": "code",
   "execution_count": 500,
   "metadata": {},
   "outputs": [],
   "source": [
    "basic_data = merge_fund_data.iloc[:,0:1]"
   ]
  },
  {
   "cell_type": "code",
   "execution_count": 501,
   "metadata": {},
   "outputs": [
    {
     "data": {
      "text/html": [
       "<div>\n",
       "<style scoped>\n",
       "    .dataframe tbody tr th:only-of-type {\n",
       "        vertical-align: middle;\n",
       "    }\n",
       "\n",
       "    .dataframe tbody tr th {\n",
       "        vertical-align: top;\n",
       "    }\n",
       "\n",
       "    .dataframe thead th {\n",
       "        text-align: right;\n",
       "    }\n",
       "</style>\n",
       "<table border=\"1\" class=\"dataframe\">\n",
       "  <thead>\n",
       "    <tr style=\"text-align: right;\">\n",
       "      <th></th>\n",
       "      <th>Fund_093</th>\n",
       "    </tr>\n",
       "  </thead>\n",
       "  <tbody>\n",
       "    <tr>\n",
       "      <th>0</th>\n",
       "      <td>1057.0</td>\n",
       "    </tr>\n",
       "    <tr>\n",
       "      <th>1</th>\n",
       "      <td>1083.0</td>\n",
       "    </tr>\n",
       "    <tr>\n",
       "      <th>2</th>\n",
       "      <td>1080.0</td>\n",
       "    </tr>\n",
       "    <tr>\n",
       "      <th>3</th>\n",
       "      <td>1096.0</td>\n",
       "    </tr>\n",
       "    <tr>\n",
       "      <th>4</th>\n",
       "      <td>1106.0</td>\n",
       "    </tr>\n",
       "  </tbody>\n",
       "</table>\n",
       "</div>"
      ],
      "text/plain": [
       "   Fund_093\n",
       "0    1057.0\n",
       "1    1083.0\n",
       "2    1080.0\n",
       "3    1096.0\n",
       "4    1106.0"
      ]
     },
     "execution_count": 501,
     "metadata": {},
     "output_type": "execute_result"
    }
   ],
   "source": [
    "basic_data.head()"
   ]
  },
  {
   "cell_type": "code",
   "execution_count": 502,
   "metadata": {},
   "outputs": [],
   "source": [
    "date_basic = []\n",
    "for i in range(0, len(merge_fund_data[\"date\"])):\n",
    "    date_basic.append(str(int(merge_fund_data[\"date\"][i])))"
   ]
  },
  {
   "cell_type": "code",
   "execution_count": 503,
   "metadata": {},
   "outputs": [],
   "source": [
    "basic_data.index = date_basic"
   ]
  },
  {
   "cell_type": "code",
   "execution_count": 504,
   "metadata": {},
   "outputs": [
    {
     "data": {
      "text/html": [
       "<div>\n",
       "<style scoped>\n",
       "    .dataframe tbody tr th:only-of-type {\n",
       "        vertical-align: middle;\n",
       "    }\n",
       "\n",
       "    .dataframe tbody tr th {\n",
       "        vertical-align: top;\n",
       "    }\n",
       "\n",
       "    .dataframe thead th {\n",
       "        text-align: right;\n",
       "    }\n",
       "</style>\n",
       "<table border=\"1\" class=\"dataframe\">\n",
       "  <thead>\n",
       "    <tr style=\"text-align: right;\">\n",
       "      <th></th>\n",
       "      <th>Fund_093</th>\n",
       "    </tr>\n",
       "  </thead>\n",
       "  <tbody>\n",
       "    <tr>\n",
       "      <th>20130708</th>\n",
       "      <td>1057.0</td>\n",
       "    </tr>\n",
       "    <tr>\n",
       "      <th>20130710</th>\n",
       "      <td>1083.0</td>\n",
       "    </tr>\n",
       "    <tr>\n",
       "      <th>20130711</th>\n",
       "      <td>1080.0</td>\n",
       "    </tr>\n",
       "    <tr>\n",
       "      <th>20130712</th>\n",
       "      <td>1096.0</td>\n",
       "    </tr>\n",
       "    <tr>\n",
       "      <th>20130716</th>\n",
       "      <td>1106.0</td>\n",
       "    </tr>\n",
       "  </tbody>\n",
       "</table>\n",
       "</div>"
      ],
      "text/plain": [
       "          Fund_093\n",
       "20130708    1057.0\n",
       "20130710    1083.0\n",
       "20130711    1080.0\n",
       "20130712    1096.0\n",
       "20130716    1106.0"
      ]
     },
     "execution_count": 504,
     "metadata": {},
     "output_type": "execute_result"
    }
   ],
   "source": [
    "basic_data.head()"
   ]
  },
  {
   "cell_type": "markdown",
   "metadata": {},
   "source": [
    "### 石油"
   ]
  },
  {
   "cell_type": "code",
   "execution_count": 505,
   "metadata": {},
   "outputs": [],
   "source": [
    "oil_data = pd.read_csv(\"DCOILBRENTEU-1.csv\")"
   ]
  },
  {
   "cell_type": "code",
   "execution_count": 506,
   "metadata": {},
   "outputs": [],
   "source": [
    "date_oil = []\n",
    "for i in range(0, len(oil_data[\"DATE\"])):\n",
    "    date_oil.append(oil_data[\"DATE\"][i].replace('-', ''))"
   ]
  },
  {
   "cell_type": "code",
   "execution_count": 507,
   "metadata": {},
   "outputs": [],
   "source": [
    "oil_data.index = date_oil"
   ]
  },
  {
   "cell_type": "code",
   "execution_count": 508,
   "metadata": {},
   "outputs": [],
   "source": [
    "oil_data = oil_data.drop([\"DATE\"], axis=1)"
   ]
  },
  {
   "cell_type": "code",
   "execution_count": 509,
   "metadata": {},
   "outputs": [
    {
     "data": {
      "text/html": [
       "<div>\n",
       "<style scoped>\n",
       "    .dataframe tbody tr th:only-of-type {\n",
       "        vertical-align: middle;\n",
       "    }\n",
       "\n",
       "    .dataframe tbody tr th {\n",
       "        vertical-align: top;\n",
       "    }\n",
       "\n",
       "    .dataframe thead th {\n",
       "        text-align: right;\n",
       "    }\n",
       "</style>\n",
       "<table border=\"1\" class=\"dataframe\">\n",
       "  <thead>\n",
       "    <tr style=\"text-align: right;\">\n",
       "      <th></th>\n",
       "      <th>DCOILBRENTEU</th>\n",
       "    </tr>\n",
       "  </thead>\n",
       "  <tbody>\n",
       "    <tr>\n",
       "      <th>20130701</th>\n",
       "      <td>103.19</td>\n",
       "    </tr>\n",
       "    <tr>\n",
       "      <th>20130702</th>\n",
       "      <td>103.96</td>\n",
       "    </tr>\n",
       "    <tr>\n",
       "      <th>20130703</th>\n",
       "      <td>106.12</td>\n",
       "    </tr>\n",
       "    <tr>\n",
       "      <th>20130704</th>\n",
       "      <td>.</td>\n",
       "    </tr>\n",
       "    <tr>\n",
       "      <th>20130705</th>\n",
       "      <td>107.46</td>\n",
       "    </tr>\n",
       "  </tbody>\n",
       "</table>\n",
       "</div>"
      ],
      "text/plain": [
       "         DCOILBRENTEU\n",
       "20130701       103.19\n",
       "20130702       103.96\n",
       "20130703       106.12\n",
       "20130704            .\n",
       "20130705       107.46"
      ]
     },
     "execution_count": 509,
     "metadata": {},
     "output_type": "execute_result"
    }
   ],
   "source": [
    "oil_data.head()"
   ]
  },
  {
   "cell_type": "markdown",
   "metadata": {},
   "source": [
    "### 美國公債十年利率"
   ]
  },
  {
   "cell_type": "code",
   "execution_count": 510,
   "metadata": {},
   "outputs": [],
   "source": [
    "dgs10_data = pd.read_csv(\"DGS10.csv\")"
   ]
  },
  {
   "cell_type": "code",
   "execution_count": 511,
   "metadata": {},
   "outputs": [],
   "source": [
    "date_dgs10 = []\n",
    "for i in range(0, len(dgs10_data[\"observation_date\"])):\n",
    "    date_dgs10.append(dgs10_data[\"observation_date\"][i].replace('-', ''))"
   ]
  },
  {
   "cell_type": "code",
   "execution_count": 512,
   "metadata": {},
   "outputs": [],
   "source": [
    "dgs10_data.index = date_dgs10"
   ]
  },
  {
   "cell_type": "code",
   "execution_count": 513,
   "metadata": {},
   "outputs": [],
   "source": [
    "dgs10_data = dgs10_data.drop([\"observation_date\"], axis=1)"
   ]
  },
  {
   "cell_type": "code",
   "execution_count": 514,
   "metadata": {},
   "outputs": [
    {
     "data": {
      "text/html": [
       "<div>\n",
       "<style scoped>\n",
       "    .dataframe tbody tr th:only-of-type {\n",
       "        vertical-align: middle;\n",
       "    }\n",
       "\n",
       "    .dataframe tbody tr th {\n",
       "        vertical-align: top;\n",
       "    }\n",
       "\n",
       "    .dataframe thead th {\n",
       "        text-align: right;\n",
       "    }\n",
       "</style>\n",
       "<table border=\"1\" class=\"dataframe\">\n",
       "  <thead>\n",
       "    <tr style=\"text-align: right;\">\n",
       "      <th></th>\n",
       "      <th>DGS10</th>\n",
       "    </tr>\n",
       "  </thead>\n",
       "  <tbody>\n",
       "    <tr>\n",
       "      <th>20130701</th>\n",
       "      <td>2.50</td>\n",
       "    </tr>\n",
       "    <tr>\n",
       "      <th>20130702</th>\n",
       "      <td>2.48</td>\n",
       "    </tr>\n",
       "    <tr>\n",
       "      <th>20130703</th>\n",
       "      <td>2.52</td>\n",
       "    </tr>\n",
       "    <tr>\n",
       "      <th>20130704</th>\n",
       "      <td>NaN</td>\n",
       "    </tr>\n",
       "    <tr>\n",
       "      <th>20130705</th>\n",
       "      <td>2.73</td>\n",
       "    </tr>\n",
       "  </tbody>\n",
       "</table>\n",
       "</div>"
      ],
      "text/plain": [
       "          DGS10\n",
       "20130701   2.50\n",
       "20130702   2.48\n",
       "20130703   2.52\n",
       "20130704    NaN\n",
       "20130705   2.73"
      ]
     },
     "execution_count": 514,
     "metadata": {},
     "output_type": "execute_result"
    }
   ],
   "source": [
    "dgs10_data.head()"
   ]
  },
  {
   "cell_type": "markdown",
   "metadata": {},
   "source": [
    "### 合併"
   ]
  },
  {
   "cell_type": "code",
   "execution_count": 515,
   "metadata": {},
   "outputs": [],
   "source": [
    "basic_data = pd.concat([basic_data, oil_data], axis=1, join_axes=[basic_data.index])"
   ]
  },
  {
   "cell_type": "code",
   "execution_count": 516,
   "metadata": {},
   "outputs": [],
   "source": [
    "basic_data = pd.concat([basic_data, dgs10_data], axis=1, join_axes=[basic_data.index])"
   ]
  },
  {
   "cell_type": "code",
   "execution_count": 517,
   "metadata": {},
   "outputs": [],
   "source": [
    "basic_data = basic_data.drop([\"Fund_093\"], axis=1)"
   ]
  },
  {
   "cell_type": "code",
   "execution_count": 518,
   "metadata": {},
   "outputs": [
    {
     "data": {
      "text/html": [
       "<div>\n",
       "<style scoped>\n",
       "    .dataframe tbody tr th:only-of-type {\n",
       "        vertical-align: middle;\n",
       "    }\n",
       "\n",
       "    .dataframe tbody tr th {\n",
       "        vertical-align: top;\n",
       "    }\n",
       "\n",
       "    .dataframe thead th {\n",
       "        text-align: right;\n",
       "    }\n",
       "</style>\n",
       "<table border=\"1\" class=\"dataframe\">\n",
       "  <thead>\n",
       "    <tr style=\"text-align: right;\">\n",
       "      <th></th>\n",
       "      <th>DCOILBRENTEU</th>\n",
       "      <th>DGS10</th>\n",
       "    </tr>\n",
       "  </thead>\n",
       "  <tbody>\n",
       "    <tr>\n",
       "      <th>20130708</th>\n",
       "      <td>107.75</td>\n",
       "      <td>2.65</td>\n",
       "    </tr>\n",
       "    <tr>\n",
       "      <th>20130710</th>\n",
       "      <td>108.43</td>\n",
       "      <td>2.70</td>\n",
       "    </tr>\n",
       "    <tr>\n",
       "      <th>20130711</th>\n",
       "      <td>108.18</td>\n",
       "      <td>2.60</td>\n",
       "    </tr>\n",
       "    <tr>\n",
       "      <th>20130712</th>\n",
       "      <td>109.03</td>\n",
       "      <td>2.61</td>\n",
       "    </tr>\n",
       "    <tr>\n",
       "      <th>20130716</th>\n",
       "      <td>109.29</td>\n",
       "      <td>2.55</td>\n",
       "    </tr>\n",
       "  </tbody>\n",
       "</table>\n",
       "</div>"
      ],
      "text/plain": [
       "         DCOILBRENTEU  DGS10\n",
       "20130708       107.75   2.65\n",
       "20130710       108.43   2.70\n",
       "20130711       108.18   2.60\n",
       "20130712       109.03   2.61\n",
       "20130716       109.29   2.55"
      ]
     },
     "execution_count": 518,
     "metadata": {},
     "output_type": "execute_result"
    }
   ],
   "source": [
    "basic_data.head()"
   ]
  },
  {
   "cell_type": "code",
   "execution_count": 519,
   "metadata": {},
   "outputs": [],
   "source": [
    "merge_fund_data.index = date_basic"
   ]
  },
  {
   "cell_type": "markdown",
   "metadata": {},
   "source": [
    "# 訓練、測試集資料"
   ]
  },
  {
   "cell_type": "markdown",
   "metadata": {},
   "source": [
    "### 正規化"
   ]
  },
  {
   "cell_type": "code",
   "execution_count": 520,
   "metadata": {},
   "outputs": [],
   "source": [
    "def normalize(df):\n",
    "    newdf= df.copy()\n",
    "    min_max_scaler = preprocessing.MinMaxScaler()\n",
    "    \n",
    "    newdf['close'] = min_max_scaler.fit_transform(df.close.values.reshape(-1,1))\n",
    "    newdf['RSI'] = min_max_scaler.fit_transform(df.RSI.values.reshape(-1,1))\n",
    "    newdf['MA'] = min_max_scaler.fit_transform(df.MA.values.reshape(-1,1))\n",
    "    newdf['EMA'] = min_max_scaler.fit_transform(df.EMA.values.reshape(-1,1))\n",
    "    newdf['WMA'] = min_max_scaler.fit_transform(df.WMA.values.reshape(-1,1))\n",
    "    newdf['CMO'] = min_max_scaler.fit_transform(df.CMO.values.reshape(-1,1))\n",
    "    newdf['MACD'] = min_max_scaler.fit_transform(df.MACD.values.reshape(-1,1))\n",
    "    newdf['ROC'] = min_max_scaler.fit_transform(df.ROC.values.reshape(-1,1))\n",
    "    newdf['DCOILBRENTEU'] = min_max_scaler.fit_transform(df.DCOILBRENTEU.values.reshape(-1,1))\n",
    "    newdf['DGS10'] = min_max_scaler.fit_transform(df.DGS10.values.reshape(-1,1))\n",
    "    return(newdf)"
   ]
  },
  {
   "cell_type": "markdown",
   "metadata": {},
   "source": [
    "### 計算技術指標以及加入總經因子"
   ]
  },
  {
   "cell_type": "code",
   "execution_count": 521,
   "metadata": {},
   "outputs": [
    {
     "data": {
      "text/html": [
       "<div>\n",
       "<style scoped>\n",
       "    .dataframe tbody tr th:only-of-type {\n",
       "        vertical-align: middle;\n",
       "    }\n",
       "\n",
       "    .dataframe tbody tr th {\n",
       "        vertical-align: top;\n",
       "    }\n",
       "\n",
       "    .dataframe thead th {\n",
       "        text-align: right;\n",
       "    }\n",
       "</style>\n",
       "<table border=\"1\" class=\"dataframe\">\n",
       "  <thead>\n",
       "    <tr style=\"text-align: right;\">\n",
       "      <th></th>\n",
       "      <th>Fund_093</th>\n",
       "    </tr>\n",
       "  </thead>\n",
       "  <tbody>\n",
       "    <tr>\n",
       "      <th>20130708</th>\n",
       "      <td>1057.0</td>\n",
       "    </tr>\n",
       "    <tr>\n",
       "      <th>20130710</th>\n",
       "      <td>1083.0</td>\n",
       "    </tr>\n",
       "    <tr>\n",
       "      <th>20130711</th>\n",
       "      <td>1080.0</td>\n",
       "    </tr>\n",
       "    <tr>\n",
       "      <th>20130712</th>\n",
       "      <td>1096.0</td>\n",
       "    </tr>\n",
       "    <tr>\n",
       "      <th>20130716</th>\n",
       "      <td>1106.0</td>\n",
       "    </tr>\n",
       "  </tbody>\n",
       "</table>\n",
       "</div>"
      ],
      "text/plain": [
       "          Fund_093\n",
       "20130708    1057.0\n",
       "20130710    1083.0\n",
       "20130711    1080.0\n",
       "20130712    1096.0\n",
       "20130716    1106.0"
      ]
     },
     "execution_count": 521,
     "metadata": {},
     "output_type": "execute_result"
    }
   ],
   "source": [
    "merge_fund_data.iloc[:,0:1].head()"
   ]
  },
  {
   "cell_type": "code",
   "execution_count": 522,
   "metadata": {},
   "outputs": [
    {
     "data": {
      "text/html": [
       "<div>\n",
       "<style scoped>\n",
       "    .dataframe tbody tr th:only-of-type {\n",
       "        vertical-align: middle;\n",
       "    }\n",
       "\n",
       "    .dataframe tbody tr th {\n",
       "        vertical-align: top;\n",
       "    }\n",
       "\n",
       "    .dataframe thead th {\n",
       "        text-align: right;\n",
       "    }\n",
       "</style>\n",
       "<table border=\"1\" class=\"dataframe\">\n",
       "  <thead>\n",
       "    <tr style=\"text-align: right;\">\n",
       "      <th></th>\n",
       "      <th>Fund_500</th>\n",
       "    </tr>\n",
       "  </thead>\n",
       "  <tbody>\n",
       "    <tr>\n",
       "      <th>20130708</th>\n",
       "      <td>21.59</td>\n",
       "    </tr>\n",
       "    <tr>\n",
       "      <th>20130710</th>\n",
       "      <td>21.62</td>\n",
       "    </tr>\n",
       "    <tr>\n",
       "      <th>20130711</th>\n",
       "      <td>21.70</td>\n",
       "    </tr>\n",
       "    <tr>\n",
       "      <th>20130712</th>\n",
       "      <td>21.72</td>\n",
       "    </tr>\n",
       "    <tr>\n",
       "      <th>20130716</th>\n",
       "      <td>21.84</td>\n",
       "    </tr>\n",
       "  </tbody>\n",
       "</table>\n",
       "</div>"
      ],
      "text/plain": [
       "          Fund_500\n",
       "20130708     21.59\n",
       "20130710     21.62\n",
       "20130711     21.70\n",
       "20130712     21.72\n",
       "20130716     21.84"
      ]
     },
     "execution_count": 522,
     "metadata": {},
     "output_type": "execute_result"
    }
   ],
   "source": [
    "merge_fund_data.iloc[:,499:500].head()"
   ]
  },
  {
   "cell_type": "code",
   "execution_count": 523,
   "metadata": {},
   "outputs": [],
   "source": [
    "def pick_data_train(merge_data, basic_data, start_num, end_num):\n",
    "    fun_data = merge_fund_data.iloc[:,start_num:end_num]\n",
    "    fun_data.columns = [\"close\"]\n",
    "    fun_data[\"RSI\"] = talib.RSI(np.array(fun_data[\"close\"]))\n",
    "    fun_data[\"MA\"] = talib.SMA(np.array(fun_data[\"close\"]))\n",
    "    fun_data[\"EMA\"] = talib.EMA(np.array(fun_data[\"close\"]))\n",
    "    fun_data[\"WMA\"] = talib.WMA(np.array(fun_data[\"close\"]))\n",
    "    fun_data[\"CMO\"] = talib.CMO(np.array(fun_data[\"close\"]))\n",
    "    macd, macdsignal, macdhist = talib.MACD(np.array(fun_data[\"close\"]), fastperiod=12, slowperiod=26, signalperiod=20)\n",
    "    fun_data[\"MACD\"] = macdhist\n",
    "    fun_data[\"ROC\"] = talib.ROC(np.array(fun_data[\"close\"]))\n",
    "    fun_data = pd.concat([fun_data, basic_data], axis=1, join_axes=[fun_data.index])\n",
    "    fun_data = fun_data.dropna()\n",
    "    fun_data.index = range(0, len(fun_data))\n",
    "    fun_data = normalize(fun_data)\n",
    "    fun_data = fun_data[0:726]\n",
    "    return(fun_data)"
   ]
  },
  {
   "cell_type": "code",
   "execution_count": 682,
   "metadata": {},
   "outputs": [],
   "source": [
    "def pick_data_test(merge_data, basic_data, start_num, end_num):\n",
    "    fun_data = merge_fund_data.iloc[:,start_num:end_num]\n",
    "    fun_data.columns = [\"close\"]\n",
    "    fun_data[\"RSI\"] = talib.RSI(np.array(fun_data[\"close\"]))\n",
    "    fun_data[\"MA\"] = talib.SMA(np.array(fun_data[\"close\"]))\n",
    "    fun_data[\"EMA\"] = talib.EMA(np.array(fun_data[\"close\"]))\n",
    "    fun_data[\"WMA\"] = talib.WMA(np.array(fun_data[\"close\"]))\n",
    "    fun_data[\"CMO\"] = talib.CMO(np.array(fun_data[\"close\"]))\n",
    "    macd, macdsignal, macdhist = talib.MACD(np.array(fun_data[\"close\"]), fastperiod=12, slowperiod=26, signalperiod=20)\n",
    "    fun_data[\"MACD\"] = macdhist\n",
    "    fun_data[\"ROC\"] = talib.ROC(np.array(fun_data[\"close\"]))\n",
    "    fun_data = pd.concat([fun_data, basic_data], axis=1, join_axes=[fun_data.index])\n",
    "    fun_data = fun_data.dropna()\n",
    "    fun_data.index = range(0, len(fun_data))\n",
    "    fun_data = normalize(fun_data)\n",
    "    fun_data = fun_data[696:len(fun_data)]\n",
    "    return(fun_data)"
   ]
  },
  {
   "cell_type": "code",
   "execution_count": 525,
   "metadata": {},
   "outputs": [
    {
     "name": "stderr",
     "output_type": "stream",
     "text": [
      "C:\\Users\\a2224\\Anaconda3\\lib\\site-packages\\sklearn\\utils\\validation.py:475: DataConversionWarning: Data with input dtype object was converted to float64 by MinMaxScaler.\n",
      "  warnings.warn(msg, DataConversionWarning)\n"
     ]
    },
    {
     "data": {
      "text/html": [
       "<div>\n",
       "<style scoped>\n",
       "    .dataframe tbody tr th:only-of-type {\n",
       "        vertical-align: middle;\n",
       "    }\n",
       "\n",
       "    .dataframe tbody tr th {\n",
       "        vertical-align: top;\n",
       "    }\n",
       "\n",
       "    .dataframe thead th {\n",
       "        text-align: right;\n",
       "    }\n",
       "</style>\n",
       "<table border=\"1\" class=\"dataframe\">\n",
       "  <thead>\n",
       "    <tr style=\"text-align: right;\">\n",
       "      <th></th>\n",
       "      <th>close</th>\n",
       "      <th>RSI</th>\n",
       "      <th>MA</th>\n",
       "      <th>EMA</th>\n",
       "      <th>WMA</th>\n",
       "      <th>CMO</th>\n",
       "      <th>MACD</th>\n",
       "      <th>ROC</th>\n",
       "      <th>DCOILBRENTEU</th>\n",
       "      <th>DGS10</th>\n",
       "    </tr>\n",
       "  </thead>\n",
       "  <tbody>\n",
       "    <tr>\n",
       "      <th>0</th>\n",
       "      <td>0.016471</td>\n",
       "      <td>0.420790</td>\n",
       "      <td>0.002084</td>\n",
       "      <td>0.005209</td>\n",
       "      <td>0.003144</td>\n",
       "      <td>0.420790</td>\n",
       "      <td>0.693180</td>\n",
       "      <td>0.412916</td>\n",
       "      <td>0.942060</td>\n",
       "      <td>0.741379</td>\n",
       "    </tr>\n",
       "    <tr>\n",
       "      <th>1</th>\n",
       "      <td>0.000000</td>\n",
       "      <td>0.366982</td>\n",
       "      <td>0.002084</td>\n",
       "      <td>0.002809</td>\n",
       "      <td>0.001572</td>\n",
       "      <td>0.366982</td>\n",
       "      <td>0.630257</td>\n",
       "      <td>0.374744</td>\n",
       "      <td>0.944771</td>\n",
       "      <td>0.735632</td>\n",
       "    </tr>\n",
       "    <tr>\n",
       "      <th>2</th>\n",
       "      <td>0.000000</td>\n",
       "      <td>0.366982</td>\n",
       "      <td>0.000825</td>\n",
       "      <td>0.000563</td>\n",
       "      <td>0.000000</td>\n",
       "      <td>0.366982</td>\n",
       "      <td>0.583635</td>\n",
       "      <td>0.374744</td>\n",
       "      <td>0.954936</td>\n",
       "      <td>0.741379</td>\n",
       "    </tr>\n",
       "    <tr>\n",
       "      <th>3</th>\n",
       "      <td>0.021176</td>\n",
       "      <td>0.453739</td>\n",
       "      <td>0.000000</td>\n",
       "      <td>0.000000</td>\n",
       "      <td>0.000003</td>\n",
       "      <td>0.453739</td>\n",
       "      <td>0.569499</td>\n",
       "      <td>0.415322</td>\n",
       "      <td>0.937542</td>\n",
       "      <td>0.752874</td>\n",
       "    </tr>\n",
       "    <tr>\n",
       "      <th>4</th>\n",
       "      <td>0.037647</td>\n",
       "      <td>0.513821</td>\n",
       "      <td>0.001086</td>\n",
       "      <td>0.000668</td>\n",
       "      <td>0.001220</td>\n",
       "      <td>0.513821</td>\n",
       "      <td>0.574504</td>\n",
       "      <td>0.442422</td>\n",
       "      <td>0.967021</td>\n",
       "      <td>0.770115</td>\n",
       "    </tr>\n",
       "  </tbody>\n",
       "</table>\n",
       "</div>"
      ],
      "text/plain": [
       "      close       RSI        MA       EMA       WMA       CMO      MACD  \\\n",
       "0  0.016471  0.420790  0.002084  0.005209  0.003144  0.420790  0.693180   \n",
       "1  0.000000  0.366982  0.002084  0.002809  0.001572  0.366982  0.630257   \n",
       "2  0.000000  0.366982  0.000825  0.000563  0.000000  0.366982  0.583635   \n",
       "3  0.021176  0.453739  0.000000  0.000000  0.000003  0.453739  0.569499   \n",
       "4  0.037647  0.513821  0.001086  0.000668  0.001220  0.513821  0.574504   \n",
       "\n",
       "        ROC  DCOILBRENTEU     DGS10  \n",
       "0  0.412916      0.942060  0.741379  \n",
       "1  0.374744      0.944771  0.735632  \n",
       "2  0.374744      0.954936  0.741379  \n",
       "3  0.415322      0.937542  0.752874  \n",
       "4  0.442422      0.967021  0.770115  "
      ]
     },
     "execution_count": 525,
     "metadata": {},
     "output_type": "execute_result"
    }
   ],
   "source": [
    "pick_data_train(merge_fund_data, basic_data, 0, 1).head()"
   ]
  },
  {
   "cell_type": "markdown",
   "metadata": {},
   "source": [
    "### 建立訓練集與測試集資料"
   ]
  },
  {
   "cell_type": "code",
   "execution_count": 526,
   "metadata": {},
   "outputs": [],
   "source": [
    "def buildTrain(merge_data, basic_data, pastDay=30, futureDay=1):\n",
    "    X_train, Y_train = [], []\n",
    "    for j in range(0, 500):\n",
    "        fun_data = pick_data_train(merge_data, basic_data, j, j+1)\n",
    "        for i in range(len(fun_data)-futureDay-pastDay):\n",
    "            X_train.append(np.array(fun_data.iloc[i:i+pastDay]))\n",
    "            Y_train.append(np.array(fun_data.iloc[i+pastDay:i+pastDay+futureDay][\"close\"]))\n",
    "    return np.array(X_train), np.array(Y_train)"
   ]
  },
  {
   "cell_type": "code",
   "execution_count": 681,
   "metadata": {},
   "outputs": [],
   "source": [
    "def buildTest(merge_data, basic_data, pastDay=30, futureDay=1):\n",
    "    X_test, Y_test = [], []\n",
    "    for j in range(0, 500):\n",
    "        fun_data = pick_data_test(merge_data, basic_data, j, j+1)\n",
    "        for i in range(len(fun_data)-pastDay):\n",
    "            X_test.append(np.array(fun_data.iloc[i:i+pastDay]))\n",
    "            Y_test.append(np.array(fun_data.iloc[i+pastDay:i+pastDay+futureDay][\"close\"]))\n",
    "    return np.array(X_test), np.array(Y_test)"
   ]
  },
  {
   "cell_type": "markdown",
   "metadata": {},
   "source": [
    "### 將資料打亂"
   ]
  },
  {
   "cell_type": "code",
   "execution_count": 528,
   "metadata": {},
   "outputs": [],
   "source": [
    "def shuffle(X, Y):\n",
    "    np.random.seed(10)\n",
    "    randomList = np.arange(X.shape[0])\n",
    "    np.random.shuffle(randomList)\n",
    "    return(X[randomList], Y[randomList])"
   ]
  },
  {
   "cell_type": "markdown",
   "metadata": {},
   "source": [
    "# 建構模型"
   ]
  },
  {
   "cell_type": "code",
   "execution_count": 529,
   "metadata": {},
   "outputs": [],
   "source": [
    "## 首先在面前加了一層64個神經元的 LSTM layer，並都加上了Dropout層來防止資料過度擬合（overfitting）。\n",
    "## 最後再加上兩層有不同數目神經元的全連結層來得到只有1維數值的輸出結果，也就是預測股價\n",
    "\n",
    "def LSTM_model(shape):\n",
    "    model = Sequential()\n",
    "    model.add(LSTM(64, input_length=shape[1], input_dim=shape[2]))\n",
    "    model.add(Dropout(0.3))\n",
    "    model.add(Dense(16, kernel_initializer=\"uniform\", activation='relu'))\n",
    "    model.add(Dense(1, kernel_initializer=\"uniform\", activation='linear'))\n",
    "    model.compile(loss=\"mse\", optimizer=\"adam\", metrics=['accuracy'])\n",
    "    model.summary()\n",
    "    return model"
   ]
  },
  {
   "cell_type": "markdown",
   "metadata": {},
   "source": [
    "# Final\n",
    "- 建立訓練集資料\n",
    "- 建立測試集資料\n",
    "- 打散訓練集資料\n",
    "- 建立模型\n",
    "- 模型訓練\n",
    "- 預測"
   ]
  },
  {
   "cell_type": "code",
   "execution_count": 530,
   "metadata": {},
   "outputs": [
    {
     "name": "stderr",
     "output_type": "stream",
     "text": [
      "C:\\Users\\a2224\\Anaconda3\\lib\\site-packages\\sklearn\\utils\\validation.py:475: DataConversionWarning: Data with input dtype object was converted to float64 by MinMaxScaler.\n",
      "  warnings.warn(msg, DataConversionWarning)\n"
     ]
    }
   ],
   "source": [
    "x_train, y_train = buildTrain(merge_fund_data, basic_data)"
   ]
  },
  {
   "cell_type": "code",
   "execution_count": 683,
   "metadata": {},
   "outputs": [
    {
     "name": "stderr",
     "output_type": "stream",
     "text": [
      "C:\\Users\\a2224\\Anaconda3\\lib\\site-packages\\sklearn\\utils\\validation.py:475: DataConversionWarning: Data with input dtype object was converted to float64 by MinMaxScaler.\n",
      "  warnings.warn(msg, DataConversionWarning)\n"
     ]
    }
   ],
   "source": [
    "x_test, y_test = buildTest(merge_fund_data, basic_data)"
   ]
  },
  {
   "cell_type": "code",
   "execution_count": 532,
   "metadata": {},
   "outputs": [],
   "source": [
    "x_train, y_train = shuffle(x_train, y_train)"
   ]
  },
  {
   "cell_type": "code",
   "execution_count": 533,
   "metadata": {},
   "outputs": [
    {
     "name": "stderr",
     "output_type": "stream",
     "text": [
      "C:\\Users\\a2224\\Anaconda3\\lib\\site-packages\\ipykernel_launcher.py:6: UserWarning: The `input_dim` and `input_length` arguments in recurrent layers are deprecated. Use `input_shape` instead.\n",
      "  \n",
      "C:\\Users\\a2224\\Anaconda3\\lib\\site-packages\\ipykernel_launcher.py:6: UserWarning: Update your `LSTM` call to the Keras 2 API: `LSTM(64, input_shape=(30, 10))`\n",
      "  \n"
     ]
    },
    {
     "name": "stdout",
     "output_type": "stream",
     "text": [
      "_________________________________________________________________\n",
      "Layer (type)                 Output Shape              Param #   \n",
      "=================================================================\n",
      "lstm_5 (LSTM)                (None, 64)                19200     \n",
      "_________________________________________________________________\n",
      "dropout_5 (Dropout)          (None, 64)                0         \n",
      "_________________________________________________________________\n",
      "dense_7 (Dense)              (None, 16)                1040      \n",
      "_________________________________________________________________\n",
      "dense_8 (Dense)              (None, 1)                 17        \n",
      "=================================================================\n",
      "Total params: 20,257\n",
      "Trainable params: 20,257\n",
      "Non-trainable params: 0\n",
      "_________________________________________________________________\n"
     ]
    }
   ],
   "source": [
    "model = LSTM_model(x_train.shape)"
   ]
  },
  {
   "cell_type": "code",
   "execution_count": 534,
   "metadata": {},
   "outputs": [
    {
     "name": "stdout",
     "output_type": "stream",
     "text": [
      "Train on 312750 samples, validate on 34750 samples\n",
      "Epoch 1/10\n",
      "312750/312750 [==============================] - 95s 302us/step - loss: 0.0067 - acc: 0.0042 - val_loss: 6.9633e-04 - val_acc: 0.0043\n",
      "Epoch 2/10\n",
      "312750/312750 [==============================] - 91s 292us/step - loss: 0.0011 - acc: 0.0043 - val_loss: 6.2332e-04 - val_acc: 0.0043\n",
      "Epoch 3/10\n",
      "312750/312750 [==============================] - 90s 286us/step - loss: 8.8178e-04 - acc: 0.0043 - val_loss: 6.3115e-04 - val_acc: 0.0043\n",
      "Epoch 4/10\n",
      "312750/312750 [==============================] - 90s 288us/step - loss: 7.6594e-04 - acc: 0.0043 - val_loss: 0.0015 - val_acc: 0.0043\n",
      "Epoch 5/10\n",
      "312750/312750 [==============================] - 91s 290us/step - loss: 7.0854e-04 - acc: 0.0043 - val_loss: 0.0016 - val_acc: 0.0043\n",
      "Epoch 6/10\n",
      "312750/312750 [==============================] - 88s 281us/step - loss: 6.7220e-04 - acc: 0.0043 - val_loss: 0.0023 - val_acc: 0.0043\n",
      "Epoch 7/10\n",
      "312750/312750 [==============================] - 86s 275us/step - loss: 6.5362e-04 - acc: 0.0043 - val_loss: 0.0029 - val_acc: 0.0043\n",
      "Epoch 8/10\n",
      "312750/312750 [==============================] - 87s 279us/step - loss: 6.3851e-04 - acc: 0.0043 - val_loss: 0.0033 - val_acc: 0.0043\n",
      "Epoch 9/10\n",
      "312750/312750 [==============================] - 88s 282us/step - loss: 6.2551e-04 - acc: 0.0043 - val_loss: 0.0044 - val_acc: 0.0043\n",
      "Epoch 10/10\n",
      "312750/312750 [==============================] - 89s 284us/step - loss: 6.1729e-04 - acc: 0.0043 - val_loss: 0.0042 - val_acc: 0.0043\n"
     ]
    },
    {
     "data": {
      "text/plain": [
       "<keras.callbacks.History at 0x1ec185cd5f8>"
      ]
     },
     "execution_count": 534,
     "metadata": {},
     "output_type": "execute_result"
    }
   ],
   "source": [
    "model.fit(x_train, y_train, batch_size=128, epochs=10, validation_split=0.1, verbose=1)"
   ]
  },
  {
   "cell_type": "code",
   "execution_count": 684,
   "metadata": {},
   "outputs": [],
   "source": [
    "pred = model.predict(x_test)"
   ]
  },
  {
   "cell_type": "code",
   "execution_count": 685,
   "metadata": {},
   "outputs": [
    {
     "data": {
      "text/plain": [
       "19000"
      ]
     },
     "execution_count": 685,
     "metadata": {},
     "output_type": "execute_result"
    }
   ],
   "source": [
    "len(pred)"
   ]
  },
  {
   "cell_type": "code",
   "execution_count": 686,
   "metadata": {},
   "outputs": [
    {
     "data": {
      "text/plain": [
       "19000"
      ]
     },
     "execution_count": 686,
     "metadata": {},
     "output_type": "execute_result"
    }
   ],
   "source": [
    "len(y_test)"
   ]
  },
  {
   "cell_type": "markdown",
   "metadata": {},
   "source": [
    "### 將股價還原"
   ]
  },
  {
   "cell_type": "code",
   "execution_count": 692,
   "metadata": {},
   "outputs": [],
   "source": [
    "def denormalize(merge_data, start_num, end_num, norm_value):\n",
    "    fun_data = merge_fund_data.iloc[:,start_num:end_num]\n",
    "    fun_data.columns = [\"close\"]\n",
    "    fun_data[\"RSI\"] = talib.RSI(np.array(fun_data[\"close\"]))\n",
    "    fun_data[\"MA\"] = talib.SMA(np.array(fun_data[\"close\"]))\n",
    "    fun_data[\"EMA\"] = talib.EMA(np.array(fun_data[\"close\"]))\n",
    "    fun_data[\"WMA\"] = talib.WMA(np.array(fun_data[\"close\"]))\n",
    "    fun_data[\"CMO\"] = talib.CMO(np.array(fun_data[\"close\"]))\n",
    "    macd, macdsignal, macdhist = talib.MACD(np.array(fun_data[\"close\"]), fastperiod=12, slowperiod=26, signalperiod=20)\n",
    "    fun_data[\"MACD\"] = macdhist\n",
    "    fun_data[\"ROC\"] = talib.ROC(np.array(fun_data[\"close\"]))\n",
    "    fun_data = pd.concat([fun_data, basic_data], axis=1, join_axes=[fun_data.index])\n",
    "    fun_data = fun_data.dropna()\n",
    "    \n",
    "    original_value = fun_data['close'].values.reshape(-1,1)\n",
    "    norm_value = norm_value.reshape(-1,1)\n",
    "    \n",
    "    min_max_scaler = preprocessing.MinMaxScaler()\n",
    "    min_max_scaler.fit_transform(original_value)\n",
    "    denorm_value = min_max_scaler.inverse_transform(norm_value)\n",
    "    \n",
    "    return denorm_value"
   ]
  },
  {
   "cell_type": "code",
   "execution_count": null,
   "metadata": {},
   "outputs": [],
   "source": []
  },
  {
   "cell_type": "code",
   "execution_count": 639,
   "metadata": {},
   "outputs": [],
   "source": [
    "fund_93 = pick_data_test(merge_fund_data, basic_data, 0 , 1)"
   ]
  },
  {
   "cell_type": "code",
   "execution_count": 640,
   "metadata": {},
   "outputs": [],
   "source": [
    "fund_93 = fund_93[[\"close\"]]"
   ]
  },
  {
   "cell_type": "code",
   "execution_count": 641,
   "metadata": {},
   "outputs": [],
   "source": [
    "fund_93[\"date\"] = fund_93.index"
   ]
  },
  {
   "cell_type": "code",
   "execution_count": 642,
   "metadata": {},
   "outputs": [],
   "source": [
    "fund_93_1 = fund_93.iloc[725:726]"
   ]
  },
  {
   "cell_type": "code",
   "execution_count": 644,
   "metadata": {},
   "outputs": [],
   "source": [
    "fund_93_2 = fund_93.iloc[726:len(fund_93)]"
   ]
  },
  {
   "cell_type": "code",
   "execution_count": 645,
   "metadata": {},
   "outputs": [],
   "source": [
    "fund_93_1.index = range(0, len(fund_93_1))"
   ]
  },
  {
   "cell_type": "code",
   "execution_count": 646,
   "metadata": {},
   "outputs": [],
   "source": [
    "fund_93_2.index = range(0, len(fund_93_2))"
   ]
  },
  {
   "cell_type": "code",
   "execution_count": 647,
   "metadata": {},
   "outputs": [
    {
     "data": {
      "text/html": [
       "<div>\n",
       "<style scoped>\n",
       "    .dataframe tbody tr th:only-of-type {\n",
       "        vertical-align: middle;\n",
       "    }\n",
       "\n",
       "    .dataframe tbody tr th {\n",
       "        vertical-align: top;\n",
       "    }\n",
       "\n",
       "    .dataframe thead th {\n",
       "        text-align: right;\n",
       "    }\n",
       "</style>\n",
       "<table border=\"1\" class=\"dataframe\">\n",
       "  <thead>\n",
       "    <tr style=\"text-align: right;\">\n",
       "      <th></th>\n",
       "      <th>close</th>\n",
       "      <th>date</th>\n",
       "    </tr>\n",
       "  </thead>\n",
       "  <tbody>\n",
       "    <tr>\n",
       "      <th>0</th>\n",
       "      <td>1824.0</td>\n",
       "      <td>20180427</td>\n",
       "    </tr>\n",
       "  </tbody>\n",
       "</table>\n",
       "</div>"
      ],
      "text/plain": [
       "    close      date\n",
       "0  1824.0  20180427"
      ]
     },
     "execution_count": 647,
     "metadata": {},
     "output_type": "execute_result"
    }
   ],
   "source": [
    "fund_93_1"
   ]
  },
  {
   "cell_type": "code",
   "execution_count": 648,
   "metadata": {},
   "outputs": [
    {
     "data": {
      "text/html": [
       "<div>\n",
       "<style scoped>\n",
       "    .dataframe tbody tr th:only-of-type {\n",
       "        vertical-align: middle;\n",
       "    }\n",
       "\n",
       "    .dataframe tbody tr th {\n",
       "        vertical-align: top;\n",
       "    }\n",
       "\n",
       "    .dataframe thead th {\n",
       "        text-align: right;\n",
       "    }\n",
       "</style>\n",
       "<table border=\"1\" class=\"dataframe\">\n",
       "  <thead>\n",
       "    <tr style=\"text-align: right;\">\n",
       "      <th></th>\n",
       "      <th>close</th>\n",
       "      <th>date</th>\n",
       "    </tr>\n",
       "  </thead>\n",
       "  <tbody>\n",
       "    <tr>\n",
       "      <th>0</th>\n",
       "      <td>1822.0</td>\n",
       "      <td>20180502</td>\n",
       "    </tr>\n",
       "    <tr>\n",
       "      <th>1</th>\n",
       "      <td>1829.0</td>\n",
       "      <td>20180511</td>\n",
       "    </tr>\n",
       "    <tr>\n",
       "      <th>2</th>\n",
       "      <td>1839.0</td>\n",
       "      <td>20180514</td>\n",
       "    </tr>\n",
       "    <tr>\n",
       "      <th>3</th>\n",
       "      <td>1845.0</td>\n",
       "      <td>20180515</td>\n",
       "    </tr>\n",
       "    <tr>\n",
       "      <th>4</th>\n",
       "      <td>1853.0</td>\n",
       "      <td>20180516</td>\n",
       "    </tr>\n",
       "  </tbody>\n",
       "</table>\n",
       "</div>"
      ],
      "text/plain": [
       "    close      date\n",
       "0  1822.0  20180502\n",
       "1  1829.0  20180511\n",
       "2  1839.0  20180514\n",
       "3  1845.0  20180515\n",
       "4  1853.0  20180516"
      ]
     },
     "execution_count": 648,
     "metadata": {},
     "output_type": "execute_result"
    }
   ],
   "source": [
    "fund_93_2.head()"
   ]
  },
  {
   "cell_type": "code",
   "execution_count": 650,
   "metadata": {},
   "outputs": [
    {
     "data": {
      "text/plain": [
       "38"
      ]
     },
     "execution_count": 650,
     "metadata": {},
     "output_type": "execute_result"
    }
   ],
   "source": [
    "len(fund_93_2)"
   ]
  },
  {
   "cell_type": "code",
   "execution_count": 687,
   "metadata": {},
   "outputs": [
    {
     "name": "stderr",
     "output_type": "stream",
     "text": [
      "C:\\Users\\a2224\\Anaconda3\\lib\\site-packages\\ipykernel_launcher.py:1: SettingWithCopyWarning: \n",
      "A value is trying to be set on a copy of a slice from a DataFrame.\n",
      "Try using .loc[row_indexer,col_indexer] = value instead\n",
      "\n",
      "See the caveats in the documentation: http://pandas.pydata.org/pandas-docs/stable/indexing.html#indexing-view-versus-copy\n",
      "  \"\"\"Entry point for launching an IPython kernel.\n"
     ]
    }
   ],
   "source": [
    "fund_93_2[\"pred\"] = denormalize(merge_fund_data, 0, 1, pred[0:38])"
   ]
  },
  {
   "cell_type": "code",
   "execution_count": 688,
   "metadata": {},
   "outputs": [
    {
     "name": "stderr",
     "output_type": "stream",
     "text": [
      "C:\\Users\\a2224\\Anaconda3\\lib\\site-packages\\ipykernel_launcher.py:1: SettingWithCopyWarning: \n",
      "A value is trying to be set on a copy of a slice from a DataFrame.\n",
      "Try using .loc[row_indexer,col_indexer] = value instead\n",
      "\n",
      "See the caveats in the documentation: http://pandas.pydata.org/pandas-docs/stable/indexing.html#indexing-view-versus-copy\n",
      "  \"\"\"Entry point for launching an IPython kernel.\n"
     ]
    }
   ],
   "source": [
    "fund_93_2[\"y_test\"] = denormalize(merge_fund_data, 0, 1, y_test[0:38])"
   ]
  },
  {
   "cell_type": "code",
   "execution_count": 689,
   "metadata": {},
   "outputs": [
    {
     "data": {
      "text/html": [
       "<div>\n",
       "<style scoped>\n",
       "    .dataframe tbody tr th:only-of-type {\n",
       "        vertical-align: middle;\n",
       "    }\n",
       "\n",
       "    .dataframe tbody tr th {\n",
       "        vertical-align: top;\n",
       "    }\n",
       "\n",
       "    .dataframe thead th {\n",
       "        text-align: right;\n",
       "    }\n",
       "</style>\n",
       "<table border=\"1\" class=\"dataframe\">\n",
       "  <thead>\n",
       "    <tr style=\"text-align: right;\">\n",
       "      <th></th>\n",
       "      <th>close</th>\n",
       "      <th>date</th>\n",
       "      <th>pred</th>\n",
       "      <th>y_test</th>\n",
       "    </tr>\n",
       "  </thead>\n",
       "  <tbody>\n",
       "    <tr>\n",
       "      <th>0</th>\n",
       "      <td>1822.0</td>\n",
       "      <td>20180502</td>\n",
       "      <td>1816.474365</td>\n",
       "      <td>1822.0</td>\n",
       "    </tr>\n",
       "    <tr>\n",
       "      <th>1</th>\n",
       "      <td>1829.0</td>\n",
       "      <td>20180511</td>\n",
       "      <td>1811.204712</td>\n",
       "      <td>1829.0</td>\n",
       "    </tr>\n",
       "    <tr>\n",
       "      <th>2</th>\n",
       "      <td>1839.0</td>\n",
       "      <td>20180514</td>\n",
       "      <td>1821.326538</td>\n",
       "      <td>1839.0</td>\n",
       "    </tr>\n",
       "    <tr>\n",
       "      <th>3</th>\n",
       "      <td>1845.0</td>\n",
       "      <td>20180515</td>\n",
       "      <td>1830.330200</td>\n",
       "      <td>1845.0</td>\n",
       "    </tr>\n",
       "    <tr>\n",
       "      <th>4</th>\n",
       "      <td>1853.0</td>\n",
       "      <td>20180516</td>\n",
       "      <td>1834.637207</td>\n",
       "      <td>1853.0</td>\n",
       "    </tr>\n",
       "    <tr>\n",
       "      <th>5</th>\n",
       "      <td>1862.0</td>\n",
       "      <td>20180517</td>\n",
       "      <td>1842.968384</td>\n",
       "      <td>1862.0</td>\n",
       "    </tr>\n",
       "    <tr>\n",
       "      <th>6</th>\n",
       "      <td>1869.0</td>\n",
       "      <td>20180518</td>\n",
       "      <td>1852.176880</td>\n",
       "      <td>1869.0</td>\n",
       "    </tr>\n",
       "    <tr>\n",
       "      <th>7</th>\n",
       "      <td>1838.0</td>\n",
       "      <td>20180523</td>\n",
       "      <td>1855.685669</td>\n",
       "      <td>1838.0</td>\n",
       "    </tr>\n",
       "    <tr>\n",
       "      <th>8</th>\n",
       "      <td>1807.0</td>\n",
       "      <td>20180524</td>\n",
       "      <td>1827.246338</td>\n",
       "      <td>1807.0</td>\n",
       "    </tr>\n",
       "    <tr>\n",
       "      <th>9</th>\n",
       "      <td>1745.0</td>\n",
       "      <td>20180530</td>\n",
       "      <td>1794.772339</td>\n",
       "      <td>1745.0</td>\n",
       "    </tr>\n",
       "    <tr>\n",
       "      <th>10</th>\n",
       "      <td>1754.0</td>\n",
       "      <td>20180601</td>\n",
       "      <td>1726.343018</td>\n",
       "      <td>1754.0</td>\n",
       "    </tr>\n",
       "    <tr>\n",
       "      <th>11</th>\n",
       "      <td>1781.0</td>\n",
       "      <td>20180605</td>\n",
       "      <td>1746.467529</td>\n",
       "      <td>1781.0</td>\n",
       "    </tr>\n",
       "    <tr>\n",
       "      <th>12</th>\n",
       "      <td>1784.0</td>\n",
       "      <td>20180606</td>\n",
       "      <td>1779.743896</td>\n",
       "      <td>1784.0</td>\n",
       "    </tr>\n",
       "    <tr>\n",
       "      <th>13</th>\n",
       "      <td>1793.0</td>\n",
       "      <td>20180607</td>\n",
       "      <td>1788.568481</td>\n",
       "      <td>1793.0</td>\n",
       "    </tr>\n",
       "    <tr>\n",
       "      <th>14</th>\n",
       "      <td>1782.0</td>\n",
       "      <td>20180608</td>\n",
       "      <td>1797.407715</td>\n",
       "      <td>1782.0</td>\n",
       "    </tr>\n",
       "    <tr>\n",
       "      <th>15</th>\n",
       "      <td>1791.0</td>\n",
       "      <td>20180613</td>\n",
       "      <td>1769.669189</td>\n",
       "      <td>1791.0</td>\n",
       "    </tr>\n",
       "    <tr>\n",
       "      <th>16</th>\n",
       "      <td>1785.0</td>\n",
       "      <td>20180614</td>\n",
       "      <td>1787.715332</td>\n",
       "      <td>1785.0</td>\n",
       "    </tr>\n",
       "    <tr>\n",
       "      <th>17</th>\n",
       "      <td>1742.0</td>\n",
       "      <td>20180619</td>\n",
       "      <td>1781.411133</td>\n",
       "      <td>1742.0</td>\n",
       "    </tr>\n",
       "    <tr>\n",
       "      <th>18</th>\n",
       "      <td>1742.0</td>\n",
       "      <td>20180620</td>\n",
       "      <td>1740.097046</td>\n",
       "      <td>1742.0</td>\n",
       "    </tr>\n",
       "    <tr>\n",
       "      <th>19</th>\n",
       "      <td>1732.0</td>\n",
       "      <td>20180621</td>\n",
       "      <td>1741.333618</td>\n",
       "      <td>1732.0</td>\n",
       "    </tr>\n",
       "    <tr>\n",
       "      <th>20</th>\n",
       "      <td>1725.0</td>\n",
       "      <td>20180622</td>\n",
       "      <td>1731.023804</td>\n",
       "      <td>1725.0</td>\n",
       "    </tr>\n",
       "    <tr>\n",
       "      <th>21</th>\n",
       "      <td>1716.0</td>\n",
       "      <td>20180625</td>\n",
       "      <td>1735.361450</td>\n",
       "      <td>1716.0</td>\n",
       "    </tr>\n",
       "    <tr>\n",
       "      <th>22</th>\n",
       "      <td>1728.0</td>\n",
       "      <td>20180626</td>\n",
       "      <td>1726.533081</td>\n",
       "      <td>1728.0</td>\n",
       "    </tr>\n",
       "    <tr>\n",
       "      <th>23</th>\n",
       "      <td>1724.0</td>\n",
       "      <td>20180627</td>\n",
       "      <td>1735.480591</td>\n",
       "      <td>1724.0</td>\n",
       "    </tr>\n",
       "    <tr>\n",
       "      <th>24</th>\n",
       "      <td>1718.0</td>\n",
       "      <td>20180628</td>\n",
       "      <td>1735.196411</td>\n",
       "      <td>1718.0</td>\n",
       "    </tr>\n",
       "    <tr>\n",
       "      <th>25</th>\n",
       "      <td>1724.0</td>\n",
       "      <td>20180629</td>\n",
       "      <td>1727.194214</td>\n",
       "      <td>1724.0</td>\n",
       "    </tr>\n",
       "    <tr>\n",
       "      <th>26</th>\n",
       "      <td>1690.0</td>\n",
       "      <td>20180706</td>\n",
       "      <td>1732.604492</td>\n",
       "      <td>1690.0</td>\n",
       "    </tr>\n",
       "    <tr>\n",
       "      <th>27</th>\n",
       "      <td>1713.0</td>\n",
       "      <td>20180710</td>\n",
       "      <td>1696.595459</td>\n",
       "      <td>1713.0</td>\n",
       "    </tr>\n",
       "    <tr>\n",
       "      <th>28</th>\n",
       "      <td>1698.0</td>\n",
       "      <td>20180711</td>\n",
       "      <td>1729.693726</td>\n",
       "      <td>1698.0</td>\n",
       "    </tr>\n",
       "    <tr>\n",
       "      <th>29</th>\n",
       "      <td>1698.0</td>\n",
       "      <td>20180712</td>\n",
       "      <td>1703.323364</td>\n",
       "      <td>1698.0</td>\n",
       "    </tr>\n",
       "    <tr>\n",
       "      <th>30</th>\n",
       "      <td>1711.0</td>\n",
       "      <td>20180713</td>\n",
       "      <td>1712.812866</td>\n",
       "      <td>1711.0</td>\n",
       "    </tr>\n",
       "    <tr>\n",
       "      <th>31</th>\n",
       "      <td>1726.0</td>\n",
       "      <td>20180717</td>\n",
       "      <td>1727.410767</td>\n",
       "      <td>1726.0</td>\n",
       "    </tr>\n",
       "    <tr>\n",
       "      <th>32</th>\n",
       "      <td>1734.0</td>\n",
       "      <td>20180718</td>\n",
       "      <td>1731.907593</td>\n",
       "      <td>1734.0</td>\n",
       "    </tr>\n",
       "    <tr>\n",
       "      <th>33</th>\n",
       "      <td>1737.0</td>\n",
       "      <td>20180719</td>\n",
       "      <td>1745.433594</td>\n",
       "      <td>1737.0</td>\n",
       "    </tr>\n",
       "    <tr>\n",
       "      <th>34</th>\n",
       "      <td>1726.0</td>\n",
       "      <td>20180720</td>\n",
       "      <td>1746.094482</td>\n",
       "      <td>1726.0</td>\n",
       "    </tr>\n",
       "    <tr>\n",
       "      <th>35</th>\n",
       "      <td>1734.0</td>\n",
       "      <td>20180723</td>\n",
       "      <td>1729.236572</td>\n",
       "      <td>1734.0</td>\n",
       "    </tr>\n",
       "    <tr>\n",
       "      <th>36</th>\n",
       "      <td>1746.0</td>\n",
       "      <td>20180724</td>\n",
       "      <td>1738.431030</td>\n",
       "      <td>1746.0</td>\n",
       "    </tr>\n",
       "    <tr>\n",
       "      <th>37</th>\n",
       "      <td>1753.0</td>\n",
       "      <td>20180725</td>\n",
       "      <td>1751.354004</td>\n",
       "      <td>1753.0</td>\n",
       "    </tr>\n",
       "  </tbody>\n",
       "</table>\n",
       "</div>"
      ],
      "text/plain": [
       "     close      date         pred  y_test\n",
       "0   1822.0  20180502  1816.474365  1822.0\n",
       "1   1829.0  20180511  1811.204712  1829.0\n",
       "2   1839.0  20180514  1821.326538  1839.0\n",
       "3   1845.0  20180515  1830.330200  1845.0\n",
       "4   1853.0  20180516  1834.637207  1853.0\n",
       "5   1862.0  20180517  1842.968384  1862.0\n",
       "6   1869.0  20180518  1852.176880  1869.0\n",
       "7   1838.0  20180523  1855.685669  1838.0\n",
       "8   1807.0  20180524  1827.246338  1807.0\n",
       "9   1745.0  20180530  1794.772339  1745.0\n",
       "10  1754.0  20180601  1726.343018  1754.0\n",
       "11  1781.0  20180605  1746.467529  1781.0\n",
       "12  1784.0  20180606  1779.743896  1784.0\n",
       "13  1793.0  20180607  1788.568481  1793.0\n",
       "14  1782.0  20180608  1797.407715  1782.0\n",
       "15  1791.0  20180613  1769.669189  1791.0\n",
       "16  1785.0  20180614  1787.715332  1785.0\n",
       "17  1742.0  20180619  1781.411133  1742.0\n",
       "18  1742.0  20180620  1740.097046  1742.0\n",
       "19  1732.0  20180621  1741.333618  1732.0\n",
       "20  1725.0  20180622  1731.023804  1725.0\n",
       "21  1716.0  20180625  1735.361450  1716.0\n",
       "22  1728.0  20180626  1726.533081  1728.0\n",
       "23  1724.0  20180627  1735.480591  1724.0\n",
       "24  1718.0  20180628  1735.196411  1718.0\n",
       "25  1724.0  20180629  1727.194214  1724.0\n",
       "26  1690.0  20180706  1732.604492  1690.0\n",
       "27  1713.0  20180710  1696.595459  1713.0\n",
       "28  1698.0  20180711  1729.693726  1698.0\n",
       "29  1698.0  20180712  1703.323364  1698.0\n",
       "30  1711.0  20180713  1712.812866  1711.0\n",
       "31  1726.0  20180717  1727.410767  1726.0\n",
       "32  1734.0  20180718  1731.907593  1734.0\n",
       "33  1737.0  20180719  1745.433594  1737.0\n",
       "34  1726.0  20180720  1746.094482  1726.0\n",
       "35  1734.0  20180723  1729.236572  1734.0\n",
       "36  1746.0  20180724  1738.431030  1746.0\n",
       "37  1753.0  20180725  1751.354004  1753.0"
      ]
     },
     "execution_count": 689,
     "metadata": {},
     "output_type": "execute_result"
    }
   ],
   "source": [
    "fund_93_2"
   ]
  },
  {
   "cell_type": "code",
   "execution_count": 693,
   "metadata": {},
   "outputs": [
    {
     "data": {
      "image/png": "[encoded data removed]",
      "text/plain": [
       "<Figure size 432x288 with 1 Axes>"
      ]
     },
     "metadata": {},
     "output_type": "display_data"
    }
   ],
   "source": [
    "plt.plot(fund_93_2[\"pred\"], color='red', label='Prediction')\n",
    "plt.plot(fund_93_2[\"close\"], color='blue', label='Answer')\n",
    "plt.legend(loc='best')\n",
    "plt.show()"
   ]
  },
  {
   "cell_type": "code",
   "execution_count": null,
   "metadata": {},
   "outputs": [],
   "source": []
  },
  {
   "cell_type": "code",
   "execution_count": null,
   "metadata": {},
   "outputs": [],
   "source": []
  }
 ],
 "metadata": {
  "kernelspec": {
   "display_name": "Python 3",
   "language": "python",
   "name": "python3"
  },
  "language_info": {
   "codemirror_mode": {
    "name": "ipython",
    "version": 3
   },
   "file_extension": ".py",
   "mimetype": "text/x-python",
   "name": "python",
   "nbconvert_exporter": "python",
   "pygments_lexer": "ipython3",
   "version": "3.6.5"
  }
 },
 "nbformat": 4,
 "nbformat_minor": 2
}
