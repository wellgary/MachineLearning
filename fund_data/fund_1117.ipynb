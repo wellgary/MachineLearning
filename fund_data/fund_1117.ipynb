{
 "cells": [
  {
   "cell_type": "code",
   "execution_count": 394,
   "metadata": {},
   "outputs": [],
   "source": [
    "import pandas as pd\n",
    "import numpy as np\n",
    "import time\n",
    "import math\n",
    "import talib\n",
    "from sklearn import preprocessing\n",
    "from keras.models import Sequential\n",
    "from keras.layers.core import Dense, Dropout, Activation\n",
    "from keras.layers.recurrent import LSTM\n",
    "import keras\n",
    "import matplotlib.pyplot as plt\n",
    "import tejapi\n",
    "import datetime\n",
    "from keras.callbacks import EarlyStopping \n",
    "import random\n",
    "%matplotlib inline  "
   ]
  },
  {
   "cell_type": "markdown",
   "metadata": {},
   "source": [
    "# 讀取資料"
   ]
  },
  {
   "cell_type": "code",
   "execution_count": 2,
   "metadata": {},
   "outputs": [],
   "source": [
    "fund_data = pd.read_csv(\"fundNav.csv\")"
   ]
  },
  {
   "cell_type": "code",
   "execution_count": 3,
   "metadata": {},
   "outputs": [
    {
     "data": {
      "text/html": [
       "<div>\n",
       "<style scoped>\n",
       "    .dataframe tbody tr th:only-of-type {\n",
       "        vertical-align: middle;\n",
       "    }\n",
       "\n",
       "    .dataframe tbody tr th {\n",
       "        vertical-align: top;\n",
       "    }\n",
       "\n",
       "    .dataframe thead th {\n",
       "        text-align: right;\n",
       "    }\n",
       "</style>\n",
       "<table border=\"1\" class=\"dataframe\">\n",
       "  <thead>\n",
       "    <tr style=\"text-align: right;\">\n",
       "      <th></th>\n",
       "      <th>基金碼</th>\n",
       "      <th>簡稱</th>\n",
       "      <th>年月日</th>\n",
       "      <th>原幣值</th>\n",
       "    </tr>\n",
       "  </thead>\n",
       "  <tbody>\n",
       "    <tr>\n",
       "      <th>0</th>\n",
       "      <td>AIZ19</td>\n",
       "      <td>柏瑞日本小A3</td>\n",
       "      <td>20131101</td>\n",
       "      <td>3516.8416</td>\n",
       "    </tr>\n",
       "    <tr>\n",
       "      <th>1</th>\n",
       "      <td>AIZ25</td>\n",
       "      <td>柏瑞美研增Ya$</td>\n",
       "      <td>20131101</td>\n",
       "      <td>122.1093</td>\n",
       "    </tr>\n",
       "    <tr>\n",
       "      <th>2</th>\n",
       "      <td>AIZ26</td>\n",
       "      <td>柏瑞歐研增Ya$</td>\n",
       "      <td>20131101</td>\n",
       "      <td>295.4282</td>\n",
       "    </tr>\n",
       "    <tr>\n",
       "      <th>3</th>\n",
       "      <td>AIZ29</td>\n",
       "      <td>柏瑞歐研增Aa$</td>\n",
       "      <td>20131101</td>\n",
       "      <td>20.6054</td>\n",
       "    </tr>\n",
       "    <tr>\n",
       "      <th>4</th>\n",
       "      <td>AIZ33</td>\n",
       "      <td>柏瑞日小股Y3</td>\n",
       "      <td>20131101</td>\n",
       "      <td>3931.6108</td>\n",
       "    </tr>\n",
       "  </tbody>\n",
       "</table>\n",
       "</div>"
      ],
      "text/plain": [
       "       基金碼        簡稱       年月日        原幣值\n",
       "0  AIZ19    柏瑞日本小A3   20131101  3516.8416\n",
       "1  AIZ25    柏瑞美研增Ya$  20131101   122.1093\n",
       "2  AIZ26    柏瑞歐研增Ya$  20131101   295.4282\n",
       "3  AIZ29    柏瑞歐研增Aa$  20131101    20.6054\n",
       "4  AIZ33    柏瑞日小股Y3   20131101  3931.6108"
      ]
     },
     "execution_count": 3,
     "metadata": {},
     "output_type": "execute_result"
    }
   ],
   "source": [
    "fund_data.head()"
   ]
  },
  {
   "cell_type": "code",
   "execution_count": 4,
   "metadata": {},
   "outputs": [],
   "source": [
    "fund_data.columns = ['code', 'name', 'date', 'price']"
   ]
  },
  {
   "cell_type": "code",
   "execution_count": 5,
   "metadata": {},
   "outputs": [],
   "source": [
    "code_new = []\n",
    "for i in range(len(fund_data)):\n",
    "    code_new.append(fund_data[\"code\"][i].strip())"
   ]
  },
  {
   "cell_type": "code",
   "execution_count": 6,
   "metadata": {},
   "outputs": [],
   "source": [
    "fund_data[\"code\"] = code_new"
   ]
  },
  {
   "cell_type": "code",
   "execution_count": 7,
   "metadata": {},
   "outputs": [],
   "source": [
    "unique_code = np.unique(fund_data[\"code\"])"
   ]
  },
  {
   "cell_type": "code",
   "execution_count": 8,
   "metadata": {},
   "outputs": [
    {
     "data": {
      "text/plain": [
       "500"
      ]
     },
     "execution_count": 8,
     "metadata": {},
     "output_type": "execute_result"
    }
   ],
   "source": [
    "len(unique_code)"
   ]
  },
  {
   "cell_type": "code",
   "execution_count": 9,
   "metadata": {},
   "outputs": [
    {
     "data": {
      "text/plain": [
       "'AIZ19'"
      ]
     },
     "execution_count": 9,
     "metadata": {},
     "output_type": "execute_result"
    }
   ],
   "source": [
    "fund_data[\"code\"][0]"
   ]
  },
  {
   "cell_type": "markdown",
   "metadata": {},
   "source": [
    "# 從TEJ抓資料"
   ]
  },
  {
   "cell_type": "markdown",
   "metadata": {},
   "source": [
    "### 挑出下市的基金"
   ]
  },
  {
   "cell_type": "code",
   "execution_count": 10,
   "metadata": {},
   "outputs": [],
   "source": [
    "tejapi.ApiConfig.api_key = \"DpLFP4HmlmAzovoMVUlZpICUNj6I7P\""
   ]
  },
  {
   "cell_type": "code",
   "execution_count": 11,
   "metadata": {},
   "outputs": [],
   "source": [
    "stop_fund = tejapi.get(\"TWN/AOFATT\", coid = unique_code, opts={'columns':'coid,' 'zstop_d'})"
   ]
  },
  {
   "cell_type": "code",
   "execution_count": 12,
   "metadata": {},
   "outputs": [
    {
     "name": "stderr",
     "output_type": "stream",
     "text": [
      "C:\\ProgramData\\Anaconda3\\lib\\site-packages\\ipykernel_launcher.py:4: FutureWarning: In the future, NAT != NAT will be True rather than False.\n",
      "  after removing the cwd from sys.path.\n"
     ]
    }
   ],
   "source": [
    "stop_index = []\n",
    "for i in range(len(stop_fund)):\n",
    "    non_stop = stop_fund[\"zstop_d\"].values[0]\n",
    "    if stop_fund[\"zstop_d\"].values[i] != non_stop:\n",
    "        stop_index.append(i)"
   ]
  },
  {
   "cell_type": "code",
   "execution_count": 13,
   "metadata": {},
   "outputs": [],
   "source": [
    "stop_code = stop_fund[\"coid\"][stop_index].values"
   ]
  },
  {
   "cell_type": "code",
   "execution_count": 14,
   "metadata": {},
   "outputs": [
    {
     "data": {
      "text/plain": [
       "array(['ISZG6', 'ISZF0', 'ISZA0', 'ISZ98', 'ISZ94', 'AEBB0', 'AEBA0',\n",
       "       'AEB96', 'AEB91', 'AEB70'], dtype=object)"
      ]
     },
     "execution_count": 14,
     "metadata": {},
     "output_type": "execute_result"
    }
   ],
   "source": [
    "stop_code"
   ]
  },
  {
   "cell_type": "code",
   "execution_count": 15,
   "metadata": {},
   "outputs": [],
   "source": [
    "revise_unique_code = []\n",
    "for i in range(len(unique_code)):\n",
    "    for j in range(len(stop_code)):\n",
    "        if unique_code[i] == stop_code[j]:\n",
    "            loop_stop = 1\n",
    "    if loop_stop != 1:\n",
    "        revise_unique_code.append(unique_code[i])\n",
    "    loop_stop = 0"
   ]
  },
  {
   "cell_type": "code",
   "execution_count": 16,
   "metadata": {},
   "outputs": [
    {
     "data": {
      "text/plain": [
       "490"
      ]
     },
     "execution_count": 16,
     "metadata": {},
     "output_type": "execute_result"
    }
   ],
   "source": [
    "len(revise_unique_code)"
   ]
  },
  {
   "cell_type": "markdown",
   "metadata": {},
   "source": [
    "# 分群"
   ]
  },
  {
   "cell_type": "code",
   "execution_count": 17,
   "metadata": {},
   "outputs": [],
   "source": [
    "group_fund_data = fund_data.groupby(\"code\")"
   ]
  },
  {
   "cell_type": "code",
   "execution_count": 18,
   "metadata": {},
   "outputs": [],
   "source": [
    "test = group_fund_data.get_group(revise_unique_code[0])"
   ]
  },
  {
   "cell_type": "code",
   "execution_count": 19,
   "metadata": {},
   "outputs": [
    {
     "data": {
      "text/html": [
       "<div>\n",
       "<style scoped>\n",
       "    .dataframe tbody tr th:only-of-type {\n",
       "        vertical-align: middle;\n",
       "    }\n",
       "\n",
       "    .dataframe tbody tr th {\n",
       "        vertical-align: top;\n",
       "    }\n",
       "\n",
       "    .dataframe thead th {\n",
       "        text-align: right;\n",
       "    }\n",
       "</style>\n",
       "<table border=\"1\" class=\"dataframe\">\n",
       "  <thead>\n",
       "    <tr style=\"text-align: right;\">\n",
       "      <th></th>\n",
       "      <th>code</th>\n",
       "      <th>name</th>\n",
       "      <th>date</th>\n",
       "      <th>price</th>\n",
       "    </tr>\n",
       "  </thead>\n",
       "  <tbody>\n",
       "    <tr>\n",
       "      <th>148</th>\n",
       "      <td>AFZ06</td>\n",
       "      <td>鋒裕全通膨連SE</td>\n",
       "      <td>20131104</td>\n",
       "      <td>114.61</td>\n",
       "    </tr>\n",
       "    <tr>\n",
       "      <th>433</th>\n",
       "      <td>AFZ06</td>\n",
       "      <td>鋒裕全通膨連SE</td>\n",
       "      <td>20131105</td>\n",
       "      <td>114.09</td>\n",
       "    </tr>\n",
       "    <tr>\n",
       "      <th>723</th>\n",
       "      <td>AFZ06</td>\n",
       "      <td>鋒裕全通膨連SE</td>\n",
       "      <td>20131106</td>\n",
       "      <td>114.28</td>\n",
       "    </tr>\n",
       "    <tr>\n",
       "      <th>1013</th>\n",
       "      <td>AFZ06</td>\n",
       "      <td>鋒裕全通膨連SE</td>\n",
       "      <td>20131107</td>\n",
       "      <td>114.47</td>\n",
       "    </tr>\n",
       "    <tr>\n",
       "      <th>1303</th>\n",
       "      <td>AFZ06</td>\n",
       "      <td>鋒裕全通膨連SE</td>\n",
       "      <td>20131108</td>\n",
       "      <td>113.74</td>\n",
       "    </tr>\n",
       "  </tbody>\n",
       "</table>\n",
       "</div>"
      ],
      "text/plain": [
       "       code      name      date   price\n",
       "148   AFZ06  鋒裕全通膨連SE  20131104  114.61\n",
       "433   AFZ06  鋒裕全通膨連SE  20131105  114.09\n",
       "723   AFZ06  鋒裕全通膨連SE  20131106  114.28\n",
       "1013  AFZ06  鋒裕全通膨連SE  20131107  114.47\n",
       "1303  AFZ06  鋒裕全通膨連SE  20131108  113.74"
      ]
     },
     "execution_count": 19,
     "metadata": {},
     "output_type": "execute_result"
    }
   ],
   "source": [
    "test.head()"
   ]
  },
  {
   "cell_type": "markdown",
   "metadata": {},
   "source": [
    "# 將500檔基金的日期合併(以日期最多的基金為基準)"
   ]
  },
  {
   "cell_type": "markdown",
   "metadata": {},
   "source": [
    "### 先找出日期最多的基金"
   ]
  },
  {
   "cell_type": "code",
   "execution_count": 20,
   "metadata": {},
   "outputs": [],
   "source": [
    "max_len = len(group_fund_data.get_group(revise_unique_code[0]))\n",
    "max_len_index = 0\n",
    "for i in range(1,490):\n",
    "    loop_len = len(group_fund_data.get_group(revise_unique_code[i]))\n",
    "    if(loop_len > max_len):\n",
    "        max_len = loop_len\n",
    "        max_len_index = i"
   ]
  },
  {
   "cell_type": "code",
   "execution_count": 21,
   "metadata": {},
   "outputs": [
    {
     "data": {
      "text/plain": [
       "1407"
      ]
     },
     "execution_count": 21,
     "metadata": {},
     "output_type": "execute_result"
    }
   ],
   "source": [
    "max_len"
   ]
  },
  {
   "cell_type": "code",
   "execution_count": 22,
   "metadata": {},
   "outputs": [
    {
     "data": {
      "text/plain": [
       "477"
      ]
     },
     "execution_count": 22,
     "metadata": {},
     "output_type": "execute_result"
    }
   ],
   "source": [
    "max_len_index"
   ]
  },
  {
   "cell_type": "markdown",
   "metadata": {},
   "source": [
    "### 將第93檔基金放到unique_code的第一個，依序將其他放入"
   ]
  },
  {
   "cell_type": "code",
   "execution_count": 23,
   "metadata": {},
   "outputs": [],
   "source": [
    "revise_unique_code2 = []\n",
    "revise_unique_code2.append(revise_unique_code[477])"
   ]
  },
  {
   "cell_type": "code",
   "execution_count": 24,
   "metadata": {},
   "outputs": [],
   "source": [
    "for i in range(0,477):\n",
    "    revise_unique_code2.append(revise_unique_code[i])\n",
    "for i in range(478,490):\n",
    "    revise_unique_code2.append(revise_unique_code[i])"
   ]
  },
  {
   "cell_type": "code",
   "execution_count": 25,
   "metadata": {},
   "outputs": [
    {
     "data": {
      "text/plain": [
       "['UBA17', 'AFZ06', 'AIZ19', 'AIZ25', 'AIZ26']"
      ]
     },
     "execution_count": 25,
     "metadata": {},
     "output_type": "execute_result"
    }
   ],
   "source": [
    "revise_unique_code2[0:5]"
   ]
  },
  {
   "cell_type": "code",
   "execution_count": 26,
   "metadata": {},
   "outputs": [
    {
     "data": {
      "text/plain": [
       "490"
      ]
     },
     "execution_count": 26,
     "metadata": {},
     "output_type": "execute_result"
    }
   ],
   "source": [
    "len(revise_unique_code2)"
   ]
  },
  {
   "cell_type": "markdown",
   "metadata": {},
   "source": [
    "### 以第93檔基金的日期做為基準，並合併"
   ]
  },
  {
   "cell_type": "code",
   "execution_count": 27,
   "metadata": {},
   "outputs": [],
   "source": [
    "outside_data = group_fund_data.get_group(revise_unique_code2[0])\n",
    "outside_data.index = outside_data.date\n",
    "outside_data = outside_data.iloc[:,3:4]\n",
    "outside_data.columns = [revise_unique_code2[0]]"
   ]
  },
  {
   "cell_type": "code",
   "execution_count": 28,
   "metadata": {},
   "outputs": [
    {
     "data": {
      "text/html": [
       "<div>\n",
       "<style scoped>\n",
       "    .dataframe tbody tr th:only-of-type {\n",
       "        vertical-align: middle;\n",
       "    }\n",
       "\n",
       "    .dataframe tbody tr th {\n",
       "        vertical-align: top;\n",
       "    }\n",
       "\n",
       "    .dataframe thead th {\n",
       "        text-align: right;\n",
       "    }\n",
       "</style>\n",
       "<table border=\"1\" class=\"dataframe\">\n",
       "  <thead>\n",
       "    <tr style=\"text-align: right;\">\n",
       "      <th></th>\n",
       "      <th>UBA17</th>\n",
       "    </tr>\n",
       "    <tr>\n",
       "      <th>date</th>\n",
       "      <th></th>\n",
       "    </tr>\n",
       "  </thead>\n",
       "  <tbody>\n",
       "    <tr>\n",
       "      <th>20131105</th>\n",
       "      <td>1099.0</td>\n",
       "    </tr>\n",
       "    <tr>\n",
       "      <th>20131106</th>\n",
       "      <td>1116.0</td>\n",
       "    </tr>\n",
       "    <tr>\n",
       "      <th>20131107</th>\n",
       "      <td>1113.0</td>\n",
       "    </tr>\n",
       "    <tr>\n",
       "      <th>20131108</th>\n",
       "      <td>1108.0</td>\n",
       "    </tr>\n",
       "    <tr>\n",
       "      <th>20131109</th>\n",
       "      <td>1108.0</td>\n",
       "    </tr>\n",
       "  </tbody>\n",
       "</table>\n",
       "</div>"
      ],
      "text/plain": [
       "           UBA17\n",
       "date            \n",
       "20131105  1099.0\n",
       "20131106  1116.0\n",
       "20131107  1113.0\n",
       "20131108  1108.0\n",
       "20131109  1108.0"
      ]
     },
     "execution_count": 28,
     "metadata": {},
     "output_type": "execute_result"
    }
   ],
   "source": [
    "outside_data.head()"
   ]
  },
  {
   "cell_type": "code",
   "execution_count": 29,
   "metadata": {},
   "outputs": [],
   "source": [
    "for i in range(1, len(revise_unique_code2)):\n",
    "    loop_data = group_fund_data.get_group(revise_unique_code2[i])\n",
    "    loop_data.index = loop_data.date\n",
    "    loop_data = loop_data.iloc[:,3:4]\n",
    "    loop_data.columns = [revise_unique_code2[i]]\n",
    "    outside_data = pd.concat([outside_data, loop_data], axis=1, join_axes=[outside_data.index])"
   ]
  },
  {
   "cell_type": "code",
   "execution_count": 30,
   "metadata": {},
   "outputs": [],
   "source": [
    "merge_fund_data = outside_data"
   ]
  },
  {
   "cell_type": "code",
   "execution_count": 31,
   "metadata": {},
   "outputs": [],
   "source": [
    "merge_fund_data[\"date\"] = merge_fund_data.index"
   ]
  },
  {
   "cell_type": "code",
   "execution_count": 32,
   "metadata": {},
   "outputs": [],
   "source": [
    "merge_fund_data.index = range(0, len(merge_fund_data))"
   ]
  },
  {
   "cell_type": "code",
   "execution_count": 33,
   "metadata": {},
   "outputs": [],
   "source": [
    "date_revise = []\n",
    "for i in range(len(merge_fund_data)):\n",
    "    date_revise.append(datetime.datetime.strftime(datetime.datetime.strptime(str(merge_fund_data[\"date\"][i]), \"%Y%m%d\"), \"%Y-%m-%d\"))\n",
    "merge_fund_data.index = date_revise"
   ]
  },
  {
   "cell_type": "code",
   "execution_count": 34,
   "metadata": {},
   "outputs": [
    {
     "data": {
      "text/html": [
       "<div>\n",
       "<style scoped>\n",
       "    .dataframe tbody tr th:only-of-type {\n",
       "        vertical-align: middle;\n",
       "    }\n",
       "\n",
       "    .dataframe tbody tr th {\n",
       "        vertical-align: top;\n",
       "    }\n",
       "\n",
       "    .dataframe thead th {\n",
       "        text-align: right;\n",
       "    }\n",
       "</style>\n",
       "<table border=\"1\" class=\"dataframe\">\n",
       "  <thead>\n",
       "    <tr style=\"text-align: right;\">\n",
       "      <th></th>\n",
       "      <th>UBA17</th>\n",
       "      <th>AFZ06</th>\n",
       "      <th>AIZ19</th>\n",
       "      <th>AIZ25</th>\n",
       "      <th>AIZ26</th>\n",
       "      <th>AIZ29</th>\n",
       "      <th>AIZ33</th>\n",
       "      <th>AIZ56</th>\n",
       "      <th>AIZ57</th>\n",
       "      <th>AIZ62</th>\n",
       "      <th>...</th>\n",
       "      <th>UOB22</th>\n",
       "      <th>UOB26</th>\n",
       "      <th>UOB40</th>\n",
       "      <th>UOB41</th>\n",
       "      <th>VON06</th>\n",
       "      <th>VON10</th>\n",
       "      <th>VON18</th>\n",
       "      <th>VON23</th>\n",
       "      <th>VON25</th>\n",
       "      <th>date</th>\n",
       "    </tr>\n",
       "  </thead>\n",
       "  <tbody>\n",
       "    <tr>\n",
       "      <th>2013-11-05</th>\n",
       "      <td>1099.0</td>\n",
       "      <td>114.09</td>\n",
       "      <td>3536.3005</td>\n",
       "      <td>122.2801</td>\n",
       "      <td>295.8842</td>\n",
       "      <td>20.6363</td>\n",
       "      <td>3953.5381</td>\n",
       "      <td>15.9421</td>\n",
       "      <td>165.7173</td>\n",
       "      <td>130.0218</td>\n",
       "      <td>...</td>\n",
       "      <td>2.557</td>\n",
       "      <td>2.055</td>\n",
       "      <td>1.054</td>\n",
       "      <td>1.930</td>\n",
       "      <td>68.76</td>\n",
       "      <td>75.77</td>\n",
       "      <td>193.23</td>\n",
       "      <td>152.06</td>\n",
       "      <td>117.90</td>\n",
       "      <td>20131105</td>\n",
       "    </tr>\n",
       "    <tr>\n",
       "      <th>2013-11-06</th>\n",
       "      <td>1116.0</td>\n",
       "      <td>114.28</td>\n",
       "      <td>3531.7229</td>\n",
       "      <td>122.5995</td>\n",
       "      <td>298.3029</td>\n",
       "      <td>20.8046</td>\n",
       "      <td>3948.5110</td>\n",
       "      <td>16.0192</td>\n",
       "      <td>166.5209</td>\n",
       "      <td>129.8848</td>\n",
       "      <td>...</td>\n",
       "      <td>2.541</td>\n",
       "      <td>2.045</td>\n",
       "      <td>1.051</td>\n",
       "      <td>1.943</td>\n",
       "      <td>68.87</td>\n",
       "      <td>76.19</td>\n",
       "      <td>193.94</td>\n",
       "      <td>152.83</td>\n",
       "      <td>117.96</td>\n",
       "      <td>20131106</td>\n",
       "    </tr>\n",
       "    <tr>\n",
       "      <th>2013-11-07</th>\n",
       "      <td>1113.0</td>\n",
       "      <td>114.47</td>\n",
       "      <td>3532.8955</td>\n",
       "      <td>120.9063</td>\n",
       "      <td>295.1083</td>\n",
       "      <td>20.5813</td>\n",
       "      <td>3949.9065</td>\n",
       "      <td>15.8264</td>\n",
       "      <td>164.5181</td>\n",
       "      <td>129.6473</td>\n",
       "      <td>...</td>\n",
       "      <td>2.522</td>\n",
       "      <td>2.024</td>\n",
       "      <td>1.051</td>\n",
       "      <td>1.936</td>\n",
       "      <td>69.19</td>\n",
       "      <td>75.72</td>\n",
       "      <td>190.65</td>\n",
       "      <td>152.39</td>\n",
       "      <td>118.02</td>\n",
       "      <td>20131107</td>\n",
       "    </tr>\n",
       "    <tr>\n",
       "      <th>2013-11-08</th>\n",
       "      <td>1108.0</td>\n",
       "      <td>113.74</td>\n",
       "      <td>3518.3689</td>\n",
       "      <td>122.6620</td>\n",
       "      <td>293.8962</td>\n",
       "      <td>20.4954</td>\n",
       "      <td>3933.9346</td>\n",
       "      <td>16.0544</td>\n",
       "      <td>166.8950</td>\n",
       "      <td>128.3850</td>\n",
       "      <td>...</td>\n",
       "      <td>2.567</td>\n",
       "      <td>2.058</td>\n",
       "      <td>1.046</td>\n",
       "      <td>1.932</td>\n",
       "      <td>68.79</td>\n",
       "      <td>75.09</td>\n",
       "      <td>193.06</td>\n",
       "      <td>151.01</td>\n",
       "      <td>117.97</td>\n",
       "      <td>20131108</td>\n",
       "    </tr>\n",
       "    <tr>\n",
       "      <th>2013-11-09</th>\n",
       "      <td>1108.0</td>\n",
       "      <td>NaN</td>\n",
       "      <td>NaN</td>\n",
       "      <td>NaN</td>\n",
       "      <td>NaN</td>\n",
       "      <td>NaN</td>\n",
       "      <td>NaN</td>\n",
       "      <td>NaN</td>\n",
       "      <td>NaN</td>\n",
       "      <td>NaN</td>\n",
       "      <td>...</td>\n",
       "      <td>NaN</td>\n",
       "      <td>NaN</td>\n",
       "      <td>NaN</td>\n",
       "      <td>NaN</td>\n",
       "      <td>NaN</td>\n",
       "      <td>NaN</td>\n",
       "      <td>NaN</td>\n",
       "      <td>NaN</td>\n",
       "      <td>NaN</td>\n",
       "      <td>20131109</td>\n",
       "    </tr>\n",
       "  </tbody>\n",
       "</table>\n",
       "<p>5 rows × 491 columns</p>\n",
       "</div>"
      ],
      "text/plain": [
       "             UBA17   AFZ06      AIZ19     AIZ25     AIZ26    AIZ29      AIZ33  \\\n",
       "2013-11-05  1099.0  114.09  3536.3005  122.2801  295.8842  20.6363  3953.5381   \n",
       "2013-11-06  1116.0  114.28  3531.7229  122.5995  298.3029  20.8046  3948.5110   \n",
       "2013-11-07  1113.0  114.47  3532.8955  120.9063  295.1083  20.5813  3949.9065   \n",
       "2013-11-08  1108.0  113.74  3518.3689  122.6620  293.8962  20.4954  3933.9346   \n",
       "2013-11-09  1108.0     NaN        NaN       NaN       NaN      NaN        NaN   \n",
       "\n",
       "              AIZ56     AIZ57     AIZ62    ...     UOB22  UOB26  UOB40  UOB41  \\\n",
       "2013-11-05  15.9421  165.7173  130.0218    ...     2.557  2.055  1.054  1.930   \n",
       "2013-11-06  16.0192  166.5209  129.8848    ...     2.541  2.045  1.051  1.943   \n",
       "2013-11-07  15.8264  164.5181  129.6473    ...     2.522  2.024  1.051  1.936   \n",
       "2013-11-08  16.0544  166.8950  128.3850    ...     2.567  2.058  1.046  1.932   \n",
       "2013-11-09      NaN       NaN       NaN    ...       NaN    NaN    NaN    NaN   \n",
       "\n",
       "            VON06  VON10   VON18   VON23   VON25      date  \n",
       "2013-11-05  68.76  75.77  193.23  152.06  117.90  20131105  \n",
       "2013-11-06  68.87  76.19  193.94  152.83  117.96  20131106  \n",
       "2013-11-07  69.19  75.72  190.65  152.39  118.02  20131107  \n",
       "2013-11-08  68.79  75.09  193.06  151.01  117.97  20131108  \n",
       "2013-11-09    NaN    NaN     NaN     NaN     NaN  20131109  \n",
       "\n",
       "[5 rows x 491 columns]"
      ]
     },
     "execution_count": 34,
     "metadata": {},
     "output_type": "execute_result"
    }
   ],
   "source": [
    "merge_fund_data.head(5)"
   ]
  },
  {
   "cell_type": "markdown",
   "metadata": {},
   "source": [
    "### 整理成週資料(開高收低)"
   ]
  },
  {
   "cell_type": "code",
   "execution_count": 39,
   "metadata": {},
   "outputs": [
    {
     "name": "stdout",
     "output_type": "stream",
     "text": [
      "0\n",
      "1\n",
      "2\n",
      "3\n",
      "4\n",
      "5\n",
      "6\n",
      "7\n",
      "8\n",
      "9\n",
      "10\n",
      "11\n",
      "12\n",
      "13\n",
      "14\n",
      "15\n",
      "16\n",
      "17\n",
      "18\n",
      "19\n",
      "20\n",
      "21\n",
      "22\n",
      "23\n",
      "24\n",
      "25\n",
      "26\n",
      "27\n",
      "28\n",
      "29\n",
      "30\n",
      "31\n",
      "32\n",
      "33\n",
      "34\n",
      "35\n",
      "36\n",
      "37\n",
      "38\n",
      "39\n",
      "40\n",
      "41\n",
      "42\n",
      "43\n",
      "44\n",
      "45\n",
      "46\n",
      "47\n",
      "48\n",
      "49\n",
      "50\n",
      "51\n",
      "52\n",
      "53\n",
      "54\n",
      "55\n",
      "56\n",
      "57\n",
      "58\n",
      "59\n",
      "60\n",
      "61\n",
      "62\n",
      "63\n",
      "64\n",
      "65\n",
      "66\n",
      "67\n",
      "68\n",
      "69\n",
      "70\n",
      "71\n",
      "72\n",
      "73\n",
      "74\n",
      "75\n",
      "76\n",
      "77\n",
      "78\n",
      "79\n",
      "80\n",
      "81\n",
      "82\n",
      "83\n",
      "84\n",
      "85\n",
      "86\n",
      "87\n",
      "88\n",
      "89\n",
      "90\n",
      "91\n",
      "92\n",
      "93\n",
      "94\n",
      "95\n",
      "96\n",
      "97\n",
      "98\n",
      "99\n",
      "100\n",
      "101\n",
      "102\n",
      "103\n",
      "104\n",
      "105\n",
      "106\n",
      "107\n",
      "108\n",
      "109\n",
      "110\n",
      "111\n",
      "112\n",
      "113\n",
      "114\n",
      "115\n",
      "116\n",
      "117\n",
      "118\n",
      "119\n",
      "120\n",
      "121\n",
      "122\n",
      "123\n",
      "124\n",
      "125\n",
      "126\n",
      "127\n",
      "128\n",
      "129\n",
      "130\n",
      "131\n",
      "132\n",
      "133\n",
      "134\n",
      "135\n",
      "136\n",
      "137\n",
      "138\n",
      "139\n",
      "140\n",
      "141\n",
      "142\n",
      "143\n",
      "144\n",
      "145\n",
      "146\n",
      "147\n",
      "148\n",
      "149\n",
      "150\n",
      "151\n",
      "152\n",
      "153\n",
      "154\n",
      "155\n",
      "156\n",
      "157\n",
      "158\n",
      "159\n",
      "160\n",
      "161\n",
      "162\n",
      "163\n",
      "164\n",
      "165\n",
      "166\n",
      "167\n",
      "168\n",
      "169\n",
      "170\n",
      "171\n",
      "172\n",
      "173\n",
      "174\n",
      "175\n",
      "176\n",
      "177\n",
      "178\n",
      "179\n",
      "180\n",
      "181\n",
      "182\n",
      "183\n",
      "184\n",
      "185\n",
      "186\n",
      "187\n",
      "188\n",
      "189\n",
      "190\n",
      "191\n",
      "192\n",
      "193\n",
      "194\n",
      "195\n",
      "196\n",
      "197\n",
      "198\n",
      "199\n",
      "200\n",
      "201\n",
      "202\n",
      "203\n",
      "204\n",
      "205\n",
      "206\n",
      "207\n",
      "208\n",
      "209\n",
      "210\n",
      "211\n",
      "212\n",
      "213\n",
      "214\n",
      "215\n",
      "216\n",
      "217\n",
      "218\n",
      "219\n",
      "220\n",
      "221\n",
      "222\n",
      "223\n",
      "224\n",
      "225\n",
      "226\n",
      "227\n",
      "228\n",
      "229\n",
      "230\n",
      "231\n",
      "232\n",
      "233\n",
      "234\n",
      "235\n",
      "236\n",
      "237\n",
      "238\n",
      "239\n",
      "240\n",
      "241\n",
      "242\n",
      "243\n",
      "244\n",
      "245\n",
      "246\n",
      "247\n",
      "248\n",
      "249\n",
      "250\n",
      "251\n",
      "252\n",
      "253\n",
      "254\n",
      "255\n",
      "256\n",
      "257\n",
      "258\n",
      "259\n",
      "260\n",
      "261\n",
      "262\n",
      "263\n",
      "264\n",
      "265\n",
      "266\n",
      "267\n",
      "268\n",
      "269\n",
      "270\n",
      "271\n",
      "272\n",
      "273\n",
      "274\n",
      "275\n",
      "276\n",
      "277\n",
      "278\n",
      "279\n",
      "280\n",
      "281\n",
      "282\n",
      "283\n",
      "284\n",
      "285\n",
      "286\n",
      "287\n",
      "288\n",
      "289\n",
      "290\n",
      "291\n",
      "292\n",
      "293\n",
      "294\n",
      "295\n",
      "296\n",
      "297\n",
      "298\n",
      "299\n",
      "300\n",
      "301\n",
      "302\n",
      "303\n",
      "304\n",
      "305\n",
      "306\n",
      "307\n",
      "308\n",
      "309\n",
      "310\n",
      "311\n",
      "312\n",
      "313\n",
      "314\n",
      "315\n",
      "316\n",
      "317\n",
      "318\n",
      "319\n",
      "320\n",
      "321\n",
      "322\n",
      "323\n",
      "324\n",
      "325\n",
      "326\n",
      "327\n",
      "328\n",
      "329\n",
      "330\n",
      "331\n",
      "332\n",
      "333\n",
      "334\n",
      "335\n",
      "336\n",
      "337\n",
      "338\n",
      "339\n",
      "340\n",
      "341\n",
      "342\n",
      "343\n",
      "344\n",
      "345\n",
      "346\n",
      "347\n",
      "348\n",
      "349\n",
      "350\n",
      "351\n",
      "352\n",
      "353\n",
      "354\n",
      "355\n",
      "356\n",
      "357\n",
      "358\n",
      "359\n",
      "360\n",
      "361\n",
      "362\n",
      "363\n",
      "364\n",
      "365\n",
      "366\n",
      "367\n",
      "368\n",
      "369\n",
      "370\n",
      "371\n",
      "372\n",
      "373\n",
      "374\n",
      "375\n",
      "376\n",
      "377\n",
      "378\n",
      "379\n",
      "380\n",
      "381\n",
      "382\n",
      "383\n",
      "384\n",
      "385\n",
      "386\n",
      "387\n",
      "388\n",
      "389\n",
      "390\n",
      "391\n",
      "392\n",
      "393\n",
      "394\n",
      "395\n",
      "396\n",
      "397\n",
      "398\n",
      "399\n",
      "400\n",
      "401\n",
      "402\n",
      "403\n",
      "404\n",
      "405\n",
      "406\n",
      "407\n",
      "408\n",
      "409\n",
      "410\n",
      "411\n",
      "412\n",
      "413\n",
      "414\n",
      "415\n",
      "416\n",
      "417\n",
      "418\n",
      "419\n",
      "420\n",
      "421\n",
      "422\n",
      "423\n",
      "424\n",
      "425\n",
      "426\n",
      "427\n",
      "428\n",
      "429\n",
      "430\n",
      "431\n",
      "432\n",
      "433\n",
      "434\n",
      "435\n",
      "436\n",
      "437\n",
      "438\n",
      "439\n",
      "440\n",
      "441\n",
      "442\n",
      "443\n",
      "444\n",
      "445\n",
      "446\n",
      "447\n",
      "448\n",
      "449\n",
      "450\n",
      "451\n",
      "452\n",
      "453\n",
      "454\n",
      "455\n",
      "456\n",
      "457\n",
      "458\n",
      "459\n",
      "460\n",
      "461\n",
      "462\n",
      "463\n",
      "464\n",
      "465\n",
      "466\n",
      "467\n",
      "468\n",
      "469\n",
      "470\n",
      "471\n",
      "472\n",
      "473\n",
      "474\n",
      "475\n",
      "476\n",
      "477\n",
      "478\n",
      "479\n",
      "480\n",
      "481\n",
      "482\n",
      "483\n",
      "484\n",
      "485\n",
      "486\n",
      "487\n",
      "488\n",
      "489\n"
     ]
    }
   ],
   "source": [
    "revise_merge_data = pd.DataFrame(columns=[\"code\", \"start_date\", \"end_date\", \"open\", \"high\", \"close\", \"low\"])\n",
    "for j in range(len(revise_unique_code2)):\n",
    "    revise_data = pd.concat([merge_fund_data.iloc[:,j:j+1], merge_fund_data[\"date\"]], axis=1)\n",
    "    ## 第一週\n",
    "    range_data = revise_data.loc[\"2013-11-05\":\"2013-11-10\"]\n",
    "    range_data.index = range(len(range_data))\n",
    "    revise_open = range_data.iloc[:,0:1].values[0][0]\n",
    "    revise_close = range_data.iloc[:,0:1].values[len(range_data)-1][0]\n",
    "    if str(revise_open) == \"nan\":\n",
    "        for i in range(1,len(range_data)):\n",
    "            revise_open = revise_data.iloc[:,0:1].values[i][0]\n",
    "    revise_high = revise_open\n",
    "    revise_low = revise_open\n",
    "    for i in range(1,len(range_data)):\n",
    "        if str(revise_close) == \"nan\":\n",
    "            revise_close = revise_data.iloc[:,0:1].values[len(range_data)-1-i][0]\n",
    "        if revise_data.iloc[:,0:1].values[i][0] > revise_high:\n",
    "            revise_high = revise_data.iloc[:,0:1].values[i][0]\n",
    "        if revise_data.iloc[:,0:1].values[i][0] < revise_low:\n",
    "            revise_low = revise_data.iloc[:,0:1].values[i][0]\n",
    "    revisedata_dict = {\n",
    "        \"code\":revise_data.columns[0],\n",
    "        \"start_date\":datetime.datetime.strftime(datetime.datetime.strptime(str(merge_fund_data[\"date\"][0]), \"%Y%m%d\"), \"%Y-%m-%d\"),\n",
    "        \"end_date\":datetime.datetime.strftime(datetime.datetime.strptime(str(merge_fund_data[\"date\"][len(range_data)-1]), \"%Y%m%d\"), \"%Y-%m-%d\"),\n",
    "        \"open\": revise_open,\n",
    "        \"high\": revise_high,\n",
    "        \"close\":revise_close,\n",
    "        \"low\":revise_low\n",
    "    }\n",
    "    revise_merge_data = pd.concat([revise_merge_data, pd.DataFrame(revisedata_dict, index=[0])], axis=0)\n",
    "    ## 後面所有的週\n",
    "    for ix in range(0, 262):\n",
    "        start_date = datetime.datetime.strptime(str(merge_fund_data[\"date\"][6]), \"%Y%m%d\") + datetime.timedelta(days=ix*7)\n",
    "        start_date = datetime.datetime.strftime(start_date, \"%Y-%m-%d\")\n",
    "        end_date = datetime.datetime.strptime(str(merge_fund_data[\"date\"][12]), \"%Y%m%d\") + datetime.timedelta(days=ix*7)\n",
    "        end_date = datetime.datetime.strftime(end_date, \"%Y-%m-%d\")\n",
    "        range_data = revise_data.loc[start_date:end_date]\n",
    "        range_data.index = range(len(range_data))\n",
    "        revise_open = range_data.iloc[:,0:1].values[0][0]\n",
    "        revise_close = range_data.iloc[:,0:1].values[len(range_data)-1][0]\n",
    "        if str(revise_open) == \"nan\":\n",
    "            for i in range(1,len(range_data)):\n",
    "                revise_open = range_data.iloc[:,0:1].values[i][0]\n",
    "        revise_high = revise_open\n",
    "        revise_low = revise_open\n",
    "        for i in range(1,len(range_data)):\n",
    "            if str(revise_close) == \"nan\":\n",
    "                revise_close = range_data.iloc[:,0:1].values[len(range_data)-1-i][0]\n",
    "            if range_data.iloc[:,0:1].values[i][0] > revise_high:\n",
    "                revise_high = range_data.iloc[:,0:1].values[i][0]\n",
    "            if range_data.iloc[:,0:1].values[i][0] < revise_low:\n",
    "                revise_low = range_data.iloc[:,0:1].values[i][0]\n",
    "        revisedata_dict = {\n",
    "            \"code\":revise_data.columns[0],\n",
    "            \"start_date\":start_date,\n",
    "            \"end_date\":end_date,\n",
    "            \"open\": revise_open,\n",
    "            \"high\": revise_high,\n",
    "            \"close\":revise_close,\n",
    "            \"low\":revise_low\n",
    "        }\n",
    "        revise_merge_data = pd.concat([revise_merge_data, pd.DataFrame(revisedata_dict, index=[0])], axis=0)\n",
    "    print(j)"
   ]
  },
  {
   "cell_type": "code",
   "execution_count": 41,
   "metadata": {},
   "outputs": [],
   "source": [
    "revise_merge_data.index = range(len(revise_merge_data))"
   ]
  },
  {
   "cell_type": "code",
   "execution_count": 43,
   "metadata": {},
   "outputs": [],
   "source": [
    "revise_merge_data.to_csv(\"revise_data.csv\", index=False)"
   ]
  },
  {
   "cell_type": "markdown",
   "metadata": {},
   "source": [
    "# 總經資料"
   ]
  },
  {
   "cell_type": "markdown",
   "metadata": {},
   "source": [
    "### 石油"
   ]
  },
  {
   "cell_type": "code",
   "execution_count": 53,
   "metadata": {},
   "outputs": [],
   "source": [
    "oil_data = pd.read_csv(\"DCOILBRENTEU_1117.csv\")"
   ]
  },
  {
   "cell_type": "code",
   "execution_count": 54,
   "metadata": {},
   "outputs": [],
   "source": [
    "oil_data.columns = [\"DATE\", \"OIL\"]"
   ]
  },
  {
   "cell_type": "code",
   "execution_count": 59,
   "metadata": {},
   "outputs": [],
   "source": [
    "date_oil = []\n",
    "for i in range(0, len(oil_data[\"DATE\"])):\n",
    "    date_oil.append(oil_data[\"DATE\"][i].replace('-', ''))"
   ]
  },
  {
   "cell_type": "code",
   "execution_count": 63,
   "metadata": {},
   "outputs": [],
   "source": [
    "oil_data[\"DATE\"] = date_oil"
   ]
  },
  {
   "cell_type": "code",
   "execution_count": 69,
   "metadata": {},
   "outputs": [],
   "source": [
    "date_oil = []\n",
    "for i in range(len(oil_data)):\n",
    "    date_oil.append(datetime.datetime.strftime(datetime.datetime.strptime(str(oil_data[\"DATE\"][i]), \"%Y%m%d\"), \"%Y-%m-%d\"))\n",
    "oil_data.index = date_oil"
   ]
  },
  {
   "cell_type": "code",
   "execution_count": 72,
   "metadata": {},
   "outputs": [],
   "source": [
    "oil_data = oil_data.drop([\"DATE\"], axis=1)"
   ]
  },
  {
   "cell_type": "code",
   "execution_count": 73,
   "metadata": {},
   "outputs": [
    {
     "data": {
      "text/html": [
       "<div>\n",
       "<style scoped>\n",
       "    .dataframe tbody tr th:only-of-type {\n",
       "        vertical-align: middle;\n",
       "    }\n",
       "\n",
       "    .dataframe tbody tr th {\n",
       "        vertical-align: top;\n",
       "    }\n",
       "\n",
       "    .dataframe thead th {\n",
       "        text-align: right;\n",
       "    }\n",
       "</style>\n",
       "<table border=\"1\" class=\"dataframe\">\n",
       "  <thead>\n",
       "    <tr style=\"text-align: right;\">\n",
       "      <th></th>\n",
       "      <th>OIL</th>\n",
       "    </tr>\n",
       "  </thead>\n",
       "  <tbody>\n",
       "    <tr>\n",
       "      <th>2013-11-01</th>\n",
       "      <td>105.78</td>\n",
       "    </tr>\n",
       "    <tr>\n",
       "      <th>2013-11-04</th>\n",
       "      <td>104.85</td>\n",
       "    </tr>\n",
       "    <tr>\n",
       "      <th>2013-11-05</th>\n",
       "      <td>105.01</td>\n",
       "    </tr>\n",
       "    <tr>\n",
       "      <th>2013-11-06</th>\n",
       "      <td>105.46</td>\n",
       "    </tr>\n",
       "    <tr>\n",
       "      <th>2013-11-07</th>\n",
       "      <td>103.08</td>\n",
       "    </tr>\n",
       "  </tbody>\n",
       "</table>\n",
       "</div>"
      ],
      "text/plain": [
       "               OIL\n",
       "2013-11-01  105.78\n",
       "2013-11-04  104.85\n",
       "2013-11-05  105.01\n",
       "2013-11-06  105.46\n",
       "2013-11-07  103.08"
      ]
     },
     "execution_count": 73,
     "metadata": {},
     "output_type": "execute_result"
    }
   ],
   "source": [
    "oil_data.head()"
   ]
  },
  {
   "cell_type": "markdown",
   "metadata": {},
   "source": [
    "### 美國公債十年利率"
   ]
  },
  {
   "cell_type": "code",
   "execution_count": 127,
   "metadata": {},
   "outputs": [],
   "source": [
    "dgs10_data = pd.read_csv(\"DGS10_1117.csv\") "
   ]
  },
  {
   "cell_type": "code",
   "execution_count": 128,
   "metadata": {},
   "outputs": [],
   "source": [
    "date_dgs10 = []\n",
    "for i in range(0, len(dgs10_data)):\n",
    "    date_dgs10.append(dgs10_data[\"observation_date\"][i].replace('-', ''))"
   ]
  },
  {
   "cell_type": "code",
   "execution_count": 129,
   "metadata": {},
   "outputs": [],
   "source": [
    "dgs10_data[\"DATE\"] = date_dgs10"
   ]
  },
  {
   "cell_type": "code",
   "execution_count": 132,
   "metadata": {},
   "outputs": [],
   "source": [
    "date_dgs10 = []\n",
    "for i in range(len(dgs10_data)):\n",
    "    date_dgs10.append(datetime.datetime.strftime(datetime.datetime.strptime(str(dgs10_data[\"DATE\"][i]), \"%Y%m%d\"), \"%Y-%m-%d\"))\n",
    "dgs10_data.index = date_dgs10"
   ]
  },
  {
   "cell_type": "code",
   "execution_count": 134,
   "metadata": {},
   "outputs": [],
   "source": [
    "dgs10_data = dgs10_data.drop([\"observation_date\"], axis=1)\n",
    "dgs10_data = dgs10_data.drop([\"DATE\"], axis=1)"
   ]
  },
  {
   "cell_type": "code",
   "execution_count": 135,
   "metadata": {},
   "outputs": [
    {
     "data": {
      "text/html": [
       "<div>\n",
       "<style scoped>\n",
       "    .dataframe tbody tr th:only-of-type {\n",
       "        vertical-align: middle;\n",
       "    }\n",
       "\n",
       "    .dataframe tbody tr th {\n",
       "        vertical-align: top;\n",
       "    }\n",
       "\n",
       "    .dataframe thead th {\n",
       "        text-align: right;\n",
       "    }\n",
       "</style>\n",
       "<table border=\"1\" class=\"dataframe\">\n",
       "  <thead>\n",
       "    <tr style=\"text-align: right;\">\n",
       "      <th></th>\n",
       "      <th>DGS10</th>\n",
       "    </tr>\n",
       "  </thead>\n",
       "  <tbody>\n",
       "    <tr>\n",
       "      <th>2013-11-01</th>\n",
       "      <td>2.65</td>\n",
       "    </tr>\n",
       "    <tr>\n",
       "      <th>2013-11-04</th>\n",
       "      <td>2.63</td>\n",
       "    </tr>\n",
       "    <tr>\n",
       "      <th>2013-11-05</th>\n",
       "      <td>2.69</td>\n",
       "    </tr>\n",
       "    <tr>\n",
       "      <th>2013-11-06</th>\n",
       "      <td>2.67</td>\n",
       "    </tr>\n",
       "    <tr>\n",
       "      <th>2013-11-07</th>\n",
       "      <td>2.63</td>\n",
       "    </tr>\n",
       "  </tbody>\n",
       "</table>\n",
       "</div>"
      ],
      "text/plain": [
       "            DGS10\n",
       "2013-11-01   2.65\n",
       "2013-11-04   2.63\n",
       "2013-11-05   2.69\n",
       "2013-11-06   2.67\n",
       "2013-11-07   2.63"
      ]
     },
     "execution_count": 135,
     "metadata": {},
     "output_type": "execute_result"
    }
   ],
   "source": [
    "dgs10_data.head()"
   ]
  },
  {
   "cell_type": "markdown",
   "metadata": {},
   "source": [
    "### 合併"
   ]
  },
  {
   "cell_type": "code",
   "execution_count": 137,
   "metadata": {},
   "outputs": [],
   "source": [
    "basic_data = oil_data"
   ]
  },
  {
   "cell_type": "code",
   "execution_count": 138,
   "metadata": {},
   "outputs": [],
   "source": [
    "basic_data = pd.concat([basic_data, dgs10_data], axis=1, join_axes=[basic_data.index])"
   ]
  },
  {
   "cell_type": "code",
   "execution_count": 145,
   "metadata": {},
   "outputs": [
    {
     "data": {
      "text/html": [
       "<div>\n",
       "<style scoped>\n",
       "    .dataframe tbody tr th:only-of-type {\n",
       "        vertical-align: middle;\n",
       "    }\n",
       "\n",
       "    .dataframe tbody tr th {\n",
       "        vertical-align: top;\n",
       "    }\n",
       "\n",
       "    .dataframe thead th {\n",
       "        text-align: right;\n",
       "    }\n",
       "</style>\n",
       "<table border=\"1\" class=\"dataframe\">\n",
       "  <thead>\n",
       "    <tr style=\"text-align: right;\">\n",
       "      <th></th>\n",
       "      <th>OIL</th>\n",
       "      <th>DGS10</th>\n",
       "    </tr>\n",
       "  </thead>\n",
       "  <tbody>\n",
       "    <tr>\n",
       "      <th>2013-11-01</th>\n",
       "      <td>105.78</td>\n",
       "      <td>2.65</td>\n",
       "    </tr>\n",
       "    <tr>\n",
       "      <th>2013-11-04</th>\n",
       "      <td>104.85</td>\n",
       "      <td>2.63</td>\n",
       "    </tr>\n",
       "    <tr>\n",
       "      <th>2013-11-05</th>\n",
       "      <td>105.01</td>\n",
       "      <td>2.69</td>\n",
       "    </tr>\n",
       "    <tr>\n",
       "      <th>2013-11-06</th>\n",
       "      <td>105.46</td>\n",
       "      <td>2.67</td>\n",
       "    </tr>\n",
       "    <tr>\n",
       "      <th>2013-11-07</th>\n",
       "      <td>103.08</td>\n",
       "      <td>2.63</td>\n",
       "    </tr>\n",
       "  </tbody>\n",
       "</table>\n",
       "</div>"
      ],
      "text/plain": [
       "               OIL  DGS10\n",
       "2013-11-01  105.78   2.65\n",
       "2013-11-04  104.85   2.63\n",
       "2013-11-05  105.01   2.69\n",
       "2013-11-06  105.46   2.67\n",
       "2013-11-07  103.08   2.63"
      ]
     },
     "execution_count": 145,
     "metadata": {},
     "output_type": "execute_result"
    }
   ],
   "source": [
    "basic_data.head()"
   ]
  },
  {
   "cell_type": "markdown",
   "metadata": {},
   "source": [
    "### 整理成週資料"
   ]
  },
  {
   "cell_type": "code",
   "execution_count": 150,
   "metadata": {},
   "outputs": [
    {
     "name": "stdout",
     "output_type": "stream",
     "text": [
      "0\n",
      "1\n"
     ]
    }
   ],
   "source": [
    "revise_merge_data = pd.DataFrame(columns=[\"code\", \"start_date\", \"end_date\", \"open\", \"high\", \"close\", \"low\"])\n",
    "for j in range(2):\n",
    "    revise_data = basic_data.iloc[:,j:j+1]\n",
    "    ## 第一週\n",
    "    range_data = revise_data.loc[\"2013-11-05\":\"2013-11-10\"]\n",
    "    range_data.index = range(len(range_data))\n",
    "    revise_open = range_data.iloc[:,0:1].values[0][0]\n",
    "    revise_close = range_data.iloc[:,0:1].values[len(range_data)-1][0]\n",
    "    if str(revise_open) == \"nan\":\n",
    "        for i in range(1,len(range_data)):\n",
    "            revise_open = revise_data.iloc[:,0:1].values[i][0]\n",
    "    revise_high = revise_open\n",
    "    revise_low = revise_open\n",
    "    for i in range(1,len(range_data)):\n",
    "        if str(revise_close) == \"nan\":\n",
    "            revise_close = revise_data.iloc[:,0:1].values[len(range_data)-1-i][0]\n",
    "        if revise_data.iloc[:,0:1].values[i][0] > revise_high:\n",
    "            revise_high = revise_data.iloc[:,0:1].values[i][0]\n",
    "        if revise_data.iloc[:,0:1].values[i][0] < revise_low:\n",
    "            revise_low = revise_data.iloc[:,0:1].values[i][0]\n",
    "    revisedata_dict = {\n",
    "        \"code\":revise_data.columns[0],\n",
    "        \"start_date\":datetime.datetime.strftime(datetime.datetime.strptime(str(merge_fund_data[\"date\"][0]), \"%Y%m%d\"), \"%Y-%m-%d\"),\n",
    "        \"end_date\":datetime.datetime.strftime(datetime.datetime.strptime(str(merge_fund_data[\"date\"][len(range_data)-1]), \"%Y%m%d\"), \"%Y-%m-%d\"),\n",
    "        \"open\": revise_open,\n",
    "        \"high\": revise_high,\n",
    "        \"close\":revise_close,\n",
    "        \"low\":revise_low\n",
    "    }\n",
    "    revise_merge_data = pd.concat([revise_merge_data, pd.DataFrame(revisedata_dict, index=[0])], axis=0)\n",
    "    ## 後面所有的週\n",
    "    for ix in range(0, 262):\n",
    "        start_date = datetime.datetime.strptime(str(merge_fund_data[\"date\"][6]), \"%Y%m%d\") + datetime.timedelta(days=ix*7)\n",
    "        start_date = datetime.datetime.strftime(start_date, \"%Y-%m-%d\")\n",
    "        end_date = datetime.datetime.strptime(str(merge_fund_data[\"date\"][12]), \"%Y%m%d\") + datetime.timedelta(days=ix*7)\n",
    "        end_date = datetime.datetime.strftime(end_date, \"%Y-%m-%d\")\n",
    "        range_data = revise_data.loc[start_date:end_date]\n",
    "        range_data.index = range(len(range_data))\n",
    "        revise_open = range_data.iloc[:,0:1].values[0][0]\n",
    "        revise_close = range_data.iloc[:,0:1].values[len(range_data)-1][0]\n",
    "        if str(revise_open) == \"nan\":\n",
    "            for i in range(1,len(range_data)):\n",
    "                revise_open = range_data.iloc[:,0:1].values[i][0]\n",
    "        revise_high = revise_open\n",
    "        revise_low = revise_open\n",
    "        for i in range(1,len(range_data)):\n",
    "            if str(revise_close) == \"nan\":\n",
    "                revise_close = range_data.iloc[:,0:1].values[len(range_data)-1-i][0]\n",
    "            if range_data.iloc[:,0:1].values[i][0] > revise_high:\n",
    "                revise_high = range_data.iloc[:,0:1].values[i][0]\n",
    "            if range_data.iloc[:,0:1].values[i][0] < revise_low:\n",
    "                revise_low = range_data.iloc[:,0:1].values[i][0]\n",
    "        revisedata_dict = {\n",
    "            \"code\":revise_data.columns[0],\n",
    "            \"start_date\":start_date,\n",
    "            \"end_date\":end_date,\n",
    "            \"open\": revise_open,\n",
    "            \"high\": revise_high,\n",
    "            \"close\":revise_close,\n",
    "            \"low\":revise_low\n",
    "        }\n",
    "        revise_merge_data = pd.concat([revise_merge_data, pd.DataFrame(revisedata_dict, index=[0])], axis=0)\n",
    "    print(j)"
   ]
  },
  {
   "cell_type": "markdown",
   "metadata": {},
   "source": [
    "# 讀取整理完的資料"
   ]
  },
  {
   "cell_type": "code",
   "execution_count": 44,
   "metadata": {},
   "outputs": [],
   "source": [
    "revise_merge_data = pd.read_csv(\"revise_data.csv\")"
   ]
  },
  {
   "cell_type": "code",
   "execution_count": 45,
   "metadata": {},
   "outputs": [],
   "source": [
    "group_revise_merge_data = revise_merge_data.groupby(\"code\")"
   ]
  },
  {
   "cell_type": "code",
   "execution_count": 46,
   "metadata": {},
   "outputs": [
    {
     "data": {
      "text/html": [
       "<div>\n",
       "<style scoped>\n",
       "    .dataframe tbody tr th:only-of-type {\n",
       "        vertical-align: middle;\n",
       "    }\n",
       "\n",
       "    .dataframe tbody tr th {\n",
       "        vertical-align: top;\n",
       "    }\n",
       "\n",
       "    .dataframe thead th {\n",
       "        text-align: right;\n",
       "    }\n",
       "</style>\n",
       "<table border=\"1\" class=\"dataframe\">\n",
       "  <thead>\n",
       "    <tr style=\"text-align: right;\">\n",
       "      <th></th>\n",
       "      <th>code</th>\n",
       "      <th>start_date</th>\n",
       "      <th>end_date</th>\n",
       "      <th>open</th>\n",
       "      <th>high</th>\n",
       "      <th>close</th>\n",
       "      <th>low</th>\n",
       "    </tr>\n",
       "  </thead>\n",
       "  <tbody>\n",
       "    <tr>\n",
       "      <th>0</th>\n",
       "      <td>UBA17</td>\n",
       "      <td>2013-11-05</td>\n",
       "      <td>2013-11-10</td>\n",
       "      <td>1099.0</td>\n",
       "      <td>1116.0</td>\n",
       "      <td>1108.0</td>\n",
       "      <td>1099.0</td>\n",
       "    </tr>\n",
       "    <tr>\n",
       "      <th>1</th>\n",
       "      <td>UBA17</td>\n",
       "      <td>2013-11-11</td>\n",
       "      <td>2013-11-17</td>\n",
       "      <td>1118.0</td>\n",
       "      <td>1163.0</td>\n",
       "      <td>1163.0</td>\n",
       "      <td>1118.0</td>\n",
       "    </tr>\n",
       "    <tr>\n",
       "      <th>2</th>\n",
       "      <td>UBA17</td>\n",
       "      <td>2013-11-18</td>\n",
       "      <td>2013-11-24</td>\n",
       "      <td>1163.0</td>\n",
       "      <td>1167.0</td>\n",
       "      <td>1167.0</td>\n",
       "      <td>1157.0</td>\n",
       "    </tr>\n",
       "    <tr>\n",
       "      <th>3</th>\n",
       "      <td>UBA17</td>\n",
       "      <td>2013-11-25</td>\n",
       "      <td>2013-12-01</td>\n",
       "      <td>1179.0</td>\n",
       "      <td>1179.0</td>\n",
       "      <td>1179.0</td>\n",
       "      <td>1172.0</td>\n",
       "    </tr>\n",
       "    <tr>\n",
       "      <th>4</th>\n",
       "      <td>UBA17</td>\n",
       "      <td>2013-12-02</td>\n",
       "      <td>2013-12-08</td>\n",
       "      <td>1178.0</td>\n",
       "      <td>1178.0</td>\n",
       "      <td>1157.0</td>\n",
       "      <td>1153.0</td>\n",
       "    </tr>\n",
       "  </tbody>\n",
       "</table>\n",
       "</div>"
      ],
      "text/plain": [
       "    code  start_date    end_date    open    high   close     low\n",
       "0  UBA17  2013-11-05  2013-11-10  1099.0  1116.0  1108.0  1099.0\n",
       "1  UBA17  2013-11-11  2013-11-17  1118.0  1163.0  1163.0  1118.0\n",
       "2  UBA17  2013-11-18  2013-11-24  1163.0  1167.0  1167.0  1157.0\n",
       "3  UBA17  2013-11-25  2013-12-01  1179.0  1179.0  1179.0  1172.0\n",
       "4  UBA17  2013-12-02  2013-12-08  1178.0  1178.0  1157.0  1153.0"
      ]
     },
     "execution_count": 46,
     "metadata": {},
     "output_type": "execute_result"
    }
   ],
   "source": [
    "group_revise_merge_data.get_group(revise_unique_code2[0]).head()"
   ]
  },
  {
   "cell_type": "code",
   "execution_count": 47,
   "metadata": {},
   "outputs": [],
   "source": [
    "basic_data = pd.read_csv(\"revise_mero.csv\")"
   ]
  },
  {
   "cell_type": "code",
   "execution_count": 48,
   "metadata": {},
   "outputs": [],
   "source": [
    "group_basic_data = basic_data.groupby(\"code\")"
   ]
  },
  {
   "cell_type": "code",
   "execution_count": 49,
   "metadata": {},
   "outputs": [
    {
     "data": {
      "text/html": [
       "<div>\n",
       "<style scoped>\n",
       "    .dataframe tbody tr th:only-of-type {\n",
       "        vertical-align: middle;\n",
       "    }\n",
       "\n",
       "    .dataframe tbody tr th {\n",
       "        vertical-align: top;\n",
       "    }\n",
       "\n",
       "    .dataframe thead th {\n",
       "        text-align: right;\n",
       "    }\n",
       "</style>\n",
       "<table border=\"1\" class=\"dataframe\">\n",
       "  <thead>\n",
       "    <tr style=\"text-align: right;\">\n",
       "      <th></th>\n",
       "      <th>code</th>\n",
       "      <th>start_date</th>\n",
       "      <th>end_date</th>\n",
       "      <th>open</th>\n",
       "      <th>high</th>\n",
       "      <th>close</th>\n",
       "      <th>low</th>\n",
       "    </tr>\n",
       "  </thead>\n",
       "  <tbody>\n",
       "    <tr>\n",
       "      <th>0</th>\n",
       "      <td>OIL</td>\n",
       "      <td>2013-11-05</td>\n",
       "      <td>2013-11-08</td>\n",
       "      <td>105.01</td>\n",
       "      <td>105.46</td>\n",
       "      <td>104.29</td>\n",
       "      <td>104.85</td>\n",
       "    </tr>\n",
       "    <tr>\n",
       "      <th>1</th>\n",
       "      <td>OIL</td>\n",
       "      <td>2013-11-11</td>\n",
       "      <td>2013-11-17</td>\n",
       "      <td>105.76</td>\n",
       "      <td>108.29</td>\n",
       "      <td>108.25</td>\n",
       "      <td>105.76</td>\n",
       "    </tr>\n",
       "    <tr>\n",
       "      <th>2</th>\n",
       "      <td>OIL</td>\n",
       "      <td>2013-11-18</td>\n",
       "      <td>2013-11-24</td>\n",
       "      <td>108.80</td>\n",
       "      <td>111.36</td>\n",
       "      <td>111.36</td>\n",
       "      <td>108.27</td>\n",
       "    </tr>\n",
       "    <tr>\n",
       "      <th>3</th>\n",
       "      <td>OIL</td>\n",
       "      <td>2013-11-25</td>\n",
       "      <td>2013-12-01</td>\n",
       "      <td>110.83</td>\n",
       "      <td>112.04</td>\n",
       "      <td>111.07</td>\n",
       "      <td>110.83</td>\n",
       "    </tr>\n",
       "    <tr>\n",
       "      <th>4</th>\n",
       "      <td>OIL</td>\n",
       "      <td>2013-12-02</td>\n",
       "      <td>2013-12-08</td>\n",
       "      <td>111.49</td>\n",
       "      <td>113.27</td>\n",
       "      <td>111.50</td>\n",
       "      <td>111.49</td>\n",
       "    </tr>\n",
       "  </tbody>\n",
       "</table>\n",
       "</div>"
      ],
      "text/plain": [
       "  code  start_date    end_date    open    high   close     low\n",
       "0  OIL  2013-11-05  2013-11-08  105.01  105.46  104.29  104.85\n",
       "1  OIL  2013-11-11  2013-11-17  105.76  108.29  108.25  105.76\n",
       "2  OIL  2013-11-18  2013-11-24  108.80  111.36  111.36  108.27\n",
       "3  OIL  2013-11-25  2013-12-01  110.83  112.04  111.07  110.83\n",
       "4  OIL  2013-12-02  2013-12-08  111.49  113.27  111.50  111.49"
      ]
     },
     "execution_count": 49,
     "metadata": {},
     "output_type": "execute_result"
    }
   ],
   "source": [
    "group_basic_data.get_group(\"OIL\").head()"
   ]
  },
  {
   "cell_type": "markdown",
   "metadata": {},
   "source": [
    "# 訓練、測試集資料"
   ]
  },
  {
   "cell_type": "markdown",
   "metadata": {},
   "source": [
    "### 正規化"
   ]
  },
  {
   "cell_type": "code",
   "execution_count": 157,
   "metadata": {},
   "outputs": [],
   "source": [
    "def normalize(df):\n",
    "    newdf= df.copy()\n",
    "    min_max_scaler = preprocessing.MinMaxScaler()\n",
    "    \n",
    "    newdf['open'] = min_max_scaler.fit_transform(df.open.values.reshape(-1,1))\n",
    "    newdf['high'] = min_max_scaler.fit_transform(df.high.values.reshape(-1,1))\n",
    "    newdf['close'] = min_max_scaler.fit_transform(df.close.values.reshape(-1,1))\n",
    "    newdf['low'] = min_max_scaler.fit_transform(df.low.values.reshape(-1,1))\n",
    "    newdf['RSI'] = min_max_scaler.fit_transform(df.RSI.values.reshape(-1,1))\n",
    "    newdf['MA5'] = min_max_scaler.fit_transform(df.MA5.values.reshape(-1,1))\n",
    "    newdf['MA10'] = min_max_scaler.fit_transform(df.MA10.values.reshape(-1,1))\n",
    "    newdf['MA20'] = min_max_scaler.fit_transform(df.MA20.values.reshape(-1,1))\n",
    "    newdf['EMA'] = min_max_scaler.fit_transform(df.EMA.values.reshape(-1,1))\n",
    "    newdf['CMO'] = min_max_scaler.fit_transform(df.CMO.values.reshape(-1,1))\n",
    "    newdf['MACD'] = min_max_scaler.fit_transform(df.MACD.values.reshape(-1,1))\n",
    "    newdf['ROC'] = min_max_scaler.fit_transform(df.ROC.values.reshape(-1,1))\n",
    "    newdf['WilliamsR'] = min_max_scaler.fit_transform(df.WilliamsR.values.reshape(-1,1))\n",
    "    newdf['CCI'] = min_max_scaler.fit_transform(df.CCI.values.reshape(-1,1))\n",
    "    newdf['DMI'] = min_max_scaler.fit_transform(df.DMI.values.reshape(-1,1))\n",
    "    newdf['oil'] = min_max_scaler.fit_transform(df.oil.values.reshape(-1,1))\n",
    "    newdf['dgs10'] = min_max_scaler.fit_transform(df.dgs10.values.reshape(-1,1))\n",
    "    return(newdf)"
   ]
  },
  {
   "cell_type": "markdown",
   "metadata": {},
   "source": [
    "### 挑出沒有這週的代碼"
   ]
  },
  {
   "cell_type": "code",
   "execution_count": 66,
   "metadata": {},
   "outputs": [],
   "source": [
    "check_date = group_revise_merge_data.get_group(revise_unique_code2[0]).iloc[[len(group_revise_merge_data.get_group(revise_unique_code2[0]))-1]]"
   ]
  },
  {
   "cell_type": "code",
   "execution_count": 67,
   "metadata": {},
   "outputs": [],
   "source": [
    "for i in range(1,490):\n",
    "    check_date = pd.concat([check_date, group_revise_merge_data.get_group(revise_unique_code2[i]).iloc[[len(group_revise_merge_data.get_group(revise_unique_code2[i]))-1]]], axis=0)"
   ]
  },
  {
   "cell_type": "code",
   "execution_count": 68,
   "metadata": {},
   "outputs": [],
   "source": [
    "check_date.index = range(len(check_date))"
   ]
  },
  {
   "cell_type": "code",
   "execution_count": 69,
   "metadata": {},
   "outputs": [],
   "source": [
    "check_date = check_date.dropna()"
   ]
  },
  {
   "cell_type": "code",
   "execution_count": 72,
   "metadata": {},
   "outputs": [],
   "source": [
    "revise_unique_code3 = check_date[\"code\"].values"
   ]
  },
  {
   "cell_type": "code",
   "execution_count": 74,
   "metadata": {},
   "outputs": [
    {
     "data": {
      "text/plain": [
       "486"
      ]
     },
     "execution_count": 74,
     "metadata": {},
     "output_type": "execute_result"
    }
   ],
   "source": [
    "len(revise_unique_code3)"
   ]
  },
  {
   "cell_type": "markdown",
   "metadata": {},
   "source": [
    "### 計算技術指標以及加入總經因子"
   ]
  },
  {
   "cell_type": "code",
   "execution_count": 374,
   "metadata": {},
   "outputs": [],
   "source": [
    "def pick_data_train(code):\n",
    "    fun_data = group_revise_merge_data.get_group(code)\n",
    "    fun_data = fun_data.dropna()\n",
    "    fun_data.index = range(len(fun_data))\n",
    "    fun_data[\"return\"] = (fun_data[\"close\"]-fun_data[\"open\"])/fun_data[\"open\"]\n",
    "    fun_data[\"RSI\"] = talib.RSI(np.array(fun_data[\"close\"]))\n",
    "    fun_data[\"MA5\"] = talib.SMA(np.array(fun_data[\"close\"]),5)\n",
    "    fun_data[\"MA10\"] = talib.SMA(np.array(fun_data[\"close\"]),10)\n",
    "    fun_data[\"MA20\"] = talib.SMA(np.array(fun_data[\"close\"]),20)\n",
    "    fun_data[\"EMA\"] = talib.EMA(np.array(fun_data[\"close\"]))\n",
    "    fun_data[\"CMO\"] = talib.CMO(np.array(fun_data[\"close\"]))\n",
    "    macd, macdsignal, macdhist = talib.MACD(np.array(fun_data[\"close\"]), fastperiod=12, slowperiod=26, signalperiod=20)\n",
    "    fun_data[\"MACD\"] = macdhist\n",
    "    fun_data[\"ROC\"] = talib.ROC(np.array(fun_data[\"close\"]))\n",
    "    fun_data[\"WilliamsR\"] = talib.WILLR(np.array(fun_data[\"high\"]), \n",
    "                                        np.array(fun_data[\"low\"]),\n",
    "                                        np.array(fun_data[\"close\"]))\n",
    "    fun_data[\"CCI\"] = talib.CCI(np.array(fun_data[\"high\"]),\n",
    "                                np.array(fun_data[\"low\"]),\n",
    "                                np.array(fun_data[\"close\"]))\n",
    "    fun_data[\"DMI\"] = talib.ADX(np.array(fun_data[\"high\"]),\n",
    "                                np.array(fun_data[\"low\"]),\n",
    "                                np.array(fun_data[\"close\"]))\n",
    "    \n",
    "    oil_revise_data = group_basic_data.get_group(\"OIL\")[[\"close\"]]\n",
    "    oil_revise_data.columns = [\"oil\"]\n",
    "    dgs10_revise_data = group_basic_data.get_group(\"DGS10\")[[\"close\"]]\n",
    "    dgs10_revise_data.columns = [\"dgs10\"]\n",
    "    dgs10_revise_data.index = range(len(dgs10_revise_data))\n",
    "    fun_data = pd.concat([fun_data, oil_revise_data], axis=1, join_axes=[fun_data.index])\n",
    "    fun_data = pd.concat([fun_data, dgs10_revise_data], axis=1, join_axes=[fun_data.index])\n",
    "    fun_data = fun_data.drop([\"code\", \"start_date\", \"end_date\"], axis=1)\n",
    "    fun_data[\"return\"] = fun_data[\"return\"].shift(-1)\n",
    "    fun_data = fun_data[0:round(len(fun_data)*0.8)]\n",
    "    fun_data = normalize(fun_data.dropna())\n",
    "    fun_data.index = range(len(fun_data))\n",
    "    return(fun_data)"
   ]
  },
  {
   "cell_type": "code",
   "execution_count": 471,
   "metadata": {},
   "outputs": [],
   "source": [
    "def pick_data_test(code):\n",
    "    fun_data = group_revise_merge_data.get_group(code)\n",
    "    fun_data = fun_data.dropna()\n",
    "    fun_data.index = range(len(fun_data))\n",
    "    fun_data[\"return\"] = (fun_data[\"close\"]-fun_data[\"open\"])/fun_data[\"open\"]\n",
    "    fun_data[\"RSI\"] = talib.RSI(np.array(fun_data[\"close\"]))\n",
    "    fun_data[\"MA5\"] = talib.SMA(np.array(fun_data[\"close\"]),5)\n",
    "    fun_data[\"MA10\"] = talib.SMA(np.array(fun_data[\"close\"]),10)\n",
    "    fun_data[\"MA20\"] = talib.SMA(np.array(fun_data[\"close\"]),20)\n",
    "    fun_data[\"EMA\"] = talib.EMA(np.array(fun_data[\"close\"]))\n",
    "    fun_data[\"CMO\"] = talib.CMO(np.array(fun_data[\"close\"]))\n",
    "    macd, macdsignal, macdhist = talib.MACD(np.array(fun_data[\"close\"]), fastperiod=12, slowperiod=26, signalperiod=20)\n",
    "    fun_data[\"MACD\"] = macdhist\n",
    "    fun_data[\"ROC\"] = talib.ROC(np.array(fun_data[\"close\"]))\n",
    "    fun_data[\"WilliamsR\"] = talib.WILLR(np.array(fun_data[\"high\"]), \n",
    "                                        np.array(fun_data[\"low\"]),\n",
    "                                        np.array(fun_data[\"close\"]))\n",
    "    fun_data[\"CCI\"] = talib.CCI(np.array(fun_data[\"high\"]),\n",
    "                                np.array(fun_data[\"low\"]),\n",
    "                                np.array(fun_data[\"close\"]))\n",
    "    fun_data[\"DMI\"] = talib.ADX(np.array(fun_data[\"high\"]),\n",
    "                                np.array(fun_data[\"low\"]),\n",
    "                                np.array(fun_data[\"close\"]))\n",
    "    \n",
    "    oil_revise_data = group_basic_data.get_group(\"OIL\")[[\"close\"]]\n",
    "    oil_revise_data.columns = [\"oil\"]\n",
    "    dgs10_revise_data = group_basic_data.get_group(\"DGS10\")[[\"close\"]]\n",
    "    dgs10_revise_data.columns = [\"dgs10\"]\n",
    "    dgs10_revise_data.index = range(len(dgs10_revise_data))\n",
    "    fun_data = pd.concat([fun_data, oil_revise_data], axis=1, join_axes=[fun_data.index])\n",
    "    fun_data = pd.concat([fun_data, dgs10_revise_data], axis=1, join_axes=[fun_data.index])\n",
    "    fun_data = fun_data.drop([\"code\", \"start_date\", \"end_date\"], axis=1)\n",
    "    fun_data[\"return\"] = fun_data[\"return\"].shift(-1)\n",
    "    fun_data = fun_data[round(len(fun_data)*0.8):len(fun_data)]\n",
    "    fun_data = normalize(fun_data.dropna())\n",
    "    fun_data.index = range(len(fun_data))\n",
    "    return(fun_data)"
   ]
  },
  {
   "cell_type": "code",
   "execution_count": 472,
   "metadata": {},
   "outputs": [],
   "source": [
    "def pick_plot_data(code):\n",
    "    fun_data = group_revise_merge_data.get_group(code)\n",
    "    fun_data = fun_data.dropna()\n",
    "    fun_data.index = range(len(fun_data))\n",
    "    fun_data[\"return\"] = (fun_data[\"close\"]-fun_data[\"open\"])/fun_data[\"open\"]\n",
    "    fun_data[\"RSI\"] = talib.RSI(np.array(fun_data[\"close\"]))\n",
    "    fun_data[\"MA5\"] = talib.SMA(np.array(fun_data[\"close\"]),5)\n",
    "    fun_data[\"MA10\"] = talib.SMA(np.array(fun_data[\"close\"]),10)\n",
    "    fun_data[\"MA20\"] = talib.SMA(np.array(fun_data[\"close\"]),20)\n",
    "    fun_data[\"EMA\"] = talib.EMA(np.array(fun_data[\"close\"]))\n",
    "    fun_data[\"CMO\"] = talib.CMO(np.array(fun_data[\"close\"]))\n",
    "    macd, macdsignal, macdhist = talib.MACD(np.array(fun_data[\"close\"]), fastperiod=12, slowperiod=26, signalperiod=20)\n",
    "    fun_data[\"MACD\"] = macdhist\n",
    "    fun_data[\"ROC\"] = talib.ROC(np.array(fun_data[\"close\"]))\n",
    "    fun_data[\"WilliamsR\"] = talib.WILLR(np.array(fun_data[\"high\"]), \n",
    "                                        np.array(fun_data[\"low\"]),\n",
    "                                        np.array(fun_data[\"close\"]))\n",
    "    fun_data[\"CCI\"] = talib.CCI(np.array(fun_data[\"high\"]),\n",
    "                                np.array(fun_data[\"low\"]),\n",
    "                                np.array(fun_data[\"close\"]))\n",
    "    fun_data[\"DMI\"] = talib.ADX(np.array(fun_data[\"high\"]),\n",
    "                                np.array(fun_data[\"low\"]),\n",
    "                                np.array(fun_data[\"close\"]))\n",
    "    \n",
    "    oil_revise_data = group_basic_data.get_group(\"OIL\")[[\"close\"]]\n",
    "    oil_revise_data.columns = [\"oil\"]\n",
    "    dgs10_revise_data = group_basic_data.get_group(\"DGS10\")[[\"close\"]]\n",
    "    dgs10_revise_data.columns = [\"dgs10\"]\n",
    "    dgs10_revise_data.index = range(len(dgs10_revise_data))\n",
    "    fun_data = pd.concat([fun_data, oil_revise_data], axis=1, join_axes=[fun_data.index])\n",
    "    fun_data = pd.concat([fun_data, dgs10_revise_data], axis=1, join_axes=[fun_data.index])\n",
    "    fun_data[\"return\"] = fun_data[\"return\"].shift(-1)\n",
    "    fun_data = fun_data[round(len(fun_data)*0.8):len(fun_data)]\n",
    "    fun_data = fun_data.dropna()\n",
    "    fun_data = fun_data[[\"code\", \"start_date\", \"end_date\", \"open\", \"close\"]]\n",
    "    fun_data.index = range(len(fun_data))\n",
    "    return(fun_data)"
   ]
  },
  {
   "cell_type": "code",
   "execution_count": 376,
   "metadata": {},
   "outputs": [
    {
     "data": {
      "text/html": [
       "<div>\n",
       "<style scoped>\n",
       "    .dataframe tbody tr th:only-of-type {\n",
       "        vertical-align: middle;\n",
       "    }\n",
       "\n",
       "    .dataframe tbody tr th {\n",
       "        vertical-align: top;\n",
       "    }\n",
       "\n",
       "    .dataframe thead th {\n",
       "        text-align: right;\n",
       "    }\n",
       "</style>\n",
       "<table border=\"1\" class=\"dataframe\">\n",
       "  <thead>\n",
       "    <tr style=\"text-align: right;\">\n",
       "      <th></th>\n",
       "      <th>open</th>\n",
       "      <th>high</th>\n",
       "      <th>close</th>\n",
       "      <th>low</th>\n",
       "      <th>return</th>\n",
       "      <th>RSI</th>\n",
       "      <th>MA5</th>\n",
       "      <th>MA10</th>\n",
       "      <th>MA20</th>\n",
       "      <th>EMA</th>\n",
       "      <th>CMO</th>\n",
       "      <th>MACD</th>\n",
       "      <th>ROC</th>\n",
       "      <th>WilliamsR</th>\n",
       "      <th>CCI</th>\n",
       "      <th>DMI</th>\n",
       "      <th>oil</th>\n",
       "      <th>dgs10</th>\n",
       "    </tr>\n",
       "  </thead>\n",
       "  <tbody>\n",
       "    <tr>\n",
       "      <th>0</th>\n",
       "      <td>0.188352</td>\n",
       "      <td>0.185464</td>\n",
       "      <td>0.233533</td>\n",
       "      <td>0.219277</td>\n",
       "      <td>0.012559</td>\n",
       "      <td>0.707236</td>\n",
       "      <td>0.149246</td>\n",
       "      <td>0.083743</td>\n",
       "      <td>0.000000</td>\n",
       "      <td>0.000000</td>\n",
       "      <td>0.707236</td>\n",
       "      <td>0.577637</td>\n",
       "      <td>0.520516</td>\n",
       "      <td>0.935897</td>\n",
       "      <td>0.798156</td>\n",
       "      <td>0.056994</td>\n",
       "      <td>0.993525</td>\n",
       "      <td>0.672043</td>\n",
       "    </tr>\n",
       "    <tr>\n",
       "      <th>1</th>\n",
       "      <td>0.204461</td>\n",
       "      <td>0.199248</td>\n",
       "      <td>0.252695</td>\n",
       "      <td>0.225301</td>\n",
       "      <td>-0.001548</td>\n",
       "      <td>0.747637</td>\n",
       "      <td>0.162477</td>\n",
       "      <td>0.093429</td>\n",
       "      <td>0.010272</td>\n",
       "      <td>0.008886</td>\n",
       "      <td>0.747637</td>\n",
       "      <td>0.583963</td>\n",
       "      <td>0.591320</td>\n",
       "      <td>1.000000</td>\n",
       "      <td>0.848808</td>\n",
       "      <td>0.087468</td>\n",
       "      <td>1.000000</td>\n",
       "      <td>0.655914</td>\n",
       "    </tr>\n",
       "    <tr>\n",
       "      <th>2</th>\n",
       "      <td>0.226766</td>\n",
       "      <td>0.213033</td>\n",
       "      <td>0.252695</td>\n",
       "      <td>0.246988</td>\n",
       "      <td>-0.043310</td>\n",
       "      <td>0.747637</td>\n",
       "      <td>0.171209</td>\n",
       "      <td>0.102071</td>\n",
       "      <td>0.021470</td>\n",
       "      <td>0.017199</td>\n",
       "      <td>0.747637</td>\n",
       "      <td>0.583547</td>\n",
       "      <td>0.580381</td>\n",
       "      <td>0.884211</td>\n",
       "      <td>0.862668</td>\n",
       "      <td>0.128237</td>\n",
       "      <td>0.975423</td>\n",
       "      <td>0.629032</td>\n",
       "    </tr>\n",
       "    <tr>\n",
       "      <th>3</th>\n",
       "      <td>0.228005</td>\n",
       "      <td>0.203008</td>\n",
       "      <td>0.189222</td>\n",
       "      <td>0.186747</td>\n",
       "      <td>-0.040032</td>\n",
       "      <td>0.522825</td>\n",
       "      <td>0.168828</td>\n",
       "      <td>0.099836</td>\n",
       "      <td>0.028122</td>\n",
       "      <td>0.018936</td>\n",
       "      <td>0.522825</td>\n",
       "      <td>0.544969</td>\n",
       "      <td>0.472414</td>\n",
       "      <td>0.326316</td>\n",
       "      <td>0.514572</td>\n",
       "      <td>0.086919</td>\n",
       "      <td>0.912436</td>\n",
       "      <td>0.580645</td>\n",
       "    </tr>\n",
       "    <tr>\n",
       "      <th>4</th>\n",
       "      <td>0.173482</td>\n",
       "      <td>0.147870</td>\n",
       "      <td>0.143713</td>\n",
       "      <td>0.144578</td>\n",
       "      <td>-0.044204</td>\n",
       "      <td>0.400504</td>\n",
       "      <td>0.153215</td>\n",
       "      <td>0.092088</td>\n",
       "      <td>0.030226</td>\n",
       "      <td>0.016232</td>\n",
       "      <td>0.400504</td>\n",
       "      <td>0.489848</td>\n",
       "      <td>0.418327</td>\n",
       "      <td>0.000000</td>\n",
       "      <td>0.213839</td>\n",
       "      <td>0.088708</td>\n",
       "      <td>0.880942</td>\n",
       "      <td>0.505376</td>\n",
       "    </tr>\n",
       "  </tbody>\n",
       "</table>\n",
       "</div>"
      ],
      "text/plain": [
       "       open      high     close       low    return       RSI       MA5  \\\n",
       "0  0.188352  0.185464  0.233533  0.219277  0.012559  0.707236  0.149246   \n",
       "1  0.204461  0.199248  0.252695  0.225301 -0.001548  0.747637  0.162477   \n",
       "2  0.226766  0.213033  0.252695  0.246988 -0.043310  0.747637  0.171209   \n",
       "3  0.228005  0.203008  0.189222  0.186747 -0.040032  0.522825  0.168828   \n",
       "4  0.173482  0.147870  0.143713  0.144578 -0.044204  0.400504  0.153215   \n",
       "\n",
       "       MA10      MA20       EMA       CMO      MACD       ROC  WilliamsR  \\\n",
       "0  0.083743  0.000000  0.000000  0.707236  0.577637  0.520516   0.935897   \n",
       "1  0.093429  0.010272  0.008886  0.747637  0.583963  0.591320   1.000000   \n",
       "2  0.102071  0.021470  0.017199  0.747637  0.583547  0.580381   0.884211   \n",
       "3  0.099836  0.028122  0.018936  0.522825  0.544969  0.472414   0.326316   \n",
       "4  0.092088  0.030226  0.016232  0.400504  0.489848  0.418327   0.000000   \n",
       "\n",
       "        CCI       DMI       oil     dgs10  \n",
       "0  0.798156  0.056994  0.993525  0.672043  \n",
       "1  0.848808  0.087468  1.000000  0.655914  \n",
       "2  0.862668  0.128237  0.975423  0.629032  \n",
       "3  0.514572  0.086919  0.912436  0.580645  \n",
       "4  0.213839  0.088708  0.880942  0.505376  "
      ]
     },
     "execution_count": 376,
     "metadata": {},
     "output_type": "execute_result"
    }
   ],
   "source": [
    "pick_train_test_data(revise_unique_code3[0]).head()"
   ]
  },
  {
   "cell_type": "code",
   "execution_count": 377,
   "metadata": {},
   "outputs": [
    {
     "data": {
      "text/html": [
       "<div>\n",
       "<style scoped>\n",
       "    .dataframe tbody tr th:only-of-type {\n",
       "        vertical-align: middle;\n",
       "    }\n",
       "\n",
       "    .dataframe tbody tr th {\n",
       "        vertical-align: top;\n",
       "    }\n",
       "\n",
       "    .dataframe thead th {\n",
       "        text-align: right;\n",
       "    }\n",
       "</style>\n",
       "<table border=\"1\" class=\"dataframe\">\n",
       "  <thead>\n",
       "    <tr style=\"text-align: right;\">\n",
       "      <th></th>\n",
       "      <th>open</th>\n",
       "      <th>high</th>\n",
       "      <th>close</th>\n",
       "      <th>low</th>\n",
       "      <th>return</th>\n",
       "      <th>RSI</th>\n",
       "      <th>MA5</th>\n",
       "      <th>MA10</th>\n",
       "      <th>MA20</th>\n",
       "      <th>EMA</th>\n",
       "      <th>CMO</th>\n",
       "      <th>MACD</th>\n",
       "      <th>ROC</th>\n",
       "      <th>WilliamsR</th>\n",
       "      <th>CCI</th>\n",
       "      <th>DMI</th>\n",
       "      <th>oil</th>\n",
       "      <th>dgs10</th>\n",
       "    </tr>\n",
       "  </thead>\n",
       "  <tbody>\n",
       "    <tr>\n",
       "      <th>0</th>\n",
       "      <td>0.482490</td>\n",
       "      <td>0.381356</td>\n",
       "      <td>0.272</td>\n",
       "      <td>0.280</td>\n",
       "      <td>0.009254</td>\n",
       "      <td>0.554165</td>\n",
       "      <td>0.309368</td>\n",
       "      <td>0.007223</td>\n",
       "      <td>0.000000</td>\n",
       "      <td>0.000000</td>\n",
       "      <td>0.554165</td>\n",
       "      <td>0.888590</td>\n",
       "      <td>0.977341</td>\n",
       "      <td>0.617117</td>\n",
       "      <td>0.556276</td>\n",
       "      <td>0.578944</td>\n",
       "      <td>0.000000</td>\n",
       "      <td>0.011236</td>\n",
       "    </tr>\n",
       "    <tr>\n",
       "      <th>1</th>\n",
       "      <td>0.272374</td>\n",
       "      <td>0.237288</td>\n",
       "      <td>0.324</td>\n",
       "      <td>0.280</td>\n",
       "      <td>0.030442</td>\n",
       "      <td>0.597924</td>\n",
       "      <td>0.315904</td>\n",
       "      <td>0.086677</td>\n",
       "      <td>0.040855</td>\n",
       "      <td>0.045656</td>\n",
       "      <td>0.597924</td>\n",
       "      <td>0.828680</td>\n",
       "      <td>0.854598</td>\n",
       "      <td>0.675676</td>\n",
       "      <td>0.520903</td>\n",
       "      <td>0.575861</td>\n",
       "      <td>0.094197</td>\n",
       "      <td>0.000000</td>\n",
       "    </tr>\n",
       "    <tr>\n",
       "      <th>2</th>\n",
       "      <td>0.319066</td>\n",
       "      <td>0.427966</td>\n",
       "      <td>0.520</td>\n",
       "      <td>0.296</td>\n",
       "      <td>0.007812</td>\n",
       "      <td>0.745773</td>\n",
       "      <td>0.319172</td>\n",
       "      <td>0.174157</td>\n",
       "      <td>0.099275</td>\n",
       "      <td>0.116194</td>\n",
       "      <td>0.745773</td>\n",
       "      <td>0.839678</td>\n",
       "      <td>0.876253</td>\n",
       "      <td>0.896396</td>\n",
       "      <td>0.604076</td>\n",
       "      <td>0.603955</td>\n",
       "      <td>0.135828</td>\n",
       "      <td>0.033708</td>\n",
       "    </tr>\n",
       "    <tr>\n",
       "      <th>3</th>\n",
       "      <td>0.517510</td>\n",
       "      <td>0.478814</td>\n",
       "      <td>0.568</td>\n",
       "      <td>0.488</td>\n",
       "      <td>-0.006037</td>\n",
       "      <td>0.778366</td>\n",
       "      <td>0.333333</td>\n",
       "      <td>0.246388</td>\n",
       "      <td>0.164948</td>\n",
       "      <td>0.188996</td>\n",
       "      <td>0.778366</td>\n",
       "      <td>0.850178</td>\n",
       "      <td>0.817899</td>\n",
       "      <td>0.950450</td>\n",
       "      <td>0.664312</td>\n",
       "      <td>0.637361</td>\n",
       "      <td>0.105971</td>\n",
       "      <td>0.044944</td>\n",
       "    </tr>\n",
       "    <tr>\n",
       "      <th>4</th>\n",
       "      <td>0.634241</td>\n",
       "      <td>0.622881</td>\n",
       "      <td>0.588</td>\n",
       "      <td>0.608</td>\n",
       "      <td>0.013143</td>\n",
       "      <td>0.792276</td>\n",
       "      <td>0.344227</td>\n",
       "      <td>0.312199</td>\n",
       "      <td>0.230622</td>\n",
       "      <td>0.259940</td>\n",
       "      <td>0.792276</td>\n",
       "      <td>0.850278</td>\n",
       "      <td>0.793962</td>\n",
       "      <td>0.875536</td>\n",
       "      <td>0.730792</td>\n",
       "      <td>0.687533</td>\n",
       "      <td>0.103869</td>\n",
       "      <td>0.011236</td>\n",
       "    </tr>\n",
       "  </tbody>\n",
       "</table>\n",
       "</div>"
      ],
      "text/plain": [
       "       open      high  close    low    return       RSI       MA5      MA10  \\\n",
       "0  0.482490  0.381356  0.272  0.280  0.009254  0.554165  0.309368  0.007223   \n",
       "1  0.272374  0.237288  0.324  0.280  0.030442  0.597924  0.315904  0.086677   \n",
       "2  0.319066  0.427966  0.520  0.296  0.007812  0.745773  0.319172  0.174157   \n",
       "3  0.517510  0.478814  0.568  0.488 -0.006037  0.778366  0.333333  0.246388   \n",
       "4  0.634241  0.622881  0.588  0.608  0.013143  0.792276  0.344227  0.312199   \n",
       "\n",
       "       MA20       EMA       CMO      MACD       ROC  WilliamsR       CCI  \\\n",
       "0  0.000000  0.000000  0.554165  0.888590  0.977341   0.617117  0.556276   \n",
       "1  0.040855  0.045656  0.597924  0.828680  0.854598   0.675676  0.520903   \n",
       "2  0.099275  0.116194  0.745773  0.839678  0.876253   0.896396  0.604076   \n",
       "3  0.164948  0.188996  0.778366  0.850178  0.817899   0.950450  0.664312   \n",
       "4  0.230622  0.259940  0.792276  0.850278  0.793962   0.875536  0.730792   \n",
       "\n",
       "        DMI       oil     dgs10  \n",
       "0  0.578944  0.000000  0.011236  \n",
       "1  0.575861  0.094197  0.000000  \n",
       "2  0.603955  0.135828  0.033708  \n",
       "3  0.637361  0.105971  0.044944  \n",
       "4  0.687533  0.103869  0.011236  "
      ]
     },
     "execution_count": 377,
     "metadata": {},
     "output_type": "execute_result"
    }
   ],
   "source": [
    "pick_data_test(revise_unique_code3[0]).head()"
   ]
  },
  {
   "cell_type": "markdown",
   "metadata": {},
   "source": [
    "### 建立訓練集與測試集資料"
   ]
  },
  {
   "cell_type": "code",
   "execution_count": 392,
   "metadata": {},
   "outputs": [],
   "source": [
    "def buildTrain():\n",
    "    pastDay = 30\n",
    "    X_train, Y_train = [], []\n",
    "    for j in range(0, len(revise_unique_code3)):\n",
    "        fun_data = pick_data_train(revise_unique_code3[j])\n",
    "        return_data = fun_data[[\"return\"]]\n",
    "        fun_data = fun_data.drop([\"return\"], axis=1)\n",
    "        for i in range(len(fun_data)-pastDay):\n",
    "            X_train.append(np.array(fun_data.iloc[i:i+pastDay]))\n",
    "            Y_train.append(np.array(return_data[\"return\"][i+pastDay-1]))\n",
    "    return np.array(X_train), np.array(Y_train)"
   ]
  },
  {
   "cell_type": "code",
   "execution_count": 403,
   "metadata": {},
   "outputs": [],
   "source": [
    "random_code_5 = random.sample(range(len(revise_unique_code3)), 5)"
   ]
  },
  {
   "cell_type": "code",
   "execution_count": 404,
   "metadata": {},
   "outputs": [],
   "source": [
    "random_code_5 = revise_unique_code3[random_code_5]"
   ]
  },
  {
   "cell_type": "code",
   "execution_count": 424,
   "metadata": {},
   "outputs": [],
   "source": [
    "def buildTest(code):\n",
    "    pastDay = 30\n",
    "    X_test, Y_test = [], []\n",
    "    fun_data = pick_data_test(code)\n",
    "    return_data = fun_data[[\"return\"]]\n",
    "    fun_data = fun_data.drop([\"return\"], axis=1)\n",
    "    for i in range(len(fun_data)-pastDay):\n",
    "        X_test.append(np.array(fun_data.iloc[i:i+pastDay]))\n",
    "        Y_test.append(np.array(return_data[\"return\"][i+pastDay-1]))\n",
    "    return np.array(X_test), np.array(Y_test)"
   ]
  },
  {
   "cell_type": "markdown",
   "metadata": {},
   "source": [
    "### 將資料打亂"
   ]
  },
  {
   "cell_type": "code",
   "execution_count": 384,
   "metadata": {},
   "outputs": [],
   "source": [
    "def shuffle(X, Y):\n",
    "    np.random.seed(87)\n",
    "    randomList = np.arange(X.shape[0])\n",
    "    np.random.shuffle(randomList)\n",
    "    return(X[randomList], Y[randomList])"
   ]
  },
  {
   "cell_type": "markdown",
   "metadata": {},
   "source": [
    "# 建構模型"
   ]
  },
  {
   "cell_type": "code",
   "execution_count": 385,
   "metadata": {},
   "outputs": [],
   "source": [
    "## 首先在面前加了一層64個神經元的 LSTM layer，並都加上了Dropout層來防止資料過度擬合（overfitting）。\n",
    "## 最後再加上兩層有不同數目神經元的全連結層來得到只有1維數值的輸出結果，也就是預測股價\n",
    "\n",
    "def LSTM_model(shape):\n",
    "    model = Sequential()\n",
    "    model.add(LSTM(64, input_length=shape[1], input_dim=shape[2]))\n",
    "    model.add(Dropout(0.3))\n",
    "    model.add(Dense(16, kernel_initializer=\"uniform\", activation='relu'))\n",
    "    model.add(Dense(1, kernel_initializer=\"uniform\", activation='linear'))\n",
    "    model.compile(loss=\"mse\", optimizer=\"adam\", metrics=['accuracy'])\n",
    "    model.summary()\n",
    "    return model"
   ]
  },
  {
   "cell_type": "markdown",
   "metadata": {},
   "source": [
    "# Final\n",
    "- 建立訓練集資料\n",
    "- 建立測試集資料\n",
    "- 打散訓練集資料\n",
    "- 建立模型\n",
    "- 模型訓練\n",
    "- 預測"
   ]
  },
  {
   "cell_type": "code",
   "execution_count": 386,
   "metadata": {},
   "outputs": [],
   "source": [
    "x_train, y_train = buildTrain()"
   ]
  },
  {
   "cell_type": "code",
   "execution_count": 387,
   "metadata": {},
   "outputs": [],
   "source": [
    "x_train, y_train = shuffle(x_train, y_train)"
   ]
  },
  {
   "cell_type": "code",
   "execution_count": 388,
   "metadata": {},
   "outputs": [
    {
     "name": "stderr",
     "output_type": "stream",
     "text": [
      "C:\\ProgramData\\Anaconda3\\lib\\site-packages\\ipykernel_launcher.py:6: UserWarning: The `input_dim` and `input_length` arguments in recurrent layers are deprecated. Use `input_shape` instead.\n",
      "  \n",
      "C:\\ProgramData\\Anaconda3\\lib\\site-packages\\ipykernel_launcher.py:6: UserWarning: Update your `LSTM` call to the Keras 2 API: `LSTM(64, input_shape=(30, 17))`\n",
      "  \n"
     ]
    },
    {
     "name": "stdout",
     "output_type": "stream",
     "text": [
      "_________________________________________________________________\n",
      "Layer (type)                 Output Shape              Param #   \n",
      "=================================================================\n",
      "lstm_6 (LSTM)                (None, 64)                20992     \n",
      "_________________________________________________________________\n",
      "dropout_6 (Dropout)          (None, 64)                0         \n",
      "_________________________________________________________________\n",
      "dense_11 (Dense)             (None, 16)                1040      \n",
      "_________________________________________________________________\n",
      "dense_12 (Dense)             (None, 1)                 17        \n",
      "=================================================================\n",
      "Total params: 22,049\n",
      "Trainable params: 22,049\n",
      "Non-trainable params: 0\n",
      "_________________________________________________________________\n"
     ]
    }
   ],
   "source": [
    "model = LSTM_model(x_train.shape)"
   ]
  },
  {
   "cell_type": "code",
   "execution_count": 389,
   "metadata": {},
   "outputs": [
    {
     "name": "stdout",
     "output_type": "stream",
     "text": [
      "Train on 50693 samples, validate on 12674 samples\n",
      "Epoch 1/100\n",
      "50693/50693 [==============================] - 38s 756us/step - loss: 2.6390e-04 - acc: 0.0836 - val_loss: 2.5989e-04 - val_acc: 0.0880\n",
      "Epoch 2/100\n",
      "50693/50693 [==============================] - 34s 669us/step - loss: 2.5998e-04 - acc: 0.0836 - val_loss: 2.5509e-04 - val_acc: 0.0880\n",
      "Epoch 3/100\n",
      "50693/50693 [==============================] - 34s 666us/step - loss: 2.5778e-04 - acc: 0.0836 - val_loss: 2.5354e-04 - val_acc: 0.0880\n",
      "Epoch 4/100\n",
      "50693/50693 [==============================] - 34s 666us/step - loss: 2.5637e-04 - acc: 0.0836 - val_loss: 2.5169e-04 - val_acc: 0.0880\n",
      "Epoch 5/100\n",
      "50693/50693 [==============================] - 34s 667us/step - loss: 2.5491e-04 - acc: 0.0836 - val_loss: 2.4935e-04 - val_acc: 0.0880\n",
      "Epoch 6/100\n",
      "50693/50693 [==============================] - 34s 664us/step - loss: 2.5227e-04 - acc: 0.0836 - val_loss: 2.4591e-04 - val_acc: 0.0880\n",
      "Epoch 7/100\n",
      "50693/50693 [==============================] - 34s 667us/step - loss: 2.4919e-04 - acc: 0.0836 - val_loss: 2.4444e-04 - val_acc: 0.0880\n",
      "Epoch 8/100\n",
      "50693/50693 [==============================] - 34s 668us/step - loss: 2.4308e-04 - acc: 0.0836 - val_loss: 2.3510e-04 - val_acc: 0.0880\n",
      "Epoch 9/100\n",
      "50693/50693 [==============================] - 34s 664us/step - loss: 2.3248e-04 - acc: 0.0836 - val_loss: 2.2609e-04 - val_acc: 0.0880\n",
      "Epoch 10/100\n",
      "50693/50693 [==============================] - 34s 667us/step - loss: 2.2619e-04 - acc: 0.0836 - val_loss: 2.1652e-04 - val_acc: 0.0880\n",
      "Epoch 11/100\n",
      "50693/50693 [==============================] - 34s 666us/step - loss: 2.1872e-04 - acc: 0.0836 - val_loss: 2.1342e-04 - val_acc: 0.0880\n",
      "Epoch 12/100\n",
      "50693/50693 [==============================] - 34s 664us/step - loss: 2.1273e-04 - acc: 0.0836 - val_loss: 2.1245e-04 - val_acc: 0.0880\n",
      "Epoch 13/100\n",
      "50693/50693 [==============================] - 34s 664us/step - loss: 2.0716e-04 - acc: 0.0836 - val_loss: 2.0280e-04 - val_acc: 0.0880\n",
      "Epoch 14/100\n",
      "50693/50693 [==============================] - 34s 664us/step - loss: 2.0319e-04 - acc: 0.0836 - val_loss: 2.0079e-04 - val_acc: 0.0880\n",
      "Epoch 15/100\n",
      "50693/50693 [==============================] - 34s 666us/step - loss: 1.9885e-04 - acc: 0.0836 - val_loss: 1.9697e-04 - val_acc: 0.0880\n",
      "Epoch 16/100\n",
      "50693/50693 [==============================] - 34s 668us/step - loss: 1.9495e-04 - acc: 0.0836 - val_loss: 1.9274e-04 - val_acc: 0.0880\n",
      "Epoch 17/100\n",
      "50693/50693 [==============================] - 34s 666us/step - loss: 1.9052e-04 - acc: 0.0836 - val_loss: 1.8707e-04 - val_acc: 0.0880\n",
      "Epoch 18/100\n",
      "50693/50693 [==============================] - 34s 664us/step - loss: 1.8808e-04 - acc: 0.0836 - val_loss: 1.8370e-04 - val_acc: 0.0880\n",
      "Epoch 19/100\n",
      "50693/50693 [==============================] - 34s 665us/step - loss: 1.8396e-04 - acc: 0.0836 - val_loss: 1.7952e-04 - val_acc: 0.0880\n",
      "Epoch 20/100\n",
      "50693/50693 [==============================] - 34s 665us/step - loss: 1.7993e-04 - acc: 0.0836 - val_loss: 1.8424e-04 - val_acc: 0.0880\n",
      "Epoch 21/100\n",
      "50693/50693 [==============================] - 34s 665us/step - loss: 1.7960e-04 - acc: 0.0836 - val_loss: 1.7585e-04 - val_acc: 0.0880\n",
      "Epoch 22/100\n",
      "50693/50693 [==============================] - 34s 663us/step - loss: 1.7549e-04 - acc: 0.0836 - val_loss: 1.7491e-04 - val_acc: 0.0880\n",
      "Epoch 23/100\n",
      "50693/50693 [==============================] - 34s 665us/step - loss: 1.8165e-04 - acc: 0.0836 - val_loss: 1.7152e-04 - val_acc: 0.0880\n",
      "Epoch 24/100\n",
      "50693/50693 [==============================] - 34s 664us/step - loss: 1.7002e-04 - acc: 0.0836 - val_loss: 1.6973e-04 - val_acc: 0.0880\n",
      "Epoch 25/100\n",
      "50693/50693 [==============================] - 34s 662us/step - loss: 1.6853e-04 - acc: 0.0836 - val_loss: 1.6779e-04 - val_acc: 0.0880\n",
      "Epoch 26/100\n",
      "50693/50693 [==============================] - 34s 663us/step - loss: 1.6559e-04 - acc: 0.0836 - val_loss: 1.6552e-04 - val_acc: 0.0880\n",
      "Epoch 27/100\n",
      "50693/50693 [==============================] - 34s 664us/step - loss: 1.6282e-04 - acc: 0.0836 - val_loss: 1.6167e-04 - val_acc: 0.0880\n",
      "Epoch 28/100\n",
      "50693/50693 [==============================] - 34s 667us/step - loss: 1.5996e-04 - acc: 0.0836 - val_loss: 1.5989e-04 - val_acc: 0.0880\n",
      "Epoch 29/100\n",
      "50693/50693 [==============================] - 34s 661us/step - loss: 1.6285e-04 - acc: 0.0836 - val_loss: 1.5961e-04 - val_acc: 0.0880\n",
      "Epoch 30/100\n",
      "50693/50693 [==============================] - 34s 668us/step - loss: 1.5637e-04 - acc: 0.0836 - val_loss: 1.5857e-04 - val_acc: 0.0880\n",
      "Epoch 31/100\n",
      "50693/50693 [==============================] - 34s 661us/step - loss: 1.5244e-04 - acc: 0.0836 - val_loss: 1.5880e-04 - val_acc: 0.0880\n",
      "Epoch 32/100\n",
      "50693/50693 [==============================] - 34s 664us/step - loss: 1.5158e-04 - acc: 0.0836 - val_loss: 1.5681e-04 - val_acc: 0.0880\n",
      "Epoch 33/100\n",
      "50693/50693 [==============================] - 34s 661us/step - loss: 1.4957e-04 - acc: 0.0836 - val_loss: 1.5078e-04 - val_acc: 0.0880\n",
      "Epoch 34/100\n",
      "50693/50693 [==============================] - 34s 666us/step - loss: 1.4896e-04 - acc: 0.0836 - val_loss: 1.5624e-04 - val_acc: 0.0880\n",
      "Epoch 35/100\n",
      "50693/50693 [==============================] - 34s 662us/step - loss: 1.4660e-04 - acc: 0.0836 - val_loss: 1.4916e-04 - val_acc: 0.0880\n",
      "Epoch 36/100\n",
      "50693/50693 [==============================] - 34s 663us/step - loss: 1.4477e-04 - acc: 0.0836 - val_loss: 1.4739e-04 - val_acc: 0.0880\n",
      "Epoch 37/100\n",
      "50693/50693 [==============================] - 34s 667us/step - loss: 1.4348e-04 - acc: 0.0836 - val_loss: 1.4651e-04 - val_acc: 0.0880\n",
      "Epoch 38/100\n",
      "50693/50693 [==============================] - 34s 666us/step - loss: 1.4238e-04 - acc: 0.0836 - val_loss: 1.4649e-04 - val_acc: 0.0880\n",
      "Epoch 39/100\n",
      "50693/50693 [==============================] - 34s 666us/step - loss: 1.4012e-04 - acc: 0.0836 - val_loss: 1.4205e-04 - val_acc: 0.0880\n",
      "Epoch 40/100\n",
      "50693/50693 [==============================] - 34s 663us/step - loss: 1.3730e-04 - acc: 0.0836 - val_loss: 1.4207e-04 - val_acc: 0.0880\n",
      "Epoch 41/100\n",
      "50693/50693 [==============================] - 34s 664us/step - loss: 1.3591e-04 - acc: 0.0836 - val_loss: 1.4098e-04 - val_acc: 0.0880\n",
      "Epoch 42/100\n",
      "50693/50693 [==============================] - 34s 666us/step - loss: 1.3580e-04 - acc: 0.0836 - val_loss: 1.3798e-04 - val_acc: 0.0880\n",
      "Epoch 43/100\n",
      "50693/50693 [==============================] - 34s 666us/step - loss: 1.3442e-04 - acc: 0.0836 - val_loss: 1.3809e-04 - val_acc: 0.0880\n",
      "Epoch 44/100\n",
      "50693/50693 [==============================] - 34s 665us/step - loss: 1.3379e-04 - acc: 0.0836 - val_loss: 1.3582e-04 - val_acc: 0.0880\n",
      "Epoch 45/100\n",
      "50693/50693 [==============================] - 34s 666us/step - loss: 1.3092e-04 - acc: 0.0836 - val_loss: 1.3879e-04 - val_acc: 0.0880\n",
      "Epoch 46/100\n",
      "50693/50693 [==============================] - 34s 667us/step - loss: 1.2909e-04 - acc: 0.0836 - val_loss: 1.3177e-04 - val_acc: 0.0880\n",
      "Epoch 47/100\n",
      "50693/50693 [==============================] - 34s 664us/step - loss: 1.2736e-04 - acc: 0.0836 - val_loss: 1.3565e-04 - val_acc: 0.0880\n",
      "Epoch 48/100\n",
      "50693/50693 [==============================] - 34s 663us/step - loss: 1.2741e-04 - acc: 0.0836 - val_loss: 1.3069e-04 - val_acc: 0.0880\n",
      "Epoch 49/100\n",
      "50693/50693 [==============================] - 34s 662us/step - loss: 1.2568e-04 - acc: 0.0836 - val_loss: 1.3419e-04 - val_acc: 0.0880\n",
      "Epoch 50/100\n",
      "50693/50693 [==============================] - 34s 662us/step - loss: 1.3060e-04 - acc: 0.0836 - val_loss: 1.3332e-04 - val_acc: 0.0880\n",
      "Epoch 51/100\n",
      "50693/50693 [==============================] - 34s 665us/step - loss: 1.2513e-04 - acc: 0.0836 - val_loss: 1.3256e-04 - val_acc: 0.0880\n",
      "Epoch 52/100\n",
      "50693/50693 [==============================] - 34s 666us/step - loss: 1.2271e-04 - acc: 0.0836 - val_loss: 1.2950e-04 - val_acc: 0.0880\n",
      "Epoch 53/100\n",
      "50693/50693 [==============================] - 34s 665us/step - loss: 1.2297e-04 - acc: 0.0836 - val_loss: 1.3481e-04 - val_acc: 0.0880\n",
      "Epoch 54/100\n",
      "50693/50693 [==============================] - 34s 667us/step - loss: 1.3833e-04 - acc: 0.0836 - val_loss: 1.3752e-04 - val_acc: 0.0880\n",
      "Epoch 55/100\n",
      "50693/50693 [==============================] - 34s 669us/step - loss: 1.2570e-04 - acc: 0.0836 - val_loss: 1.2815e-04 - val_acc: 0.0880\n"
     ]
    },
    {
     "name": "stdout",
     "output_type": "stream",
     "text": [
      "Epoch 56/100\n",
      "50693/50693 [==============================] - 34s 665us/step - loss: 1.1977e-04 - acc: 0.0836 - val_loss: 1.3042e-04 - val_acc: 0.0880\n",
      "Epoch 57/100\n",
      "50693/50693 [==============================] - 34s 665us/step - loss: 1.1705e-04 - acc: 0.0836 - val_loss: 1.4068e-04 - val_acc: 0.0880\n",
      "Epoch 58/100\n",
      "50693/50693 [==============================] - 34s 663us/step - loss: 1.1917e-04 - acc: 0.0836 - val_loss: 1.2568e-04 - val_acc: 0.0880\n",
      "Epoch 59/100\n",
      "50693/50693 [==============================] - 34s 663us/step - loss: 1.1769e-04 - acc: 0.0836 - val_loss: 1.2745e-04 - val_acc: 0.0880\n",
      "Epoch 60/100\n",
      "50693/50693 [==============================] - 34s 668us/step - loss: 1.1868e-04 - acc: 0.0836 - val_loss: 1.3270e-04 - val_acc: 0.0880\n",
      "Epoch 61/100\n",
      "50693/50693 [==============================] - 34s 667us/step - loss: 1.2141e-04 - acc: 0.0836 - val_loss: 1.2310e-04 - val_acc: 0.0880\n",
      "Epoch 62/100\n",
      "50693/50693 [==============================] - 34s 668us/step - loss: 1.1535e-04 - acc: 0.0836 - val_loss: 1.3120e-04 - val_acc: 0.0880\n",
      "Epoch 63/100\n",
      "50693/50693 [==============================] - 34s 670us/step - loss: 1.2000e-04 - acc: 0.0836 - val_loss: 1.2446e-04 - val_acc: 0.0880\n",
      "Epoch 64/100\n",
      "50693/50693 [==============================] - 34s 664us/step - loss: 1.1307e-04 - acc: 0.0836 - val_loss: 1.2516e-04 - val_acc: 0.0880\n",
      "Epoch 65/100\n",
      "50693/50693 [==============================] - 34s 678us/step - loss: 1.1325e-04 - acc: 0.0836 - val_loss: 1.2242e-04 - val_acc: 0.0880\n",
      "Epoch 66/100\n",
      "50693/50693 [==============================] - 36s 719us/step - loss: 1.1194e-04 - acc: 0.0836 - val_loss: 1.2297e-04 - val_acc: 0.0880\n",
      "Epoch 67/100\n",
      "50693/50693 [==============================] - 35s 688us/step - loss: 1.0904e-04 - acc: 0.0836 - val_loss: 1.4646e-04 - val_acc: 0.0880\n",
      "Epoch 68/100\n",
      "50693/50693 [==============================] - 35s 687us/step - loss: 1.1144e-04 - acc: 0.0836 - val_loss: 1.2604e-04 - val_acc: 0.0880\n",
      "Epoch 69/100\n",
      "50693/50693 [==============================] - 35s 687us/step - loss: 1.2329e-04 - acc: 0.0836 - val_loss: 1.2830e-04 - val_acc: 0.0880\n",
      "Epoch 70/100\n",
      "50693/50693 [==============================] - 35s 693us/step - loss: 1.1567e-04 - acc: 0.0836 - val_loss: 1.2295e-04 - val_acc: 0.0880\n",
      "Epoch 71/100\n",
      "50693/50693 [==============================] - 36s 708us/step - loss: 1.1257e-04 - acc: 0.0836 - val_loss: 1.2392e-04 - val_acc: 0.0880\n",
      "Epoch 72/100\n",
      "50693/50693 [==============================] - 35s 699us/step - loss: 1.0648e-04 - acc: 0.0836 - val_loss: 1.2531e-04 - val_acc: 0.0880\n",
      "Epoch 73/100\n",
      "50693/50693 [==============================] - 35s 698us/step - loss: 1.0544e-04 - acc: 0.0836 - val_loss: 1.3078e-04 - val_acc: 0.0880\n",
      "Epoch 74/100\n",
      "50693/50693 [==============================] - 36s 703us/step - loss: 1.0598e-04 - acc: 0.0836 - val_loss: 1.2515e-04 - val_acc: 0.0880\n",
      "Epoch 75/100\n",
      "50693/50693 [==============================] - 35s 697us/step - loss: 1.0581e-04 - acc: 0.0836 - val_loss: 1.2579e-04 - val_acc: 0.0880\n"
     ]
    }
   ],
   "source": [
    "train_history = model.fit(x_train,\n",
    "                          y_train,\n",
    "                          batch_size=128,\n",
    "                          epochs=100,\n",
    "                          validation_split=0.2,\n",
    "                          verbose=1, \n",
    "                          callbacks=[EarlyStopping(patience=10)])"
   ]
  },
  {
   "cell_type": "code",
   "execution_count": 536,
   "metadata": {},
   "outputs": [
    {
     "data": {
      "text/plain": [
       "<matplotlib.legend.Legend at 0x762c9978>"
      ]
     },
     "execution_count": 536,
     "metadata": {},
     "output_type": "execute_result"
    },
    {
     "data": {
      "image/png": "[encoded data removed]",
      "text/plain": [
       "<Figure size 432x288 with 1 Axes>"
      ]
     },
     "metadata": {},
     "output_type": "display_data"
    }
   ],
   "source": [
    "plt.plot(train_history.history['val_loss'], label = \"val_loss\")\n",
    "plt.legend(loc='upper left')"
   ]
  },
  {
   "cell_type": "markdown",
   "metadata": {},
   "source": [
    "### 畫圖"
   ]
  },
  {
   "cell_type": "code",
   "execution_count": 575,
   "metadata": {},
   "outputs": [],
   "source": [
    "x_test, y_test = buildTest(random_code_5[0])\n",
    "pred = model.predict(x_test)\n",
    "plot_data = pick_plot_data(random_code_5[0])[len(pick_plot_data(random_code_5[0]))-len(x_test):len(pick_plot_data(random_code_5[0]))]\n",
    "plot_data[\"return\"] = pick_data_test(random_code_5[0])[\"return\"][len(pick_plot_data(random_code_5[0]))-len(x_test)-1:len(pick_plot_data(random_code_5[0]))-1].values\n",
    "plot_data.index = range(len(plot_data))\n",
    "plot_data[\"pred\"] = pred\n",
    "plot_data[\"pred_check\"] = (plot_data[\"close\"]-plot_data[\"open\"])/plot_data[\"open\"]\n",
    "plot_data[\"pred_close\"] = plot_data[\"close\"]*(1+plot_data[\"pred\"])"
   ]
  },
  {
   "cell_type": "code",
   "execution_count": 576,
   "metadata": {},
   "outputs": [
    {
     "data": {
      "text/plain": [
       "<matplotlib.legend.Legend at 0x8a0e6f28>"
      ]
     },
     "execution_count": 576,
     "metadata": {},
     "output_type": "execute_result"
    },
    {
     "data": {
      "image/png": "[encoded data removed]",
      "text/plain": [
       "<Figure size 432x288 with 1 Axes>"
      ]
     },
     "metadata": {},
     "output_type": "display_data"
    }
   ],
   "source": [
    "plt.plot(plot_data[\"close\"], label='close')\n",
    "plt.plot(plot_data[\"pred_close\"], linestyle=':', c='blue', label='pred_close')\n",
    "plt.title(str(plot_data[\"code\"].values[0]))\n",
    "plt.legend()"
   ]
  },
  {
   "cell_type": "code",
   "execution_count": 577,
   "metadata": {},
   "outputs": [],
   "source": [
    "x_test, y_test = buildTest(random_code_5[1])\n",
    "pred = model.predict(x_test)\n",
    "plot_data = pick_plot_data(random_code_5[1])[len(pick_plot_data(random_code_5[1]))-len(x_test):len(pick_plot_data(random_code_5[1]))]\n",
    "plot_data[\"return\"] = pick_data_test(random_code_5[1])[\"return\"][len(pick_plot_data(random_code_5[1]))-len(x_test)-1:len(pick_plot_data(random_code_5[1]))-1].values\n",
    "plot_data.index = range(len(plot_data))\n",
    "plot_data[\"pred\"] = pred\n",
    "plot_data[\"pred_check\"] = (plot_data[\"close\"]-plot_data[\"open\"])/plot_data[\"open\"]\n",
    "plot_data[\"pred_close\"] = plot_data[\"close\"]*(1+plot_data[\"pred\"])"
   ]
  },
  {
   "cell_type": "code",
   "execution_count": 578,
   "metadata": {},
   "outputs": [
    {
     "data": {
      "text/plain": [
       "<matplotlib.legend.Legend at 0x8a152d68>"
      ]
     },
     "execution_count": 578,
     "metadata": {},
     "output_type": "execute_result"
    },
    {
     "data": {
      "image/png": "[encoded data removed]",
      "text/plain": [
       "<Figure size 432x288 with 1 Axes>"
      ]
     },
     "metadata": {},
     "output_type": "display_data"
    }
   ],
   "source": [
    "plt.plot(plot_data[\"close\"], label='close')\n",
    "plt.plot(plot_data[\"pred_close\"], linestyle=':', c='blue', label='pred_close')\n",
    "plt.title(str(plot_data[\"code\"].values[0]))\n",
    "plt.legend()"
   ]
  },
  {
   "cell_type": "code",
   "execution_count": 579,
   "metadata": {},
   "outputs": [],
   "source": [
    "x_test, y_test = buildTest(random_code_5[2])\n",
    "pred = model.predict(x_test)\n",
    "plot_data = pick_plot_data(random_code_5[2])[len(pick_plot_data(random_code_5[2]))-len(x_test):len(pick_plot_data(random_code_5[2]))]\n",
    "plot_data[\"return\"] = pick_data_test(random_code_5[2])[\"return\"][len(pick_plot_data(random_code_5[2]))-len(x_test)-1:len(pick_plot_data(random_code_5[2]))-1].values\n",
    "plot_data.index = range(len(plot_data))\n",
    "plot_data[\"pred\"] = pred\n",
    "plot_data[\"pred_check\"] = (plot_data[\"close\"]-plot_data[\"open\"])/plot_data[\"open\"]\n",
    "plot_data[\"pred_close\"] = plot_data[\"close\"]*(1+plot_data[\"pred\"])"
   ]
  },
  {
   "cell_type": "code",
   "execution_count": 580,
   "metadata": {},
   "outputs": [
    {
     "data": {
      "text/plain": [
       "<matplotlib.legend.Legend at 0x8a1a5198>"
      ]
     },
     "execution_count": 580,
     "metadata": {},
     "output_type": "execute_result"
    },
    {
     "data": {
      "image/png": "[encoded data removed]",
      "text/plain": [
       "<Figure size 432x288 with 1 Axes>"
      ]
     },
     "metadata": {},
     "output_type": "display_data"
    }
   ],
   "source": [
    "plt.plot(plot_data[\"close\"], label='close')\n",
    "plt.plot(plot_data[\"pred_close\"], linestyle=':', c='blue', label='pred_close')\n",
    "plt.title(str(plot_data[\"code\"].values[0]))\n",
    "plt.legend()"
   ]
  },
  {
   "cell_type": "code",
   "execution_count": 581,
   "metadata": {},
   "outputs": [],
   "source": [
    "x_test, y_test = buildTest(random_code_5[3])\n",
    "pred = model.predict(x_test)\n",
    "plot_data = pick_plot_data(random_code_5[3])[len(pick_plot_data(random_code_5[3]))-len(x_test):len(pick_plot_data(random_code_5[3]))]\n",
    "plot_data[\"return\"] = pick_data_test(random_code_5[3])[\"return\"][len(pick_plot_data(random_code_5[3]))-len(x_test)-1:len(pick_plot_data(random_code_5[3]))-1].values\n",
    "plot_data.index = range(len(plot_data))\n",
    "plot_data[\"pred\"] = pred\n",
    "plot_data[\"pred_check\"] = (plot_data[\"close\"]-plot_data[\"open\"])/plot_data[\"open\"]\n",
    "plot_data[\"pred_close\"] = plot_data[\"close\"]*(1+plot_data[\"pred\"])"
   ]
  },
  {
   "cell_type": "code",
   "execution_count": 582,
   "metadata": {},
   "outputs": [
    {
     "data": {
      "text/plain": [
       "<matplotlib.legend.Legend at 0x8a218b38>"
      ]
     },
     "execution_count": 582,
     "metadata": {},
     "output_type": "execute_result"
    },
    {
     "data": {
      "image/png": "[encoded data removed]",
      "text/plain": [
       "<Figure size 432x288 with 1 Axes>"
      ]
     },
     "metadata": {},
     "output_type": "display_data"
    }
   ],
   "source": [
    "plt.plot(plot_data[\"close\"], label='close')\n",
    "plt.plot(plot_data[\"pred_close\"], linestyle=':', c='blue', label='pred_close')\n",
    "plt.title(str(plot_data[\"code\"].values[0]))\n",
    "plt.legend()"
   ]
  },
  {
   "cell_type": "code",
   "execution_count": 583,
   "metadata": {},
   "outputs": [],
   "source": [
    "x_test, y_test = buildTest(random_code_5[4])\n",
    "pred = model.predict(x_test)\n",
    "plot_data = pick_plot_data(random_code_5[4])[len(pick_plot_data(random_code_5[4]))-len(x_test):len(pick_plot_data(random_code_5[4]))]\n",
    "plot_data[\"return\"] = pick_data_test(random_code_5[4])[\"return\"][len(pick_plot_data(random_code_5[4]))-len(x_test)-1:len(pick_plot_data(random_code_5[4]))-1].values\n",
    "plot_data.index = range(len(plot_data))\n",
    "plot_data[\"pred\"] = pred\n",
    "plot_data[\"pred_check\"] = (plot_data[\"close\"]-plot_data[\"open\"])/plot_data[\"open\"]\n",
    "plot_data[\"pred_close\"] = plot_data[\"close\"]*(1+plot_data[\"pred\"])"
   ]
  },
  {
   "cell_type": "code",
   "execution_count": 584,
   "metadata": {},
   "outputs": [
    {
     "data": {
      "text/plain": [
       "<matplotlib.legend.Legend at 0x8a29fc50>"
      ]
     },
     "execution_count": 584,
     "metadata": {},
     "output_type": "execute_result"
    },
    {
     "data": {
      "image/png": "[encoded data removed]",
      "text/plain": [
       "<Figure size 432x288 with 1 Axes>"
      ]
     },
     "metadata": {},
     "output_type": "display_data"
    }
   ],
   "source": [
    "plt.plot(plot_data[\"close\"], label='close')\n",
    "plt.plot(plot_data[\"pred_close\"], linestyle=':', c='blue', label='pred_close')\n",
    "plt.title(str(plot_data[\"code\"].values[0]))\n",
    "plt.legend()"
   ]
  },
  {
   "cell_type": "code",
   "execution_count": 586,
   "metadata": {},
   "outputs": [],
   "source": [
    "for i in range(len(random_code_5)):\n",
    "    x_test, y_test = buildTest(random_code_5[i])\n",
    "    pred = model.predict(x_test)\n",
    "    plot_data = pick_plot_data(random_code_5[i])[len(pick_plot_data(random_code_5[i]))-len(x_test):len(pick_plot_data(random_code_5[i]))]\n",
    "    plot_data[\"return\"] = pick_data_test(random_code_5[i])[\"return\"][len(pick_plot_data(random_code_5[i]))-len(x_test)-1:len(pick_plot_data(random_code_5[i]))-1].values\n",
    "    plot_data.index = range(len(plot_data))\n",
    "    plot_data[\"pred\"] = pred\n",
    "    plot_data[\"pred_check\"] = (plot_data[\"close\"]-plot_data[\"open\"])/plot_data[\"open\"]\n",
    "    plot_data[\"pred_close\"] = plot_data[\"close\"]*(1+plot_data[\"pred\"])\n",
    "    \n",
    "    plt.plot(plot_data[\"close\"], label='close')\n",
    "    plt.plot(plot_data[\"pred_close\"], linestyle=':', c='blue', label='pred_close')\n",
    "    plt.title(str(plot_data[\"code\"].values[0]))\n",
    "    plt.legend()\n",
    "    plt.savefig(str(plot_data[\"code\"].values[0]))\n",
    "    plt.close('all')"
   ]
  },
  {
   "cell_type": "code",
   "execution_count": null,
   "metadata": {},
   "outputs": [],
   "source": []
  }
 ],
 "metadata": {
  "kernelspec": {
   "display_name": "Python 3",
   "language": "python",
   "name": "python3"
  },
  "language_info": {
   "codemirror_mode": {
    "name": "ipython",
    "version": 3
   },
   "file_extension": ".py",
   "mimetype": "text/x-python",
   "name": "python",
   "nbconvert_exporter": "python",
   "pygments_lexer": "ipython3",
   "version": "3.6.5"
  }
 },
 "nbformat": 4,
 "nbformat_minor": 2
}
